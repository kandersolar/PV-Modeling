{
 "cells": [
  {
   "cell_type": "code",
   "execution_count": 1,
   "id": "b9263c71",
   "metadata": {},
   "outputs": [],
   "source": [
    "%run PVModel_functions.ipynb"
   ]
  },
  {
   "cell_type": "code",
   "execution_count": 2,
   "id": "27464d86",
   "metadata": {},
   "outputs": [],
   "source": [
    "#This cell imports all the necessary packages & module data\n",
    "import pandas as pd \n",
    "import numpy as np\n",
    "import matplotlib as mpl\n",
    "import matplotlib.pyplot as plt\n",
    "import seaborn as sns\n",
    "\n",
    "import datatools\n",
    "import datetime\n",
    "import pvlib\n",
    "import math\n",
    "import statistics\n",
    "\n",
    "%matplotlib inline \n",
    "mpl.rcParams['font.size']=12\n",
    "mpl.rcParams['lines.linewidth']=1\n",
    "mpl.rcParams['xtick.labelsize']=10\n",
    "#mpl.rcParams['font.weight']='bold'\n",
    "mpl.rcParams['axes.titlesize']=22\n",
    "sns.set(rc={'figure.figsize':(12,7)})\n",
    "sns.set_style('whitegrid')"
   ]
  },
  {
   "cell_type": "code",
   "execution_count": 3,
   "id": "416a0a76",
   "metadata": {},
   "outputs": [],
   "source": [
    "#identify module names \n",
    "mod_names = 'LG', 'Panasonic', 'Can270', 'Can275', 'HanQPlus', 'HanQPeak', 'MissionSolar', 'Jinko'\n",
    "\n",
    "#read in previously generated data\n",
    "inputs = pd.read_csv('datagen.csv')\n",
    "inputs.index = inputs.Time\n",
    "inputs.index = pd.to_datetime(inputs.index)"
   ]
  },
  {
   "cell_type": "code",
   "execution_count": 5,
   "id": "d978045c",
   "metadata": {},
   "outputs": [],
   "source": [
    "#creating a df of system specific values\n",
    "\n",
    "mod_data = {'LG': [18,1.686, 1.016, 24.229, 7.182],\n",
    "        'Panasonic': [18.5, 1.59, 1.053, 24.614, 7.878],\n",
    "        'Can270': [18.2, 1.65, 0.992, 31.088, 4.865],\n",
    "        'Can275': [18.2, 1.65, 0.992, 28.825, 4.452],\n",
    "        'HanQPlus': [18.8, 1.67, 1, 21.767, 6.585],\n",
    "        'HanQPeak': [18.8, 1.67, 1, 30.536, 5.019],\n",
    "        'MissionSolar': [18.2, 1.664, 0.999, 22.678, 6.352],\n",
    "        'Jinko': [19, 1.65, 0.992, 27.308, 4.946]}\n",
    " \n",
    "# Creates pandas DataFrame.\n",
    "mod_coeffs = pd.DataFrame(mod_data, index=['Mass', 'Length', 'Width', 'U0', 'U1'])\n"
   ]
  },
  {
   "cell_type": "code",
   "execution_count": 8,
   "id": "b170642f",
   "metadata": {},
   "outputs": [],
   "source": [
    "#Generate an empty df to store appended results\n",
    "results = []"
   ]
  },
  {
   "cell_type": "code",
   "execution_count": 9,
   "id": "77dbb81d",
   "metadata": {},
   "outputs": [
    {
     "name": "stdout",
     "output_type": "stream",
     "text": [
      "Starting Temperature Models\n",
      "SAPM complete\n",
      "Faiman complete\n",
      "Finished LG\n",
      "Starting Temperature Models\n",
      "SAPM complete\n",
      "Faiman complete\n",
      "Finished Panasonic\n"
     ]
    },
    {
     "name": "stderr",
     "output_type": "stream",
     "text": [
      "C:\\Users\\lmdevil\\Anaconda3\\envs\\PVModel\\lib\\site-packages\\pvlib\\temperature.py:976: RuntimeWarning: invalid value encountered in true_divide\n",
      "  smoothed = numerator / denominator\n",
      "C:\\Users\\lmdevil\\Anaconda3\\envs\\PVModel\\lib\\site-packages\\pvlib\\temperature.py:976: RuntimeWarning: invalid value encountered in true_divide\n",
      "  smoothed = numerator / denominator\n",
      "C:\\Users\\lmdevil\\Anaconda3\\envs\\PVModel\\lib\\site-packages\\pvlib\\temperature.py:976: RuntimeWarning: invalid value encountered in true_divide\n",
      "  smoothed = numerator / denominator\n",
      "C:\\Users\\lmdevil\\Anaconda3\\envs\\PVModel\\lib\\site-packages\\pvlib\\temperature.py:976: RuntimeWarning: invalid value encountered in true_divide\n",
      "  smoothed = numerator / denominator\n",
      "C:\\Users\\lmdevil\\Anaconda3\\envs\\PVModel\\lib\\site-packages\\pvlib\\temperature.py:976: RuntimeWarning: invalid value encountered in true_divide\n",
      "  smoothed = numerator / denominator\n"
     ]
    },
    {
     "name": "stdout",
     "output_type": "stream",
     "text": [
      "Starting Temperature Models\n",
      "SAPM complete\n",
      "Faiman complete\n",
      "Finished Can270\n",
      "Starting Temperature Models\n",
      "SAPM complete\n",
      "Faiman complete\n",
      "Finished Can275\n"
     ]
    },
    {
     "name": "stderr",
     "output_type": "stream",
     "text": [
      "C:\\Users\\lmdevil\\Anaconda3\\envs\\PVModel\\lib\\site-packages\\pvlib\\temperature.py:976: RuntimeWarning: invalid value encountered in true_divide\n",
      "  smoothed = numerator / denominator\n",
      "C:\\Users\\lmdevil\\Anaconda3\\envs\\PVModel\\lib\\site-packages\\pvlib\\temperature.py:976: RuntimeWarning: invalid value encountered in true_divide\n",
      "  smoothed = numerator / denominator\n",
      "C:\\Users\\lmdevil\\Anaconda3\\envs\\PVModel\\lib\\site-packages\\pvlib\\temperature.py:976: RuntimeWarning: invalid value encountered in true_divide\n",
      "  smoothed = numerator / denominator\n",
      "C:\\Users\\lmdevil\\Anaconda3\\envs\\PVModel\\lib\\site-packages\\pvlib\\temperature.py:976: RuntimeWarning: invalid value encountered in true_divide\n",
      "  smoothed = numerator / denominator\n",
      "C:\\Users\\lmdevil\\Anaconda3\\envs\\PVModel\\lib\\site-packages\\pvlib\\temperature.py:976: RuntimeWarning: invalid value encountered in true_divide\n",
      "  smoothed = numerator / denominator\n"
     ]
    },
    {
     "name": "stdout",
     "output_type": "stream",
     "text": [
      "Starting Temperature Models\n",
      "SAPM complete\n",
      "Faiman complete\n",
      "Finished HanQPlus\n",
      "Starting Temperature Models\n",
      "SAPM complete\n",
      "Faiman complete\n",
      "Finished HanQPeak\n"
     ]
    },
    {
     "name": "stderr",
     "output_type": "stream",
     "text": [
      "C:\\Users\\lmdevil\\Anaconda3\\envs\\PVModel\\lib\\site-packages\\pvlib\\temperature.py:976: RuntimeWarning: invalid value encountered in true_divide\n",
      "  smoothed = numerator / denominator\n",
      "C:\\Users\\lmdevil\\Anaconda3\\envs\\PVModel\\lib\\site-packages\\pvlib\\temperature.py:976: RuntimeWarning: invalid value encountered in true_divide\n",
      "  smoothed = numerator / denominator\n",
      "C:\\Users\\lmdevil\\Anaconda3\\envs\\PVModel\\lib\\site-packages\\pvlib\\temperature.py:976: RuntimeWarning: invalid value encountered in true_divide\n",
      "  smoothed = numerator / denominator\n",
      "C:\\Users\\lmdevil\\Anaconda3\\envs\\PVModel\\lib\\site-packages\\pvlib\\temperature.py:976: RuntimeWarning: invalid value encountered in true_divide\n",
      "  smoothed = numerator / denominator\n",
      "C:\\Users\\lmdevil\\Anaconda3\\envs\\PVModel\\lib\\site-packages\\pvlib\\temperature.py:976: RuntimeWarning: invalid value encountered in true_divide\n",
      "  smoothed = numerator / denominator\n"
     ]
    },
    {
     "name": "stdout",
     "output_type": "stream",
     "text": [
      "Starting Temperature Models\n",
      "SAPM complete\n",
      "Faiman complete\n",
      "Finished MissionSolar\n",
      "Starting Temperature Models\n",
      "SAPM complete\n",
      "Faiman complete\n",
      "Finished Jinko\n"
     ]
    },
    {
     "name": "stderr",
     "output_type": "stream",
     "text": [
      "C:\\Users\\lmdevil\\Anaconda3\\envs\\PVModel\\lib\\site-packages\\pvlib\\temperature.py:976: RuntimeWarning: invalid value encountered in true_divide\n",
      "  smoothed = numerator / denominator\n"
     ]
    }
   ],
   "source": [
    "for mod_name in mod_names:    \n",
    "\n",
    "    module = mod_coeffs[mod_name]\n",
    "    start = '2021-06-01 00:00:00-07:00'\n",
    "    end = '2021-06-15 00:00:00-07:00'\n",
    "    m_u = (module['Mass'])/((module['Length'])*(module['Width']))  \n",
    "    \n",
    "    mod_inputs = inputs.loc[inputs['System']==mod_name]\n",
    "    mod_inputs = inputs.loc[~inputs.index.duplicated(), :]\n",
    "    daterng_all = pd.date_range(start=start, end=end, freq=\"T\")\n",
    "    mod_inputs = mod_inputs.sort_index().reindex(daterng_all.sort_values(),method= 'pad')\n",
    "\n",
    "   \n",
    "    # -----------------------------------------------------------------------------------------------------------------\n",
    "\n",
    "    print('Starting Temperature Models')\n",
    "    \n",
    "    #sapm_module\n",
    "    temperature_model_parameters = pvlib.temperature.TEMPERATURE_MODEL_PARAMETERS['sapm']['open_rack_glass_polymer']\n",
    "    mod_sapm = pvlib.temperature.sapm_module(poa_global=mod_inputs['poa_global'], temp_air=mod_inputs['amb_temp'], wind_speed=mod_inputs['wind_speed'],\n",
    "                            a=temperature_model_parameters['a'], b=temperature_model_parameters['b']).to_frame()\n",
    "    mod_sapm.rename(columns = {0 : 'Modeled Temperature'}, inplace = True)\n",
    "\n",
    "    mod_sapm['Model'] = 'SAPM - SS'\n",
    "    mod_sapm['Mod Temp Str 1'] = mod_inputs['Mod Temp Str 1']\n",
    "    mod_sapm['Mod Temp Str 2'] = mod_inputs['Mod Temp Str 2']\n",
    "    mod_sapm['Mod Temp Str 3'] = mod_inputs['Mod Temp Str 3']\n",
    "    mod_sapm['Mod Temp Str 4'] = mod_inputs['Mod Temp Str 4']\n",
    "    mod_sapm['TmStamp'] = mod_sapm.index\n",
    "    mod_sapm['System'] = mod_name\n",
    "    results.append(mod_sapm)\n",
    "\n",
    "    mod_trans_sapm = pvlib.temperature.prilliman(temp_cell = mod_sapm['Modeled Temperature'], wind_speed=mod_inputs['wind_speed'], unit_mass=m_u, coefficients=np.array([.0046,4.5537e-4,-2.2586e-4,-1.5661e-5])).to_frame()\n",
    "    mod_trans_sapm.rename(columns = {0 : 'Modeled Temperature'}, inplace = True)\n",
    "    mod_trans_sapm['Model'] = 'SAPM - Transient'\n",
    "    mod_trans_sapm['Mod Temp Str 1'] = mod_inputs['Mod Temp Str 1']\n",
    "    mod_trans_sapm['Mod Temp Str 2'] = mod_inputs['Mod Temp Str 2']\n",
    "    mod_trans_sapm['Mod Temp Str 3'] = mod_inputs['Mod Temp Str 3']\n",
    "    mod_trans_sapm['Mod Temp Str 4'] = mod_inputs['Mod Temp Str 4']\n",
    "    mod_trans_sapm['TmStamp'] = mod_trans_sapm.index\n",
    "    mod_trans_sapm['System'] = mod_name\n",
    "    results.append(mod_trans_sapm)\n",
    "    \n",
    "    print('SAPM complete')\n",
    "    \n",
    "    # -----------------------------------------------------------------------------------------------------------------\n",
    "\n",
    "        #faiman\n",
    "    temp_faiman = pvlib.temperature.faiman(poa_global=mod_inputs['poa_global'], temp_air=mod_inputs['amb_temp'], wind_speed=mod_inputs['wind_speed'],\n",
    "                           u0=module['U0'], u1=module['U1']).to_frame()\n",
    "    temp_faiman.rename(columns = {0 : 'Modeled Temperature'}, inplace = True)\n",
    "    temp_faiman['Model']='Faiman - SS'\n",
    "    temp_faiman['Mod Temp Str 1'] = mod_inputs['Mod Temp Str 1']\n",
    "    temp_faiman['Mod Temp Str 2'] = mod_inputs['Mod Temp Str 2']\n",
    "    temp_faiman['Mod Temp Str 3'] = mod_inputs['Mod Temp Str 3']\n",
    "    temp_faiman['Mod Temp Str 4'] = mod_inputs['Mod Temp Str 4']\n",
    "    temp_faiman['TmStamp']=temp_faiman.index\n",
    "    temp_faiman['System'] = mod_name\n",
    "    results.append(temp_faiman)\n",
    "\n",
    "    temp_trans_faiman = pvlib.temperature.prilliman(temp_cell = temp_faiman['Modeled Temperature'], wind_speed=mod_inputs['wind_speed'], unit_mass=m_u, coefficients=np.array([.0046,4.5537e-4,-2.2586e-4,-1.5661e-5])).to_frame()\n",
    "    temp_trans_faiman.rename(columns = {0 : 'Modeled Temperature'}, inplace = True)\n",
    "    temp_trans_faiman['Model']='Faiman - Transient'\n",
    "    temp_trans_faiman['Mod Temp Str 1'] = mod_inputs['Mod Temp Str 1']\n",
    "    temp_trans_faiman['Mod Temp Str 2'] = mod_inputs['Mod Temp Str 2']\n",
    "    temp_trans_faiman['Mod Temp Str 3'] = mod_inputs['Mod Temp Str 3']\n",
    "    temp_trans_faiman['Mod Temp Str 4'] = mod_inputs['Mod Temp Str 4']\n",
    "    temp_trans_faiman['TmStamp'] = temp_trans_faiman.index\n",
    "    temp_trans_faiman['System'] = mod_name\n",
    "    results.append(temp_trans_faiman)\n",
    "    print('Faiman complete')\n",
    "    \n",
    "    print('Finished ' + mod_name)\n",
    "    # -----------------------------------------------------------------------------------------------------------------\n",
    "    del mod_inputs"
   ]
  },
  {
   "cell_type": "code",
   "execution_count": 10,
   "id": "53b3f1d1",
   "metadata": {},
   "outputs": [],
   "source": [
    "#Concatenate all of the results from every system with every model\n",
    "results = pd.concat(results, ignore_index=True)\n",
    "results.index = results.TmStamp"
   ]
  },
  {
   "cell_type": "code",
   "execution_count": 11,
   "id": "148babbf",
   "metadata": {},
   "outputs": [],
   "source": [
    "#Find the average measured temperature value\n",
    "results['Mean Temperature'] = (results['Mod Temp Str 1']+results['Mod Temp Str 2']+results['Mod Temp Str 3']+results['Mod Temp Str 4'])/4\n",
    "#Find the difference (in degC) between the modeled and average measured temperature\n",
    "results['Difference'] = (results['Modeled Temperature'] - results['Mean Temperature'])"
   ]
  },
  {
   "cell_type": "code",
   "execution_count": 12,
   "id": "c017303a",
   "metadata": {},
   "outputs": [
    {
     "data": {
      "text/plain": [
       "<matplotlib.legend.Legend at 0x2b14988f100>"
      ]
     },
     "execution_count": 12,
     "metadata": {},
     "output_type": "execute_result"
    },
    {
     "data": {
      "image/png": "[encoded data removed]",
      "text/plain": [
       "<Figure size 864x504 with 1 Axes>"
      ]
     },
     "metadata": {},
     "output_type": "display_data"
    }
   ],
   "source": [
    "ax = sns.boxplot(x='System', y='Difference', hue='Model',data = results, showmeans=True, showfliers=False,palette='Paired')\n",
    "#plt.ylim(-10,10)\n",
    "plt.ylabel('Difference (deg C)')\n",
    "#plt.title('Steady State model error against Mean RTD')\n",
    "plt.legend(loc='center left', bbox_to_anchor=(1, 0.5))"
   ]
  },
  {
   "cell_type": "code",
   "execution_count": null,
   "id": "a67c2fed",
   "metadata": {},
   "outputs": [],
   "source": []
  }
 ],
 "metadata": {
  "kernelspec": {
   "display_name": "PVModel",
   "language": "python",
   "name": "pvmodel"
  },
  "language_info": {
   "codemirror_mode": {
    "name": "ipython",
    "version": 3
   },
   "file_extension": ".py",
   "mimetype": "text/x-python",
   "name": "python",
   "nbconvert_exporter": "python",
   "pygments_lexer": "ipython3",
   "version": "3.8.13"
  }
 },
 "nbformat": 4,
 "nbformat_minor": 5
}
