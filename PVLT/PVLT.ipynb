{
 "cells": [
  {
   "cell_type": "code",
   "execution_count": 60,
   "metadata": {},
   "outputs": [],
   "source": [
    "%run PVModel_functions.ipynb"
   ]
  },
  {
   "cell_type": "code",
   "execution_count": null,
   "metadata": {},
   "outputs": [],
   "source": [
    "%run PVsystem_filterfunction_jack.ipynb"
   ]
  },
  {
   "cell_type": "code",
   "execution_count": 180,
   "metadata": {},
   "outputs": [],
   "source": [
    "#This cell imports all the necessary packages & module data\n",
    "import pandas as pd \n",
    "import numpy as np\n",
    "from datetime import datetime\n",
    "import datatools\n",
    "import matplotlib as mpl\n",
    "import matplotlib.pyplot as plt\n",
    "import datetime\n",
    "import pvlib\n",
    "import pvanalytics\n",
    "import math\n",
    "import pvpltools\n",
    "from pvpltools import iec61853\n",
    "from pvpltools.module_efficiency import adr, heydenreich, motherpv, pvgis, mpm5, mpm6, bilinear\n",
    "from pvpltools.module_efficiency import fit_efficiency_model, fit_bilinear\n",
    "\n",
    "%matplotlib inline \n",
    "from pandas.plotting import register_matplotlib_converters\n",
    "register_matplotlib_converters()\n",
    "\n",
    "mpl.rcParams['font.size']=12\n",
    "mpl.rcParams['lines.linewidth']=1\n",
    "mpl.rcParams['xtick.labelsize']=10\n",
    "#mpl.rcParams['font.weight']='bold'\n",
    "mpl.rcParams['axes.titlesize']=22"
   ]
  },
  {
   "cell_type": "code",
   "execution_count": 62,
   "metadata": {},
   "outputs": [],
   "source": [
    "#This is where all the input info should be\n",
    "#Valid module names : LG, Panasonic, Can270, Can275, HanQPlus, HanQPeak, MissionSolar, Jinko\n",
    "#Valid sys table names: dbo.PVLT_Pan_LG_Panasonic_LG,dbo.PVLT_Can_Han_Canadian_Hanwha,\n",
    "#                       dbo.PVLT_TrinaJinko_Jinko, dbo.PVLT_MissionSolar_MissionSolar\n",
    "\n",
    "mod_name = 'Panasonic'\n",
    "mettablename =  'dbo.SNLA_Met_DataOut'"
   ]
  },
  {
   "cell_type": "code",
   "execution_count": 70,
   "metadata": {},
   "outputs": [],
   "source": [
    "#Reads in an excel file of all necessary module coefficients, string lengths, system dates, etc\n",
    "mod_info = pd.read_excel('module_coefficients.xlsx')\n",
    "mod_info.index = mod_info['Manufacturer']\n",
    "del mod_info['Manufacturer']\n",
    "#defines the specific module given the previous user input and module coefficients file\n",
    "module = mod_info[mod_name]\n",
    "systablename = module['table_name']\n",
    "start = module['start']\n",
    "end = module['end']"
   ]
  },
  {
   "cell_type": "code",
   "execution_count": 133,
   "metadata": {},
   "outputs": [],
   "source": [
    "#Import sys & met databases & merge into one df\n",
    "df = sys_met_data(mettablename, systablename, start, end)"
   ]
  },
  {
   "cell_type": "code",
   "execution_count": 72,
   "metadata": {},
   "outputs": [
    {
     "data": {
      "text/plain": [
       "Index(['RecNum_x', 'Global_Wm2_Avg', 'Direct_Wm2_Avg', 'Diffuse_Wm2_Avg',\n",
       "       'Pressure_mBar_Avg', 'WS_ms_Mean', 'Wdir_Mean', 'Wdir_Std', 'WS_ms_Std',\n",
       "       'WS_ms_3sec_Max', 'WD_deg_SMM', 'Temp_C_Avg', 'RH_pct_Avg',\n",
       "       'Panel_Temp_C_Avg', 'Battery_V_Avg', 'ProcessTime_S_Max',\n",
       "       'Global_mV_Avg', 'Rain_mm_Tot', 'Rain_mm_Daily', 'Temp_CMP22_C_Avg',\n",
       "       'RecNum_y', 'BroadbandPOA_Avg', 'POACleanRC_E_Avg', 'GHI_Avg',\n",
       "       'Albedo_Avg', 'AmbientTemp_Avg', 'PH1_V_Avg', 'PH2_V_Avg', 'PH3_V_Avg',\n",
       "       'PH4_V_Avg', 'LM1_V_Avg', 'LM2_V_Avg', 'LM3_V_Avg', 'LM4_V_Avg',\n",
       "       'PH1_I_Avg', 'PH2_I_Avg', 'PH3_I_Avg', 'PH4_I_Avg', 'LM1_I_Avg',\n",
       "       'LM2_I_Avg', 'LM3_I_Avg', 'LM4_I_Avg', 'PH1_RTD_Avg', 'PH2_RTD_Avg',\n",
       "       'PH3_RTD_Avg', 'PH4_RTD_Avg', 'LM1_RTD_Avg', 'LM2_RTD_Avg',\n",
       "       'LM3_RTD_Avg', 'LM4_RTD_Avg', 'Wind_Speed_Avg', 'Wind_Direction_Avg',\n",
       "       'Wind_Dir_std', 'Wind_Gust_Max'],\n",
       "      dtype='object')"
      ]
     },
     "execution_count": 72,
     "metadata": {},
     "output_type": "execute_result"
    }
   ],
   "source": [
    "df.columns"
   ]
  },
  {
   "cell_type": "code",
   "execution_count": 73,
   "metadata": {},
   "outputs": [],
   "source": [
    "#Calculate solpos & other environmental data, like airmass, aoi, and differnt poa components\n",
    "sdf = calc_sol_data(df.index, module['latitude'], module['longitude'], module['tilt'], df['Pressure_mBar_Avg'])\n",
    "edf = calc_env_data(module['tilt'], module ['altitude'], module['surface_azimuth'], sdf['azimuth'], sdf['apparent_zenith'], \n",
    "               df['Direct_Wm2_Avg'], df['Global_Wm2_Avg'], df['Diffuse_Wm2_Avg'], sdf['dni_extra'], model = 'haydavies')\n",
    "edf['am_abs'] = pvlib.atmosphere.get_absolute_airmass(edf['airmass'], edf['pressure'])\n",
    "#merge this information into one solar & environmental data df called 'sedf'\n",
    "sedf = pd.merge(edf,sdf,how='inner', left_index=True, right_index=True)"
   ]
  },
  {
   "cell_type": "code",
   "execution_count": 74,
   "metadata": {},
   "outputs": [],
   "source": [
    "#Generate a results dataframe and add measured values\n",
    "results = meas_val(df[module['str_1_v']],df[module['str_1_i']])\n",
    "results = results.to_frame()"
   ]
  },
  {
   "cell_type": "code",
   "execution_count": 75,
   "metadata": {},
   "outputs": [],
   "source": [
    "#read in SAM data from the spreadsheet containing all SAM results for entire time period of system\n",
    "sam_data = pd.read_excel('SAM_results.xlsx', sheet_name = [mod_name])\n",
    "sam_data = sam_data[mod_name]\n",
    "sam_data.index = sam_data['Time']\n",
    "del sam_data['Time']\n",
    "sam_data.rename(columns = {mod_name : 'SAM'}, inplace = True)\n",
    "results['SAM'] = sam_data['SAM']"
   ]
  },
  {
   "cell_type": "code",
   "execution_count": 76,
   "metadata": {},
   "outputs": [],
   "source": [
    "#Calcualte SAPM results and add to df\n",
    "sapm_par = sapm_param(sedf['poa_global'], edf['poa_direct'], edf['poa_diffuse'], df.AmbientTemp_Avg, df.Wind_Speed_Avg, \n",
    "                   sedf['am_abs'], sedf['aoi'], module)\n",
    "dc = sapm(sapm_par['eff_irr'], sapm_par['tcell'], module)\n",
    "results['SAPM'] = sapm_p(dc['v_mp'], dc['i_mp'], module['str_len'])"
   ]
  },
  {
   "cell_type": "code",
   "execution_count": 77,
   "metadata": {},
   "outputs": [],
   "source": [
    "#Calculate PVWatts results and add to df\n",
    "results['PVWatts'] = pvwatts(POA_eff = df['BroadbandPOA_Avg'], cell_temp = df[module['str_1_rtd']], \n",
    "                             stc_mod_p = module['Power'], Gpmp = module['Gpmp'],str_len = module['str_len'], temp_ref=25.0 )"
   ]
  },
  {
   "cell_type": "code",
   "execution_count": 78,
   "metadata": {},
   "outputs": [
    {
     "name": "stderr",
     "output_type": "stream",
     "text": [
      "C:\\Users\\lmdevil\\Anaconda3\\envs\\PVModel\\lib\\site-packages\\pvlib\\singlediode.py:613: RuntimeWarning: overflow encountered in exp\n",
      "  np.exp((Rs[idx_p] * (IL[idx_p] + I0[idx_p]) + V[idx_p]) /\n"
     ]
    }
   ],
   "source": [
    "#Calculate CEC results and add to df\n",
    "cec_param = pvlib.pvsystem.calcparams_cec( df['BroadbandPOA_Avg'], df[module['str_1_rtd']], module['alpha_sc'], \n",
    "                                          module['a_ref'], module['I_L_ref'], module['I_o_ref'], module['R_sh_ref'], \n",
    "                                          module['R_s'], module['Adjust'], module['Cells_in_Series'])\n",
    "cec_p = pvlib.pvsystem.singlediode(photocurrent = cec_param[0], saturation_current = cec_param[1], resistance_series =\n",
    "                           cec_param[2], resistance_shunt = cec_param[3], nNsVth = cec_param[4])\n",
    "results['CEC'] = sdm(cec_p['p_mp'], module['str_len'])"
   ]
  },
  {
   "cell_type": "code",
   "execution_count": 79,
   "metadata": {},
   "outputs": [],
   "source": [
    "#Calculate Desoto results and add to df\n",
    "ds_param = pvlib.pvsystem.calcparams_desoto(df['BroadbandPOA_Avg'], df[module['str_1_rtd']], module['alpha_sc'],\n",
    "                                            module['a_ref'],module['I_L_ref'], module['I_o_ref'], \n",
    "                                            module['R_sh_ref'], module['R_s'])\n",
    "ds_p = pvlib.pvsystem.singlediode(photocurrent = ds_param[0], saturation_current = ds_param[1], resistance_series =\n",
    "                           ds_param[2], resistance_shunt = ds_param[3], nNsVth = ds_param[4])\n",
    "results['Desoto'] = sdm(ds_p['p_mp'], module['str_len'])"
   ]
  },
  {
   "cell_type": "code",
   "execution_count": 80,
   "metadata": {},
   "outputs": [],
   "source": [
    "#Calculte PVSystem results and add to df\n",
    "pvs_param = pvlib.pvsystem.calcparams_pvsyst(df['BroadbandPOA_Avg'], df[module['str_1_rtd']], module['alpha_sc'], \n",
    "                                             module['gamma_ref'],module['mu_gamma'], module['I_L_ref'], module['I_o_ref'],\n",
    "                                             module['R_sh_ref'], module['R_sh_0'], module['R_s'],  module['Cells_in_Series'])\n",
    "pvs_p = pvlib.pvsystem.singlediode(photocurrent = pvs_param[0], saturation_current = pvs_param[1], resistance_series =\n",
    "                           pvs_param[2], resistance_shunt = pvs_param[3], nNsVth = pvs_param[4])\n",
    "results['PVSyst'] = sdm(pvs_p['p_mp'], module['str_len'])"
   ]
  },
  {
   "cell_type": "code",
   "execution_count": 139,
   "metadata": {},
   "outputs": [],
   "source": [
    "#Import matrix of measurement data\n",
    "measurements_file = 'Sandia_PV_Module_P-Matrix-and-TempCo-Data_2019.xlsx'\n",
    "matrix = pd.read_excel(measurements_file, sheet_name = mod_name, usecols='B,C,H', header=None, skiprows=5, nrows=27)\n",
    "matrix.columns = ['temperature', 'irradiance', 'p_mp']\n",
    "# calculate efficiency from power\n",
    "matrix = matrix.eval('eta = p_mp / irradiance')\n",
    "eta_stc = matrix.query('irradiance == 1000 and temperature == 25').eta\n",
    "matrix.eta /= eta_stc.values\n",
    "# just keep the columns that are needed\n",
    "matrix = matrix[['irradiance', 'temperature', 'eta']]\n",
    "\n",
    "#Until the other function is complete, I have this setup just to get out all negative values, but it leads to problems at times\n",
    "df.loc[df['BroadbandPOA_Avg']<0, 'BroadbandPOA_Avg'] = 0"
   ]
  },
  {
   "cell_type": "code",
   "execution_count": 164,
   "metadata": {},
   "outputs": [],
   "source": [
    "#Calculate ADR results and add to df\n",
    "popt, pcov = fit_efficiency_model(matrix.irradiance,matrix.temperature,matrix.eta,adr)\n",
    "adr_eff = adr(df['BroadbandPOA_Avg'], df[module['str_1_rtd']], *popt)\n",
    "adr_p = df['BroadbandPOA_Avg'] * adr_eff * module['Area'] \n",
    "results['ADR'] = adr_p.resample('H').mean()"
   ]
  },
  {
   "cell_type": "code",
   "execution_count": 166,
   "metadata": {},
   "outputs": [],
   "source": [
    "#Calculate Heydenreich results and add to df\n",
    "popt, pcov = fit_efficiency_model(matrix.irradiance,matrix.temperature,matrix.eta,heydenreich)\n",
    "hey_eff = heydenreich(df['BroadbandPOA_Avg'], df[module['str_1_rtd']], *popt)\n",
    "hey_p = df['BroadbandPOA_Avg'] * hey_eff * module['Area']\n",
    "results['Heydenreich'] = hey_p.resample('H').mean()"
   ]
  },
  {
   "cell_type": "code",
   "execution_count": 167,
   "metadata": {
    "scrolled": true
   },
   "outputs": [
    {
     "name": "stderr",
     "output_type": "stream",
     "text": [
      "C:\\Users\\lmdevil\\Anaconda3\\envs\\PVModel\\lib\\site-packages\\pvpltools\\module_efficiency.py:333: RuntimeWarning: divide by zero encountered in log\n",
      "  eta = ( 1 + a * (s - 1)    + b * log(s)\n",
      "C:\\Users\\lmdevil\\Anaconda3\\envs\\PVModel\\lib\\site-packages\\pvpltools\\module_efficiency.py:334: RuntimeWarning: divide by zero encountered in log\n",
      "  + c * (s - 1)**2 + d * log(s)**2\n",
      "C:\\Users\\lmdevil\\Anaconda3\\envs\\PVModel\\lib\\site-packages\\pvpltools\\module_efficiency.py:333: RuntimeWarning: invalid value encountered in add\n",
      "  eta = ( 1 + a * (s - 1)    + b * log(s)\n",
      "C:\\Users\\lmdevil\\Anaconda3\\envs\\PVModel\\lib\\site-packages\\pvpltools\\module_efficiency.py:336: RuntimeWarning: divide by zero encountered in log\n",
      "  gamma = gamma_ref * ( 1 + aa * (s - 1) + bb * log(s))\n"
     ]
    }
   ],
   "source": [
    "#Calculate MotherPV results and add to df\n",
    "popt, pcov = fit_efficiency_model(matrix.irradiance,matrix.temperature,matrix.eta,motherpv)\n",
    "mother_eff = motherpv(df['BroadbandPOA_Avg'], df[module['str_1_rtd']], *popt)\n",
    "mother_p = df['BroadbandPOA_Avg'] * mother_eff * module['Area']\n",
    "results['Mother'] = hey_p.resample('H').mean()"
   ]
  },
  {
   "cell_type": "code",
   "execution_count": 168,
   "metadata": {},
   "outputs": [
    {
     "name": "stderr",
     "output_type": "stream",
     "text": [
      "C:\\Users\\lmdevil\\Anaconda3\\envs\\PVModel\\lib\\site-packages\\pvpltools\\module_efficiency.py:400: RuntimeWarning: divide by zero encountered in log\n",
      "  + k1 * log(g)\n",
      "C:\\Users\\lmdevil\\Anaconda3\\envs\\PVModel\\lib\\site-packages\\pvpltools\\module_efficiency.py:401: RuntimeWarning: divide by zero encountered in log\n",
      "  + k2 * log(g)**2\n",
      "C:\\Users\\lmdevil\\Anaconda3\\envs\\PVModel\\lib\\site-packages\\pvpltools\\module_efficiency.py:403: RuntimeWarning: divide by zero encountered in log\n",
      "  + k4 * log(g)\n",
      "C:\\Users\\lmdevil\\Anaconda3\\envs\\PVModel\\lib\\site-packages\\pvpltools\\module_efficiency.py:404: RuntimeWarning: divide by zero encountered in log\n",
      "  + k5 * log(g)**2\n",
      "C:\\Users\\lmdevil\\Anaconda3\\envs\\PVModel\\lib\\site-packages\\pvpltools\\module_efficiency.py:399: RuntimeWarning: invalid value encountered in add\n",
      "  eta = ( 1\n"
     ]
    }
   ],
   "source": [
    "#Calculate PVGIS results and add to df\n",
    "popt, pcov = fit_efficiency_model(matrix.irradiance,matrix.temperature,matrix.eta,pvgis)\n",
    "pvgis_eff = pvgis(df['BroadbandPOA_Avg'], df[module['str_1_rtd']], *popt)\n",
    "pvgis_p = df['BroadbandPOA_Avg'] * pvgis_eff * module['Area']\n",
    "results['PVGIS'] = hey_p.resample('H').mean()"
   ]
  },
  {
   "cell_type": "code",
   "execution_count": 177,
   "metadata": {
    "scrolled": true
   },
   "outputs": [
    {
     "name": "stderr",
     "output_type": "stream",
     "text": [
      "C:\\Users\\lmdevil\\Anaconda3\\envs\\PVModel\\lib\\site-packages\\pvpltools\\module_efficiency.py:478: RuntimeWarning: divide by zero encountered in log10\n",
      "  + c3 * np.log10(g)\n",
      "C:\\Users\\lmdevil\\Anaconda3\\envs\\PVModel\\lib\\site-packages\\pvpltools\\module_efficiency.py:482: RuntimeWarning: invalid value encountered in true_divide\n",
      "  + c6 / g\n"
     ]
    }
   ],
   "source": [
    "#Calculate MPM5 results and add to df\n",
    "popt, pcov = fit_efficiency_model(matrix.irradiance,matrix.temperature,matrix.eta,mpm5)\n",
    "mpm5_eff = mpm5(df['BroadbandPOA_Avg'], df[module['str_1_rtd']], *popt)\n",
    "mpm5_p = df['BroadbandPOA_Avg'] * mpm5_eff * module['Area']\n",
    "results['MPM5'] = mpm5_p.resample('H').mean()"
   ]
  },
  {
   "cell_type": "code",
   "execution_count": 178,
   "metadata": {},
   "outputs": [
    {
     "name": "stderr",
     "output_type": "stream",
     "text": [
      "C:\\Users\\lmdevil\\Anaconda3\\envs\\PVModel\\lib\\site-packages\\pvpltools\\module_efficiency.py:482: RuntimeWarning: divide by zero encountered in true_divide\n",
      "  + c6 / g\n"
     ]
    }
   ],
   "source": [
    "#Calculate MPM6 results and add to df\n",
    "popt, pcov = fit_efficiency_model(matrix.irradiance,matrix.temperature,matrix.eta,mpm6)\n",
    "mpm6_eff = mpm6(df['BroadbandPOA_Avg'], df[module['str_1_rtd']], *popt)\n",
    "mpm6_p = df['BroadbandPOA_Avg'] * mpm6_eff * module['Area']\n",
    "results['MPM6'] = mpm6_p.resample('H').mean()"
   ]
  },
  {
   "cell_type": "code",
   "execution_count": 179,
   "metadata": {},
   "outputs": [
    {
     "data": {
      "text/plain": [
       "Text(0, 0.5, 'Power (W)')"
      ]
     },
     "execution_count": 179,
     "metadata": {},
     "output_type": "execute_result"
    },
    {
     "data": {
      "image/png": "[encoded data removed]",
      "text/plain": [
       "<Figure size 432x288 with 1 Axes>"
      ]
     },
     "metadata": {
      "needs_background": "light"
     },
     "output_type": "display_data"
    }
   ],
   "source": [
    "#Plot just for fun\n",
    "results.rename(columns = { 0 : 'Measured'}, inplace = True)\n",
    "results.plot()\n",
    "plt.xlim('2020-07-01', '2020-07-04')\n",
    "plt.ylim(0,4500)\n",
    "plt.legend(loc='center left', bbox_to_anchor=(1,0.5))\n",
    "plt.xlabel('Date')\n",
    "plt.ylabel('Power (W)')"
   ]
  },
  {
   "cell_type": "code",
   "execution_count": null,
   "metadata": {},
   "outputs": [],
   "source": []
  }
 ],
 "metadata": {
  "kernelspec": {
   "display_name": "PVModel",
   "language": "python",
   "name": "pvmodel"
  },
  "language_info": {
   "codemirror_mode": {
    "name": "ipython",
    "version": 3
   },
   "file_extension": ".py",
   "mimetype": "text/x-python",
   "name": "python",
   "nbconvert_exporter": "python",
   "pygments_lexer": "ipython3",
   "version": "3.8.8"
  }
 },
 "nbformat": 4,
 "nbformat_minor": 4
}
