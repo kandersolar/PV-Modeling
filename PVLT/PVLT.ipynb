{
 "cells": [
  {
   "cell_type": "code",
   "execution_count": 39,
   "metadata": {},
   "outputs": [],
   "source": [
    "%run PVModel_functions.ipynb"
   ]
  },
  {
   "cell_type": "code",
   "execution_count": 40,
   "metadata": {},
   "outputs": [],
   "source": [
    "#This cell imports all the necessary packages & module data\n",
    "import pandas as pd \n",
    "import numpy as np\n",
    "from datetime import datetime\n",
    "import datatools\n",
    "import matplotlib as mpl\n",
    "import matplotlib.pyplot as plt\n",
    "import datetime\n",
    "import pvlib\n",
    "import pvanalytics\n",
    "import math\n",
    "\n",
    "%matplotlib inline \n",
    "from pandas.plotting import register_matplotlib_converters\n",
    "register_matplotlib_converters()\n",
    "\n",
    "mpl.rcParams['font.size']=12\n",
    "mpl.rcParams['lines.linewidth']=1\n",
    "mpl.rcParams['xtick.labelsize']=10\n",
    "#mpl.rcParams['font.weight']='bold'\n",
    "mpl.rcParams['axes.titlesize']=22"
   ]
  },
  {
   "cell_type": "code",
   "execution_count": 41,
   "metadata": {},
   "outputs": [],
   "source": [
    "#This is where all the input info should be\n",
    "#Valid module names : LG, Panasonic, Can270, Can275, HanQPlus, HanQPeak, MissionSolar, Jinko\n",
    "#Valid sys table names: dbo.PVLT_Pan_LG_Panasonic_LG,dbo.PVLT_Can_Han_Canadian_Hanwha,\n",
    "#                       dbo.PVLT_TrinaJinko_Jinko, dbo.PVLT_MissionSolar_MissionSolar\n",
    "#They won't all work yet because info that is called from df is still module specific at this phase (ex: df['PH1_RTD_Avg'])\n",
    "\n",
    "mod_name = 'Can275'\n",
    "mettablename =  'dbo.SNLA_Met_DataOut'\n",
    "systablename =  'PVLT_Can_Han_Canadian_Hanwha'"
   ]
  },
  {
   "cell_type": "code",
   "execution_count": 42,
   "metadata": {},
   "outputs": [],
   "source": [
    "#Reads in an excel file of all necessary module coefficients, string lengths, system dates, etc\n",
    "mod_info = pd.read_excel('module_coefficients.xlsx')\n",
    "mod_info.index = mod_info['Manufacturer']\n",
    "del mod_info['Manufacturer']\n",
    "#defines the specific module given the previous user input and module coefficients file\n",
    "module = mod_info[mod_name]\n",
    "start = module['start']\n",
    "end = module['end']"
   ]
  },
  {
   "cell_type": "code",
   "execution_count": 43,
   "metadata": {},
   "outputs": [],
   "source": [
    "#Import sys & met databases & merge into one df\n",
    "df = sys_met_data(mettablename, systablename, start, end)"
   ]
  },
  {
   "cell_type": "code",
   "execution_count": 44,
   "metadata": {},
   "outputs": [],
   "source": [
    "#Calculate solpos & other environmental data, like airmass, aoi, and differnt poa components\n",
    "sdf = calc_sol_data(df.index, module['latitude'], module['longitude'], module['tilt'], df['Pressure_mBar_Avg'])\n",
    "edf = calc_env_data(module['tilt'], module ['altitude'], module['surface_azimuth'], sdf['azimuth'], sdf['apparent_zenith'], \n",
    "               df['Direct_Wm2_Avg'], df['Global_Wm2_Avg'], df['Diffuse_Wm2_Avg'], sdf['dni_extra'], model = 'haydavies')\n",
    "edf['am_abs'] = pvlib.atmosphere.get_absolute_airmass(edf['airmass'], edf['pressure'])\n",
    "#merge this information into one solar & environmental data df called 'sedf'\n",
    "sedf = pd.merge(edf,sdf,how='inner', left_index=True, right_index=True)"
   ]
  },
  {
   "cell_type": "code",
   "execution_count": 45,
   "metadata": {},
   "outputs": [],
   "source": [
    "#Generate a results dataframe and add measured values\n",
    "results = meas_val(df[module['str_1_v']],df[module['str_1_i']])\n",
    "results = results.to_frame()"
   ]
  },
  {
   "cell_type": "code",
   "execution_count": 46,
   "metadata": {},
   "outputs": [],
   "source": [
    "#read in SAM data from the spreadsheet containing all SAM results for entire time period of system\n",
    "sam_data = pd.read_excel('SAM_results.xlsx', sheet_name = [mod_name])\n",
    "sam_data = sam_data[mod_name]\n",
    "sam_data.index = sam_data['Time']\n",
    "del sam_data['Time']\n",
    "sam_data.rename(columns = {mod_name : 'SAM'}, inplace = True)\n",
    "results['SAM'] = sam_data['SAM']"
   ]
  },
  {
   "cell_type": "code",
   "execution_count": 47,
   "metadata": {},
   "outputs": [],
   "source": [
    "#Calcualte SAPM results and add to df\n",
    "sapm_par = sapm_param(sedf['poa_global'], edf['poa_direct'], edf['poa_diffuse'], df.AmbientTemp_Avg, df.Wind_Speed_Avg, \n",
    "                   sedf['am_abs'], sedf['aoi'], module)\n",
    "dc = sapm(sapm_par['eff_irr'], sapm_par['tcell'], module)\n",
    "results['SAPM'] = sapm_p(dc['v_mp'], dc['i_mp'], module['str_len'])"
   ]
  },
  {
   "cell_type": "code",
   "execution_count": 48,
   "metadata": {},
   "outputs": [],
   "source": [
    "#Calculate PVWatts results and add to df\n",
    "results['PVWatts'] = pvwatts(POA_eff = df['BroadbandPOA_Avg'], cell_temp = df[module['str_1_rtd']], \n",
    "                             stc_mod_p = module['Power'], Gpmp = module['Gpmp'],str_len = module['str_len'], temp_ref=25.0 )"
   ]
  },
  {
   "cell_type": "code",
   "execution_count": 49,
   "metadata": {},
   "outputs": [
    {
     "name": "stderr",
     "output_type": "stream",
     "text": [
      "C:\\Users\\lmdevil\\Anaconda3\\envs\\PVModel\\lib\\site-packages\\pvlib\\singlediode.py:613: RuntimeWarning: overflow encountered in exp\n",
      "  np.exp((Rs[idx_p] * (IL[idx_p] + I0[idx_p]) + V[idx_p]) /\n"
     ]
    }
   ],
   "source": [
    "#Calculate CEC results and add to df\n",
    "cec_param = pvlib.pvsystem.calcparams_cec( df['BroadbandPOA_Avg'], df[module['str_1_rtd']], module['alpha_sc'], \n",
    "                                          module['a_ref'], module['I_L_ref'], module['I_o_ref'], module['R_sh_ref'], \n",
    "                                          module['R_s'], module['Adjust'], module['Cells_in_Series'])\n",
    "cec_p = pvlib.pvsystem.singlediode(photocurrent = cec_param[0], saturation_current = cec_param[1], resistance_series =\n",
    "                           cec_param[2], resistance_shunt = cec_param[3], nNsVth = cec_param[4])\n",
    "results['CEC'] = sdm(cec_p['p_mp'], module['str_len'])"
   ]
  },
  {
   "cell_type": "code",
   "execution_count": 50,
   "metadata": {},
   "outputs": [
    {
     "name": "stderr",
     "output_type": "stream",
     "text": [
      "C:\\Users\\lmdevil\\Anaconda3\\envs\\PVModel\\lib\\site-packages\\pvlib\\singlediode.py:690: RuntimeWarning: invalid value encountered in multiply\n",
      "  return I * df[loc]\n"
     ]
    }
   ],
   "source": [
    "#Calculate Desoto results and add to df\n",
    "ds_param = pvlib.pvsystem.calcparams_desoto(df['BroadbandPOA_Avg'], df[module['str_1_rtd']], module['alpha_sc'],\n",
    "                                            module['a_ref'],module['I_L_ref'], module['I_o_ref'], \n",
    "                                            module['R_sh_ref'], module['R_s'])\n",
    "ds_p = pvlib.pvsystem.singlediode(photocurrent = ds_param[0], saturation_current = ds_param[1], resistance_series =\n",
    "                           ds_param[2], resistance_shunt = ds_param[3], nNsVth = ds_param[4])\n",
    "results['Desoto'] = sdm(ds_p['p_mp'], module['str_len'])"
   ]
  },
  {
   "cell_type": "code",
   "execution_count": 51,
   "metadata": {},
   "outputs": [],
   "source": [
    "#Calculte PVSystem results and add to df\n",
    "pvs_param = pvlib.pvsystem.calcparams_pvsyst(df['BroadbandPOA_Avg'], df[module['str_1_rtd']], module['alpha_sc'], \n",
    "                                             module['gamma_ref'],module['mu_gamma'], module['I_L_ref'], module['I_o_ref'],\n",
    "                                             module['R_sh_ref'], module['R_sh_0'], module['R_s'],  module['Cells_in_Series'])\n",
    "pvs_p = pvlib.pvsystem.singlediode(photocurrent = pvs_param[0], saturation_current = pvs_param[1], resistance_series =\n",
    "                           pvs_param[2], resistance_shunt = pvs_param[3], nNsVth = pvs_param[4])\n",
    "results['PVSyst'] = sdm(pvs_p['p_mp'], module['str_len'])"
   ]
  },
  {
   "cell_type": "code",
   "execution_count": 52,
   "metadata": {},
   "outputs": [
    {
     "data": {
      "text/plain": [
       "Text(0, 0.5, 'Power (W)')"
      ]
     },
     "execution_count": 52,
     "metadata": {},
     "output_type": "execute_result"
    },
    {
     "data": {
      "image/png": "[encoded data removed]",
      "text/plain": [
       "<Figure size 432x288 with 1 Axes>"
      ]
     },
     "metadata": {
      "needs_background": "light"
     },
     "output_type": "display_data"
    }
   ],
   "source": [
    "#Plot just for fun\n",
    "results.rename(columns = { 0 : 'Measured'}, inplace = True)\n",
    "results.plot()\n",
    "plt.xlim('2020-07-01', '2020-07-04')\n",
    "plt.ylim(0,4500)\n",
    "plt.legend(loc='center left', bbox_to_anchor=(1,0.5))\n",
    "plt.xlabel('Date')\n",
    "plt.ylabel('Power (W)')"
   ]
  },
  {
   "cell_type": "code",
   "execution_count": null,
   "metadata": {},
   "outputs": [],
   "source": []
  }
 ],
 "metadata": {
  "kernelspec": {
   "display_name": "PVModel",
   "language": "python",
   "name": "pvmodel"
  },
  "language_info": {
   "codemirror_mode": {
    "name": "ipython",
    "version": 3
   },
   "file_extension": ".py",
   "mimetype": "text/x-python",
   "name": "python",
   "nbconvert_exporter": "python",
   "pygments_lexer": "ipython3",
   "version": "3.8.8"
  }
 },
 "nbformat": 4,
 "nbformat_minor": 4
}
