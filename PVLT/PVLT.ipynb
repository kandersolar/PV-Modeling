{
 "cells": [
  {
   "cell_type": "code",
   "execution_count": 1,
   "metadata": {},
   "outputs": [],
   "source": [
    "%run PVModel_functions.ipynb"
   ]
  },
  {
   "cell_type": "code",
   "execution_count": 2,
   "metadata": {},
   "outputs": [],
   "source": [
    "#This cell imports all the necessary packages & module data\n",
    "import pandas as pd \n",
    "import numpy as np\n",
    "from datetime import datetime\n",
    "import datatools\n",
    "import matplotlib as mpl\n",
    "import matplotlib.pyplot as plt\n",
    "import datetime\n",
    "import pvlib\n",
    "import pvanalytics\n",
    "import math\n",
    "import pvpltools\n",
    "import seaborn as sns\n",
    "from pvpltools import iec61853\n",
    "from pvpltools.module_efficiency import adr, heydenreich, motherpv, pvgis, mpm5, mpm6, bilinear\n",
    "from pvpltools.module_efficiency import fit_efficiency_model, fit_bilinear\n",
    "\n",
    "%matplotlib inline \n",
    "from pandas.plotting import register_matplotlib_converters\n",
    "register_matplotlib_converters()\n",
    "\n",
    "mpl.rcParams['font.size']=12\n",
    "mpl.rcParams['lines.linewidth']=1\n",
    "mpl.rcParams['xtick.labelsize']=10\n",
    "#mpl.rcParams['font.weight']='bold'\n",
    "mpl.rcParams['axes.titlesize']=22"
   ]
  },
  {
   "cell_type": "code",
   "execution_count": 3,
   "metadata": {},
   "outputs": [],
   "source": [
    "#This is where all the input info should be\n",
    "#Valid module names : LG, Panasonic, Can270, Can275, HanQPlus, HanQPeak, MissionSolar, Jinko\n",
    "#Valid sys table names: dbo.PVLT_Pan_LG_Panasonic_LG,dbo.PVLT_Can_Han_Canadian_Hanwha,\n",
    "#                       dbo.PVLT_TrinaJinko_Jinko, dbo.PVLT_MissionSolar_MissionSolar\n",
    "\n",
    "mod_name = 'Panasonic'\n",
    "mettablename =  'dbo.SNLA_Met_DataOut'"
   ]
  },
  {
   "cell_type": "code",
   "execution_count": 4,
   "metadata": {},
   "outputs": [],
   "source": [
    "#Reads in an excel file of all necessary module coefficients, string lengths, system dates, etc\n",
    "mod_info = pd.read_excel('module_coefficients.xlsx')\n",
    "mod_info.index = mod_info['Manufacturer']\n",
    "del mod_info['Manufacturer']\n",
    "#defines the specific module given the previous user input and module coefficients file\n",
    "module = mod_info[mod_name]\n",
    "systablename = module['table_name']\n",
    "start = '2020-01-01 00:00:00-07:00'\n",
    " #module['start']\n",
    "end = '2021-01-01 00:00:00-07:00'\n",
    "#module['end']"
   ]
  },
  {
   "cell_type": "code",
   "execution_count": 115,
   "metadata": {},
   "outputs": [],
   "source": [
    "#Import sys & met databases & merge into one df\n",
    "df = sys_met_data(mettablename, systablename, start, end)"
   ]
  },
  {
   "cell_type": "code",
   "execution_count": 116,
   "metadata": {},
   "outputs": [],
   "source": [
    "#Calculate solpos & other environmental data, like airmass, aoi, and differnt poa components\n",
    "sdf = calc_sol_data(df.index, module['latitude'], module['longitude'], module['tilt'], df['Pressure_mBar_Avg'])\n",
    "edf = calc_env_data(module['tilt'], module ['altitude'], module['surface_azimuth'], sdf['azimuth'], sdf['apparent_zenith'], \n",
    "               df['Direct_Wm2_Avg'], df['Global_Wm2_Avg'], df['Diffuse_Wm2_Avg'], sdf['dni_extra'], model = 'haydavies')\n",
    "edf['am_abs'] = pvlib.atmosphere.get_absolute_airmass(edf['airmass'], edf['pressure'])\n",
    "#merge this information into one solar & environmental data df called 'sedf'\n",
    "sedf = pd.merge(edf,sdf,how='inner', left_index=True, right_index=True)"
   ]
  },
  {
   "cell_type": "code",
   "execution_count": 15,
   "metadata": {},
   "outputs": [],
   "source": [
    "strings = ['str_1_rtd', 'str_2_rtd', 'str_3_rtd', 'str_4_rtd']\n",
    "measureds = ['Str_1', 'Str_2', 'Str_3', 'Str_4']\n",
    "col_1s = ['SAM', 'SAPM', 'PVWatts str_1_rtd', 'CEC str_1_rtd', 'Desoto str_1_rtd', 'PVSyst str_1_rtd', 'ADR str_1_rtd', 'Heydenreich str_1_rtd', 'Mother str_1_rtd', 'PVGIS str_1_rtd', 'MPM5 str_1_rtd','MPM6 str_1_rtd']\n",
    "col_2s = ['SAM', 'SAPM', 'PVWatts str_2_rtd', 'CEC str_2_rtd', 'Desoto str_2_rtd', 'PVSyst str_2_rtd', 'ADR str_2_rtd', 'Heydenreich str_2_rtd', 'Mother str_2_rtd', 'PVGIS str_2_rtd', 'MPM5 str_2_rtd','MPM6 str_2_rtd']\n",
    "col_3s = ['SAM', 'SAPM', 'PVWatts str_3_rtd', 'CEC str_3_rtd', 'Desoto str_3_rtd', 'PVSyst str_3_rtd', 'ADR str_3_rtd', 'Heydenreich str_3_rtd', 'Mother str_3_rtd', 'PVGIS str_3_rtd', 'MPM5 str_3_rtd','MPM6 str_3_rtd']\n",
    "col_4s = ['SAM', 'SAPM', 'PVWatts str_4_rtd', 'CEC str_4_rtd', 'Desoto str_4_rtd', 'PVSyst str_4_rtd', 'ADR str_4_rtd', 'Heydenreich str_4_rtd', 'Mother str_4_rtd', 'PVGIS str_4_rtd', 'MPM5 str_4_rtd','MPM6 str_4_rtd']\n"
   ]
  },
  {
   "cell_type": "code",
   "execution_count": 117,
   "metadata": {},
   "outputs": [],
   "source": [
    "#Generate a results dataframe and add measured values\n",
    "results = meas_val(df[module['str_1_v']],df[module['str_1_i']]).to_frame()\n",
    "results['Str_2'] = meas_val(df[module['str_2_v']],df[module['str_2_i']])\n",
    "results['Str_3'] = meas_val(df[module['str_3_v']],df[module['str_3_i']])\n",
    "results['Str_4'] = meas_val(df[module['str_4_v']],df[module['str_4_i']])\n",
    "results = results.resample('H').mean()\n",
    "results.rename(columns = { 0 : 'Str_1'}, inplace = True)"
   ]
  },
  {
   "cell_type": "code",
   "execution_count": 17,
   "metadata": {},
   "outputs": [],
   "source": [
    "#df.loc[df['BroadbandPOA_Avg']<0, 'BroadbandPOA_Avg'] = 0"
   ]
  },
  {
   "cell_type": "code",
   "execution_count": 118,
   "metadata": {},
   "outputs": [],
   "source": [
    "#read in SAM data from the spreadsheet containing all SAM results for entire time period of system\n",
    "sam_data = pd.read_excel('SAM_results.xlsx', sheet_name = [mod_name])\n",
    "sam_data = sam_data[mod_name]\n",
    "sam_data.index = sam_data['Time']\n",
    "sam_data.index = pd.DatetimeIndex(sam_data.index)\n",
    "del sam_data['Time']\n",
    "sam_data.rename(columns = {mod_name : 'SAM'}, inplace = True)\n",
    "sam_data = sam_data.loc[start:end, :]\n",
    "results ['SAM'] = sam_data['SAM']#.resample('M').mean()"
   ]
  },
  {
   "cell_type": "code",
   "execution_count": 119,
   "metadata": {},
   "outputs": [],
   "source": [
    "#Calcualte SAPM results and add to df\n",
    "sapm_par = sapm_param(sedf['poa_global'], edf['poa_direct'], edf['poa_diffuse'], df.AmbientTemp_Avg, df.Wind_Speed_Avg, \n",
    "                   sedf['am_abs'], sedf['aoi'], module)\n",
    "dc = sapm(sapm_par['eff_irr'], sapm_par['tcell'], module)\n",
    "results['SAPM'] = sapm_p(dc['v_mp'], dc['i_mp'], module['str_len'])#.resample('M').mean()"
   ]
  },
  {
   "cell_type": "code",
   "execution_count": 120,
   "metadata": {},
   "outputs": [],
   "source": [
    "sapm_tcell = sapm_par['tcell'].to_frame()\n",
    "df = df.merge(sapm_tcell,how = 'inner', left_index=True, right_index=True)\n",
    "df = df[~df.index.duplicated(keep='first')]"
   ]
  },
  {
   "cell_type": "code",
   "execution_count": 122,
   "metadata": {
    "scrolled": true
   },
   "outputs": [
    {
     "data": {
      "text/plain": [
       "TmStamp\n",
       "2020-01-01 00:00:00-07:00    1.284764\n",
       "2020-01-01 00:01:00-07:00    1.232654\n",
       "2020-01-01 00:02:00-07:00    1.197850\n",
       "2020-01-01 00:03:00-07:00    1.224664\n",
       "2020-01-01 00:04:00-07:00    1.232877\n",
       "                               ...   \n",
       "2020-12-31 23:56:00-07:00   -1.340180\n",
       "2020-12-31 23:57:00-07:00   -1.157307\n",
       "2020-12-31 23:58:00-07:00   -1.211823\n",
       "2020-12-31 23:59:00-07:00   -1.365038\n",
       "2021-01-01 00:00:00-07:00   -1.476716\n",
       "Name: tcell, Length: 526741, dtype: float64"
      ]
     },
     "execution_count": 122,
     "metadata": {},
     "output_type": "execute_result"
    }
   ],
   "source": [
    "df['tcell']"
   ]
  },
  {
   "cell_type": "code",
   "execution_count": 124,
   "metadata": {},
   "outputs": [
    {
     "data": {
      "text/plain": [
       "TmStamp\n",
       "2020-01-01 00:00:00-07:00    1.284764\n",
       "2020-01-01 00:01:00-07:00    1.232654\n",
       "2020-01-01 00:02:00-07:00    1.197850\n",
       "2020-01-01 00:03:00-07:00    1.224664\n",
       "2020-01-01 00:04:00-07:00    1.232877\n",
       "                               ...   \n",
       "2020-12-31 23:56:00-07:00   -1.340180\n",
       "2020-12-31 23:57:00-07:00   -1.157307\n",
       "2020-12-31 23:58:00-07:00   -1.211823\n",
       "2020-12-31 23:59:00-07:00   -1.365038\n",
       "2021-01-01 00:00:00-07:00   -1.476716\n",
       "Name: tcell, Length: 526867, dtype: float64"
      ]
     },
     "execution_count": 124,
     "metadata": {},
     "output_type": "execute_result"
    }
   ],
   "source": [
    "sapm_par['tcell']"
   ]
  },
  {
   "cell_type": "code",
   "execution_count": 56,
   "metadata": {},
   "outputs": [],
   "source": [
    "#Calculate PVWatts results and add to df\n",
    "results['PVWatts'] = (pvwatts(POA_eff = df['BroadbandPOA_Avg'], cell_temp = df['tcell'], \n",
    "                             stc_mod_p = module['Power'], Gpmp = module['Gpmp'],str_len = module['str_len'],\n",
    "                                                 temp_ref=25.0 ))#.resample('M').mean()"
   ]
  },
  {
   "cell_type": "code",
   "execution_count": 125,
   "metadata": {},
   "outputs": [
    {
     "name": "stderr",
     "output_type": "stream",
     "text": [
      "C:\\Users\\lmdevil\\Anaconda3\\envs\\PVModel\\lib\\site-packages\\pvlib\\singlediode.py:613: RuntimeWarning: overflow encountered in exp\n",
      "  np.exp((Rs[idx_p] * (IL[idx_p] + I0[idx_p]) + V[idx_p]) /\n"
     ]
    },
    {
     "ename": "Exception",
     "evalue": "EXCEPTION:iterations exceeded maximum (50)",
     "output_type": "error",
     "traceback": [
      "\u001b[1;31m---------------------------------------------------------------------------\u001b[0m",
      "\u001b[1;31mException\u001b[0m                                 Traceback (most recent call last)",
      "\u001b[1;32m<ipython-input-125-a884fc25f8e6>\u001b[0m in \u001b[0;36m<module>\u001b[1;34m\u001b[0m\n\u001b[0;32m      3\u001b[0m                                           \u001b[0mmodule\u001b[0m\u001b[1;33m[\u001b[0m\u001b[1;34m'a_ref'\u001b[0m\u001b[1;33m]\u001b[0m\u001b[1;33m,\u001b[0m \u001b[0mmodule\u001b[0m\u001b[1;33m[\u001b[0m\u001b[1;34m'I_L_ref'\u001b[0m\u001b[1;33m]\u001b[0m\u001b[1;33m,\u001b[0m \u001b[0mmodule\u001b[0m\u001b[1;33m[\u001b[0m\u001b[1;34m'I_o_ref'\u001b[0m\u001b[1;33m]\u001b[0m\u001b[1;33m,\u001b[0m \u001b[0mmodule\u001b[0m\u001b[1;33m[\u001b[0m\u001b[1;34m'R_sh_ref'\u001b[0m\u001b[1;33m]\u001b[0m\u001b[1;33m,\u001b[0m\u001b[1;33m\u001b[0m\u001b[1;33m\u001b[0m\u001b[0m\n\u001b[0;32m      4\u001b[0m                                           module['R_s'], module['Adjust'], module['Cells_in_Series'])\n\u001b[1;32m----> 5\u001b[1;33m cec_p = pvlib.pvsystem.singlediode(photocurrent = cec_param[0], saturation_current = cec_param[1], resistance_series =\n\u001b[0m\u001b[0;32m      6\u001b[0m                            cec_param[2], resistance_shunt = cec_param[3], nNsVth = cec_param[4])\n\u001b[0;32m      7\u001b[0m \u001b[0mresults\u001b[0m\u001b[1;33m[\u001b[0m\u001b[1;34m'CEC'\u001b[0m\u001b[1;33m]\u001b[0m \u001b[1;33m=\u001b[0m \u001b[0msdm\u001b[0m\u001b[1;33m(\u001b[0m\u001b[0mcec_p\u001b[0m\u001b[1;33m[\u001b[0m\u001b[1;34m'p_mp'\u001b[0m\u001b[1;33m]\u001b[0m\u001b[1;33m,\u001b[0m \u001b[0mmodule\u001b[0m\u001b[1;33m[\u001b[0m\u001b[1;34m'str_len'\u001b[0m\u001b[1;33m]\u001b[0m\u001b[1;33m)\u001b[0m\u001b[1;31m#.resample('M').mean()\u001b[0m\u001b[1;33m\u001b[0m\u001b[1;33m\u001b[0m\u001b[0m\n",
      "\u001b[1;32m~\\Anaconda3\\envs\\PVModel\\lib\\site-packages\\pvlib\\pvsystem.py\u001b[0m in \u001b[0;36msinglediode\u001b[1;34m(photocurrent, saturation_current, resistance_series, resistance_shunt, nNsVth, ivcurve_pnts, method)\u001b[0m\n\u001b[0;32m   2545\u001b[0m     \u001b[1;31m# single diode equation\u001b[0m\u001b[1;33m\u001b[0m\u001b[1;33m\u001b[0m\u001b[1;33m\u001b[0m\u001b[0m\n\u001b[0;32m   2546\u001b[0m     \u001b[1;32mif\u001b[0m \u001b[0mmethod\u001b[0m\u001b[1;33m.\u001b[0m\u001b[0mlower\u001b[0m\u001b[1;33m(\u001b[0m\u001b[1;33m)\u001b[0m \u001b[1;33m==\u001b[0m \u001b[1;34m'lambertw'\u001b[0m\u001b[1;33m:\u001b[0m\u001b[1;33m\u001b[0m\u001b[1;33m\u001b[0m\u001b[0m\n\u001b[1;32m-> 2547\u001b[1;33m         out = _singlediode._lambertw(\n\u001b[0m\u001b[0;32m   2548\u001b[0m             \u001b[0mphotocurrent\u001b[0m\u001b[1;33m,\u001b[0m \u001b[0msaturation_current\u001b[0m\u001b[1;33m,\u001b[0m \u001b[0mresistance_series\u001b[0m\u001b[1;33m,\u001b[0m\u001b[1;33m\u001b[0m\u001b[1;33m\u001b[0m\u001b[0m\n\u001b[0;32m   2549\u001b[0m             \u001b[0mresistance_shunt\u001b[0m\u001b[1;33m,\u001b[0m \u001b[0mnNsVth\u001b[0m\u001b[1;33m,\u001b[0m \u001b[0mivcurve_pnts\u001b[0m\u001b[1;33m\u001b[0m\u001b[1;33m\u001b[0m\u001b[0m\n",
      "\u001b[1;32m~\\Anaconda3\\envs\\PVModel\\lib\\site-packages\\pvlib\\singlediode.py\u001b[0m in \u001b[0;36m_lambertw\u001b[1;34m(photocurrent, saturation_current, resistance_series, resistance_shunt, nNsVth, ivcurve_pnts)\u001b[0m\n\u001b[0;32m    649\u001b[0m     \u001b[1;31m# Find the voltage, v_mp, where the power is maximized.\u001b[0m\u001b[1;33m\u001b[0m\u001b[1;33m\u001b[0m\u001b[1;33m\u001b[0m\u001b[0m\n\u001b[0;32m    650\u001b[0m     \u001b[1;31m# Start the golden section search at v_oc * 1.14\u001b[0m\u001b[1;33m\u001b[0m\u001b[1;33m\u001b[0m\u001b[1;33m\u001b[0m\u001b[0m\n\u001b[1;32m--> 651\u001b[1;33m     p_mp, v_mp = _golden_sect_DataFrame(params, 0., v_oc * 1.14,\n\u001b[0m\u001b[0;32m    652\u001b[0m                                         _pwr_optfcn)\n\u001b[0;32m    653\u001b[0m \u001b[1;33m\u001b[0m\u001b[0m\n",
      "\u001b[1;32m~\\Anaconda3\\envs\\PVModel\\lib\\site-packages\\pvlib\\tools.py\u001b[0m in \u001b[0;36m_golden_sect_DataFrame\u001b[1;34m(params, VL, VH, func)\u001b[0m\n\u001b[0;32m    316\u001b[0m \u001b[1;33m\u001b[0m\u001b[0m\n\u001b[0;32m    317\u001b[0m         \u001b[1;32mif\u001b[0m \u001b[0miterations\u001b[0m \u001b[1;33m>\u001b[0m \u001b[1;36m50\u001b[0m\u001b[1;33m:\u001b[0m\u001b[1;33m\u001b[0m\u001b[1;33m\u001b[0m\u001b[0m\n\u001b[1;32m--> 318\u001b[1;33m             \u001b[1;32mraise\u001b[0m \u001b[0mException\u001b[0m\u001b[1;33m(\u001b[0m\u001b[1;34m\"EXCEPTION:iterations exceeded maximum (50)\"\u001b[0m\u001b[1;33m)\u001b[0m\u001b[1;33m\u001b[0m\u001b[1;33m\u001b[0m\u001b[0m\n\u001b[0m\u001b[0;32m    319\u001b[0m \u001b[1;33m\u001b[0m\u001b[0m\n\u001b[0;32m    320\u001b[0m     \u001b[1;32mreturn\u001b[0m \u001b[0mfunc\u001b[0m\u001b[1;33m(\u001b[0m\u001b[0mdf\u001b[0m\u001b[1;33m,\u001b[0m \u001b[1;34m'V1'\u001b[0m\u001b[1;33m)\u001b[0m\u001b[1;33m,\u001b[0m \u001b[0mdf\u001b[0m\u001b[1;33m[\u001b[0m\u001b[1;34m'V1'\u001b[0m\u001b[1;33m]\u001b[0m\u001b[1;33m\u001b[0m\u001b[1;33m\u001b[0m\u001b[0m\n",
      "\u001b[1;31mException\u001b[0m: EXCEPTION:iterations exceeded maximum (50)"
     ]
    }
   ],
   "source": [
    "#Calculate CEC results and add to df\n",
    "cec_param = pvlib.pvsystem.calcparams_cec( df['BroadbandPOA_Avg'], df['tcell'], module['alpha_sc'], \n",
    "                                          module['a_ref'], module['I_L_ref'], module['I_o_ref'], module['R_sh_ref'], \n",
    "                                          module['R_s'], module['Adjust'], module['Cells_in_Series'])\n",
    "cec_p = pvlib.pvsystem.singlediode(photocurrent = cec_param[0], saturation_current = cec_param[1], resistance_series =\n",
    "                           cec_param[2], resistance_shunt = cec_param[3], nNsVth = cec_param[4])\n",
    "results['CEC'] = sdm(cec_p['p_mp'], module['str_len'])#.resample('M').mean()"
   ]
  },
  {
   "cell_type": "code",
   "execution_count": 133,
   "metadata": {},
   "outputs": [
    {
     "name": "stderr",
     "output_type": "stream",
     "text": [
      "C:\\Users\\lmdevil\\Anaconda3\\envs\\PVModel\\lib\\site-packages\\pvlib\\singlediode.py:613: RuntimeWarning: overflow encountered in exp\n",
      "  np.exp((Rs[idx_p] * (IL[idx_p] + I0[idx_p]) + V[idx_p]) /\n"
     ]
    },
    {
     "ename": "Exception",
     "evalue": "EXCEPTION:iterations exceeded maximum (50)",
     "output_type": "error",
     "traceback": [
      "\u001b[1;31m---------------------------------------------------------------------------\u001b[0m",
      "\u001b[1;31mException\u001b[0m                                 Traceback (most recent call last)",
      "\u001b[1;32m<ipython-input-133-f5a8d6a1d816>\u001b[0m in \u001b[0;36m<module>\u001b[1;34m\u001b[0m\n\u001b[0;32m      3\u001b[0m                                             \u001b[0mmodule\u001b[0m\u001b[1;33m[\u001b[0m\u001b[1;34m'a_ref'\u001b[0m\u001b[1;33m]\u001b[0m\u001b[1;33m,\u001b[0m\u001b[0mmodule\u001b[0m\u001b[1;33m[\u001b[0m\u001b[1;34m'I_L_ref'\u001b[0m\u001b[1;33m]\u001b[0m\u001b[1;33m,\u001b[0m \u001b[0mmodule\u001b[0m\u001b[1;33m[\u001b[0m\u001b[1;34m'I_o_ref'\u001b[0m\u001b[1;33m]\u001b[0m\u001b[1;33m,\u001b[0m\u001b[1;33m\u001b[0m\u001b[1;33m\u001b[0m\u001b[0m\n\u001b[0;32m      4\u001b[0m                                             module['R_sh_ref'], module['R_s'])\n\u001b[1;32m----> 5\u001b[1;33m ds_p = pvlib.pvsystem.singlediode(photocurrent = ds_param[0], saturation_current = ds_param[1], resistance_series =\n\u001b[0m\u001b[0;32m      6\u001b[0m                            ds_param[2], resistance_shunt = ds_param[3], nNsVth = ds_param[4])\n\u001b[0;32m      7\u001b[0m \u001b[0mresults\u001b[0m\u001b[1;33m[\u001b[0m\u001b[1;34m'Desoto'\u001b[0m\u001b[1;33m]\u001b[0m \u001b[1;33m=\u001b[0m \u001b[0msdm\u001b[0m\u001b[1;33m(\u001b[0m\u001b[0mds_p\u001b[0m\u001b[1;33m[\u001b[0m\u001b[1;34m'p_mp'\u001b[0m\u001b[1;33m]\u001b[0m\u001b[1;33m,\u001b[0m \u001b[0mmodule\u001b[0m\u001b[1;33m[\u001b[0m\u001b[1;34m'str_len'\u001b[0m\u001b[1;33m]\u001b[0m\u001b[1;33m)\u001b[0m\u001b[1;31m#.resample('M').mean()\u001b[0m\u001b[1;33m\u001b[0m\u001b[1;33m\u001b[0m\u001b[0m\n",
      "\u001b[1;32m~\\Anaconda3\\envs\\PVModel\\lib\\site-packages\\pvlib\\pvsystem.py\u001b[0m in \u001b[0;36msinglediode\u001b[1;34m(photocurrent, saturation_current, resistance_series, resistance_shunt, nNsVth, ivcurve_pnts, method)\u001b[0m\n\u001b[0;32m   2545\u001b[0m     \u001b[1;31m# single diode equation\u001b[0m\u001b[1;33m\u001b[0m\u001b[1;33m\u001b[0m\u001b[1;33m\u001b[0m\u001b[0m\n\u001b[0;32m   2546\u001b[0m     \u001b[1;32mif\u001b[0m \u001b[0mmethod\u001b[0m\u001b[1;33m.\u001b[0m\u001b[0mlower\u001b[0m\u001b[1;33m(\u001b[0m\u001b[1;33m)\u001b[0m \u001b[1;33m==\u001b[0m \u001b[1;34m'lambertw'\u001b[0m\u001b[1;33m:\u001b[0m\u001b[1;33m\u001b[0m\u001b[1;33m\u001b[0m\u001b[0m\n\u001b[1;32m-> 2547\u001b[1;33m         out = _singlediode._lambertw(\n\u001b[0m\u001b[0;32m   2548\u001b[0m             \u001b[0mphotocurrent\u001b[0m\u001b[1;33m,\u001b[0m \u001b[0msaturation_current\u001b[0m\u001b[1;33m,\u001b[0m \u001b[0mresistance_series\u001b[0m\u001b[1;33m,\u001b[0m\u001b[1;33m\u001b[0m\u001b[1;33m\u001b[0m\u001b[0m\n\u001b[0;32m   2549\u001b[0m             \u001b[0mresistance_shunt\u001b[0m\u001b[1;33m,\u001b[0m \u001b[0mnNsVth\u001b[0m\u001b[1;33m,\u001b[0m \u001b[0mivcurve_pnts\u001b[0m\u001b[1;33m\u001b[0m\u001b[1;33m\u001b[0m\u001b[0m\n",
      "\u001b[1;32m~\\Anaconda3\\envs\\PVModel\\lib\\site-packages\\pvlib\\singlediode.py\u001b[0m in \u001b[0;36m_lambertw\u001b[1;34m(photocurrent, saturation_current, resistance_series, resistance_shunt, nNsVth, ivcurve_pnts)\u001b[0m\n\u001b[0;32m    649\u001b[0m     \u001b[1;31m# Find the voltage, v_mp, where the power is maximized.\u001b[0m\u001b[1;33m\u001b[0m\u001b[1;33m\u001b[0m\u001b[1;33m\u001b[0m\u001b[0m\n\u001b[0;32m    650\u001b[0m     \u001b[1;31m# Start the golden section search at v_oc * 1.14\u001b[0m\u001b[1;33m\u001b[0m\u001b[1;33m\u001b[0m\u001b[1;33m\u001b[0m\u001b[0m\n\u001b[1;32m--> 651\u001b[1;33m     p_mp, v_mp = _golden_sect_DataFrame(params, 0., v_oc * 1.14,\n\u001b[0m\u001b[0;32m    652\u001b[0m                                         _pwr_optfcn)\n\u001b[0;32m    653\u001b[0m \u001b[1;33m\u001b[0m\u001b[0m\n",
      "\u001b[1;32m~\\Anaconda3\\envs\\PVModel\\lib\\site-packages\\pvlib\\tools.py\u001b[0m in \u001b[0;36m_golden_sect_DataFrame\u001b[1;34m(params, VL, VH, func)\u001b[0m\n\u001b[0;32m    316\u001b[0m \u001b[1;33m\u001b[0m\u001b[0m\n\u001b[0;32m    317\u001b[0m         \u001b[1;32mif\u001b[0m \u001b[0miterations\u001b[0m \u001b[1;33m>\u001b[0m \u001b[1;36m50\u001b[0m\u001b[1;33m:\u001b[0m\u001b[1;33m\u001b[0m\u001b[1;33m\u001b[0m\u001b[0m\n\u001b[1;32m--> 318\u001b[1;33m             \u001b[1;32mraise\u001b[0m \u001b[0mException\u001b[0m\u001b[1;33m(\u001b[0m\u001b[1;34m\"EXCEPTION:iterations exceeded maximum (50)\"\u001b[0m\u001b[1;33m)\u001b[0m\u001b[1;33m\u001b[0m\u001b[1;33m\u001b[0m\u001b[0m\n\u001b[0m\u001b[0;32m    319\u001b[0m \u001b[1;33m\u001b[0m\u001b[0m\n\u001b[0;32m    320\u001b[0m     \u001b[1;32mreturn\u001b[0m \u001b[0mfunc\u001b[0m\u001b[1;33m(\u001b[0m\u001b[0mdf\u001b[0m\u001b[1;33m,\u001b[0m \u001b[1;34m'V1'\u001b[0m\u001b[1;33m)\u001b[0m\u001b[1;33m,\u001b[0m \u001b[0mdf\u001b[0m\u001b[1;33m[\u001b[0m\u001b[1;34m'V1'\u001b[0m\u001b[1;33m]\u001b[0m\u001b[1;33m\u001b[0m\u001b[1;33m\u001b[0m\u001b[0m\n",
      "\u001b[1;31mException\u001b[0m: EXCEPTION:iterations exceeded maximum (50)"
     ]
    }
   ],
   "source": [
    "#Calculate Desoto results and add to df\n",
    "ds_param = pvlib.pvsystem.calcparams_desoto(df['BroadbandPOA_Avg'], df['tcell'], module['alpha_sc'],\n",
    "                                            module['a_ref'],module['I_L_ref'], module['I_o_ref'], \n",
    "                                            module['R_sh_ref'], module['R_s'])\n",
    "ds_p = pvlib.pvsystem.singlediode(photocurrent = ds_param[0], saturation_current = ds_param[1], resistance_series =\n",
    "                           ds_param[2], resistance_shunt = ds_param[3], nNsVth = ds_param[4])\n",
    "results['Desoto'] = sdm(ds_p['p_mp'], module['str_len'])#.resample('M').mean()"
   ]
  },
  {
   "cell_type": "code",
   "execution_count": 134,
   "metadata": {},
   "outputs": [
    {
     "name": "stderr",
     "output_type": "stream",
     "text": [
      "C:\\Users\\lmdevil\\Anaconda3\\envs\\PVModel\\lib\\site-packages\\pvlib\\singlediode.py:550: RuntimeWarning: invalid value encountered in log\n",
      "  np.log(a[idx_p]) +\n"
     ]
    },
    {
     "ename": "Exception",
     "evalue": "EXCEPTION:iterations exceeded maximum (50)",
     "output_type": "error",
     "traceback": [
      "\u001b[1;31m---------------------------------------------------------------------------\u001b[0m",
      "\u001b[1;31mException\u001b[0m                                 Traceback (most recent call last)",
      "\u001b[1;32m<ipython-input-134-efd5d820b9c2>\u001b[0m in \u001b[0;36m<module>\u001b[1;34m\u001b[0m\n\u001b[0;32m      3\u001b[0m                                              \u001b[0mmodule\u001b[0m\u001b[1;33m[\u001b[0m\u001b[1;34m'gamma_ref'\u001b[0m\u001b[1;33m]\u001b[0m\u001b[1;33m,\u001b[0m\u001b[0mmodule\u001b[0m\u001b[1;33m[\u001b[0m\u001b[1;34m'mu_gamma'\u001b[0m\u001b[1;33m]\u001b[0m\u001b[1;33m,\u001b[0m \u001b[0mmodule\u001b[0m\u001b[1;33m[\u001b[0m\u001b[1;34m'I_L_ref'\u001b[0m\u001b[1;33m]\u001b[0m\u001b[1;33m,\u001b[0m \u001b[0mmodule\u001b[0m\u001b[1;33m[\u001b[0m\u001b[1;34m'I_o_ref'\u001b[0m\u001b[1;33m]\u001b[0m\u001b[1;33m,\u001b[0m\u001b[1;33m\u001b[0m\u001b[1;33m\u001b[0m\u001b[0m\n\u001b[0;32m      4\u001b[0m                                              module['R_sh_ref'], module['R_sh_0'], module['R_s'],  module['Cells_in_Series'])\n\u001b[1;32m----> 5\u001b[1;33m pvs_p = pvlib.pvsystem.singlediode(photocurrent = pvs_param[0], saturation_current = pvs_param[1], resistance_series =\n\u001b[0m\u001b[0;32m      6\u001b[0m                            pvs_param[2], resistance_shunt = pvs_param[3], nNsVth = pvs_param[4])\n\u001b[0;32m      7\u001b[0m \u001b[0mresults\u001b[0m\u001b[1;33m[\u001b[0m\u001b[1;34m'PVSyst'\u001b[0m\u001b[1;33m]\u001b[0m \u001b[1;33m=\u001b[0m \u001b[0msdm\u001b[0m\u001b[1;33m(\u001b[0m\u001b[0mpvs_p\u001b[0m\u001b[1;33m[\u001b[0m\u001b[1;34m'p_mp'\u001b[0m\u001b[1;33m]\u001b[0m\u001b[1;33m,\u001b[0m \u001b[0mmodule\u001b[0m\u001b[1;33m[\u001b[0m\u001b[1;34m'str_len'\u001b[0m\u001b[1;33m]\u001b[0m\u001b[1;33m)\u001b[0m\u001b[1;31m#.resample('M').mean()\u001b[0m\u001b[1;33m\u001b[0m\u001b[1;33m\u001b[0m\u001b[0m\n",
      "\u001b[1;32m~\\Anaconda3\\envs\\PVModel\\lib\\site-packages\\pvlib\\pvsystem.py\u001b[0m in \u001b[0;36msinglediode\u001b[1;34m(photocurrent, saturation_current, resistance_series, resistance_shunt, nNsVth, ivcurve_pnts, method)\u001b[0m\n\u001b[0;32m   2545\u001b[0m     \u001b[1;31m# single diode equation\u001b[0m\u001b[1;33m\u001b[0m\u001b[1;33m\u001b[0m\u001b[1;33m\u001b[0m\u001b[0m\n\u001b[0;32m   2546\u001b[0m     \u001b[1;32mif\u001b[0m \u001b[0mmethod\u001b[0m\u001b[1;33m.\u001b[0m\u001b[0mlower\u001b[0m\u001b[1;33m(\u001b[0m\u001b[1;33m)\u001b[0m \u001b[1;33m==\u001b[0m \u001b[1;34m'lambertw'\u001b[0m\u001b[1;33m:\u001b[0m\u001b[1;33m\u001b[0m\u001b[1;33m\u001b[0m\u001b[0m\n\u001b[1;32m-> 2547\u001b[1;33m         out = _singlediode._lambertw(\n\u001b[0m\u001b[0;32m   2548\u001b[0m             \u001b[0mphotocurrent\u001b[0m\u001b[1;33m,\u001b[0m \u001b[0msaturation_current\u001b[0m\u001b[1;33m,\u001b[0m \u001b[0mresistance_series\u001b[0m\u001b[1;33m,\u001b[0m\u001b[1;33m\u001b[0m\u001b[1;33m\u001b[0m\u001b[0m\n\u001b[0;32m   2549\u001b[0m             \u001b[0mresistance_shunt\u001b[0m\u001b[1;33m,\u001b[0m \u001b[0mnNsVth\u001b[0m\u001b[1;33m,\u001b[0m \u001b[0mivcurve_pnts\u001b[0m\u001b[1;33m\u001b[0m\u001b[1;33m\u001b[0m\u001b[0m\n",
      "\u001b[1;32m~\\Anaconda3\\envs\\PVModel\\lib\\site-packages\\pvlib\\singlediode.py\u001b[0m in \u001b[0;36m_lambertw\u001b[1;34m(photocurrent, saturation_current, resistance_series, resistance_shunt, nNsVth, ivcurve_pnts)\u001b[0m\n\u001b[0;32m    649\u001b[0m     \u001b[1;31m# Find the voltage, v_mp, where the power is maximized.\u001b[0m\u001b[1;33m\u001b[0m\u001b[1;33m\u001b[0m\u001b[1;33m\u001b[0m\u001b[0m\n\u001b[0;32m    650\u001b[0m     \u001b[1;31m# Start the golden section search at v_oc * 1.14\u001b[0m\u001b[1;33m\u001b[0m\u001b[1;33m\u001b[0m\u001b[1;33m\u001b[0m\u001b[0m\n\u001b[1;32m--> 651\u001b[1;33m     p_mp, v_mp = _golden_sect_DataFrame(params, 0., v_oc * 1.14,\n\u001b[0m\u001b[0;32m    652\u001b[0m                                         _pwr_optfcn)\n\u001b[0;32m    653\u001b[0m \u001b[1;33m\u001b[0m\u001b[0m\n",
      "\u001b[1;32m~\\Anaconda3\\envs\\PVModel\\lib\\site-packages\\pvlib\\tools.py\u001b[0m in \u001b[0;36m_golden_sect_DataFrame\u001b[1;34m(params, VL, VH, func)\u001b[0m\n\u001b[0;32m    316\u001b[0m \u001b[1;33m\u001b[0m\u001b[0m\n\u001b[0;32m    317\u001b[0m         \u001b[1;32mif\u001b[0m \u001b[0miterations\u001b[0m \u001b[1;33m>\u001b[0m \u001b[1;36m50\u001b[0m\u001b[1;33m:\u001b[0m\u001b[1;33m\u001b[0m\u001b[1;33m\u001b[0m\u001b[0m\n\u001b[1;32m--> 318\u001b[1;33m             \u001b[1;32mraise\u001b[0m \u001b[0mException\u001b[0m\u001b[1;33m(\u001b[0m\u001b[1;34m\"EXCEPTION:iterations exceeded maximum (50)\"\u001b[0m\u001b[1;33m)\u001b[0m\u001b[1;33m\u001b[0m\u001b[1;33m\u001b[0m\u001b[0m\n\u001b[0m\u001b[0;32m    319\u001b[0m \u001b[1;33m\u001b[0m\u001b[0m\n\u001b[0;32m    320\u001b[0m     \u001b[1;32mreturn\u001b[0m \u001b[0mfunc\u001b[0m\u001b[1;33m(\u001b[0m\u001b[0mdf\u001b[0m\u001b[1;33m,\u001b[0m \u001b[1;34m'V1'\u001b[0m\u001b[1;33m)\u001b[0m\u001b[1;33m,\u001b[0m \u001b[0mdf\u001b[0m\u001b[1;33m[\u001b[0m\u001b[1;34m'V1'\u001b[0m\u001b[1;33m]\u001b[0m\u001b[1;33m\u001b[0m\u001b[1;33m\u001b[0m\u001b[0m\n",
      "\u001b[1;31mException\u001b[0m: EXCEPTION:iterations exceeded maximum (50)"
     ]
    }
   ],
   "source": [
    "#Calculte PVSystem results and add to df\n",
    "pvs_param = pvlib.pvsystem.calcparams_pvsyst(df['BroadbandPOA_Avg'],df['tcell'], module['alpha_sc'], \n",
    "                                             module['gamma_ref'],module['mu_gamma'], module['I_L_ref'], module['I_o_ref'],\n",
    "                                             module['R_sh_ref'], module['R_sh_0'], module['R_s'],  module['Cells_in_Series'])\n",
    "pvs_p = pvlib.pvsystem.singlediode(photocurrent = pvs_param[0], saturation_current = pvs_param[1], resistance_series =\n",
    "                           pvs_param[2], resistance_shunt = pvs_param[3], nNsVth = pvs_param[4])\n",
    "results['PVSyst'] = sdm(pvs_p['p_mp'], module['str_len'])#.resample('M').mean()"
   ]
  },
  {
   "cell_type": "code",
   "execution_count": 126,
   "metadata": {},
   "outputs": [],
   "source": [
    "#Import matrix of measurement data\n",
    "measurements_file = 'Sandia_PV_Module_P-Matrix-and-TempCo-Data_2019.xlsx'\n",
    "matrix = pd.read_excel(measurements_file, sheet_name = mod_name, usecols='B,C,H', header=None, skiprows=5, nrows=27)\n",
    "matrix.columns = ['temperature', 'irradiance', 'p_mp']\n",
    "# calculate efficiency from power\n",
    "matrix = matrix.eval('eta = p_mp / irradiance')\n",
    "eta_stc = matrix.query('irradiance == 1000 and temperature == 25').eta\n",
    "matrix.eta /= eta_stc.values\n",
    "# just keep the columns that are needed\n",
    "matrix = matrix[['irradiance', 'temperature', 'eta']]\n",
    "\n",
    "#Until the other function is complete, I have this setup just to get out all negative values, but it leads to problems at times\n",
    "#df.loc[df['BroadbandPOA_Avg']<0, 'BroadbandPOA_Avg'] = 0"
   ]
  },
  {
   "cell_type": "code",
   "execution_count": 127,
   "metadata": {},
   "outputs": [
    {
     "name": "stderr",
     "output_type": "stream",
     "text": [
      "C:\\Users\\lmdevil\\Anaconda3\\envs\\PVModel\\lib\\site-packages\\pvpltools\\module_efficiency.py:184: RuntimeWarning: overflow encountered in power\n",
      "  s_o     = 10**(k_d + (tc_d * dt))\n",
      "C:\\Users\\lmdevil\\Anaconda3\\envs\\PVModel\\lib\\site-packages\\pvpltools\\module_efficiency.py:189: RuntimeWarning: invalid value encountered in log\n",
      "  v  = np.log(s / s_o     + 1)\n"
     ]
    }
   ],
   "source": [
    "#Calculate ADR results and add to df\n",
    "popt, pcov = fit_efficiency_model(matrix.irradiance,matrix.temperature,matrix.eta,adr)\n",
    "adr_eff = adr(df['BroadbandPOA_Avg'], df['tcell'], *popt)\n",
    "adr_p = (df['BroadbandPOA_Avg']/1000) * (adr_eff) * (module['Power']) *12\n",
    "results['ADR'] = adr_p.resample('H').mean()"
   ]
  },
  {
   "cell_type": "code",
   "execution_count": 128,
   "metadata": {},
   "outputs": [
    {
     "name": "stderr",
     "output_type": "stream",
     "text": [
      "C:\\Users\\lmdevil\\Anaconda3\\envs\\PVModel\\lib\\site-packages\\pvpltools\\module_efficiency.py:262: RuntimeWarning: invalid value encountered in log\n",
      "  b * log(g + 1) +\n",
      "C:\\Users\\lmdevil\\Anaconda3\\envs\\PVModel\\lib\\site-packages\\pvpltools\\module_efficiency.py:264: RuntimeWarning: invalid value encountered in log\n",
      "  c * (square(log(g + exp(1))) / (g + 1) - 1)\n"
     ]
    }
   ],
   "source": [
    "#Calculate Heydenreich results and add to df\n",
    "popt, pcov = fit_efficiency_model(matrix.irradiance,matrix.temperature,matrix.eta,heydenreich)\n",
    "hey_eff = heydenreich(df['BroadbandPOA_Avg'], df['tcell'], *popt)\n",
    "hey_p = (df['BroadbandPOA_Avg']/1000) * (hey_eff) * (module['Power']) *12\n",
    "results['Heydenreich'] = hey_p.resample('H').mean()"
   ]
  },
  {
   "cell_type": "code",
   "execution_count": 129,
   "metadata": {
    "scrolled": true
   },
   "outputs": [
    {
     "name": "stderr",
     "output_type": "stream",
     "text": [
      "C:\\Users\\lmdevil\\Anaconda3\\envs\\PVModel\\lib\\site-packages\\pvpltools\\module_efficiency.py:333: RuntimeWarning: invalid value encountered in log\n",
      "  eta = ( 1 + a * (s - 1)    + b * log(s)\n",
      "C:\\Users\\lmdevil\\Anaconda3\\envs\\PVModel\\lib\\site-packages\\pvpltools\\module_efficiency.py:334: RuntimeWarning: invalid value encountered in log\n",
      "  + c * (s - 1)**2 + d * log(s)**2\n",
      "C:\\Users\\lmdevil\\Anaconda3\\envs\\PVModel\\lib\\site-packages\\pvpltools\\module_efficiency.py:336: RuntimeWarning: invalid value encountered in log\n",
      "  gamma = gamma_ref * ( 1 + aa * (s - 1) + bb * log(s))\n"
     ]
    }
   ],
   "source": [
    "#Calculate MotherPV results and add to df\n",
    "popt, pcov = fit_efficiency_model(matrix.irradiance,matrix.temperature,matrix.eta,motherpv)\n",
    "mother_eff = motherpv(df['BroadbandPOA_Avg'], df['tcell'], *popt)\n",
    "mother_p = (df['BroadbandPOA_Avg']/1000) * (mother_eff) * (module['Power']) * 12\n",
    "results['Mother'] = mother_p.resample('H').mean()"
   ]
  },
  {
   "cell_type": "code",
   "execution_count": 130,
   "metadata": {},
   "outputs": [
    {
     "name": "stderr",
     "output_type": "stream",
     "text": [
      "C:\\Users\\lmdevil\\Anaconda3\\envs\\PVModel\\lib\\site-packages\\pvpltools\\module_efficiency.py:400: RuntimeWarning: invalid value encountered in log\n",
      "  + k1 * log(g)\n",
      "C:\\Users\\lmdevil\\Anaconda3\\envs\\PVModel\\lib\\site-packages\\pvpltools\\module_efficiency.py:401: RuntimeWarning: invalid value encountered in log\n",
      "  + k2 * log(g)**2\n",
      "C:\\Users\\lmdevil\\Anaconda3\\envs\\PVModel\\lib\\site-packages\\pvpltools\\module_efficiency.py:403: RuntimeWarning: invalid value encountered in log\n",
      "  + k4 * log(g)\n",
      "C:\\Users\\lmdevil\\Anaconda3\\envs\\PVModel\\lib\\site-packages\\pvpltools\\module_efficiency.py:404: RuntimeWarning: invalid value encountered in log\n",
      "  + k5 * log(g)**2\n"
     ]
    }
   ],
   "source": [
    "#Calculate PVGIS results and add to df\n",
    "popt, pcov = fit_efficiency_model(matrix.irradiance,matrix.temperature,matrix.eta,pvgis)\n",
    "pvgis_eff = pvgis(df['BroadbandPOA_Avg'], df['tcell'], *popt)\n",
    "pvgis_p = (df['BroadbandPOA_Avg']/1000) * (pvgis_eff) * (module['Power']) *12\n",
    "results['PVGIS'] = pvgis_p.resample('H').mean()"
   ]
  },
  {
   "cell_type": "code",
   "execution_count": 131,
   "metadata": {
    "scrolled": true
   },
   "outputs": [
    {
     "name": "stderr",
     "output_type": "stream",
     "text": [
      "C:\\Users\\lmdevil\\Anaconda3\\envs\\PVModel\\lib\\site-packages\\pvpltools\\module_efficiency.py:478: RuntimeWarning: invalid value encountered in log10\n",
      "  + c3 * np.log10(g)\n"
     ]
    }
   ],
   "source": [
    "#Calculate MPM5 results and add to df\n",
    "popt, pcov = fit_efficiency_model(matrix.irradiance,matrix.temperature,matrix.eta,mpm5)\n",
    "mpm5_eff = mpm5(df['BroadbandPOA_Avg'], df['tcell'], *popt)\n",
    "mpm5_p = (df['BroadbandPOA_Avg']/1000) * (mpm5_eff) * (module['Power']) *12\n",
    "results['MPM5'] = mpm5_p.resample('H').mean()"
   ]
  },
  {
   "cell_type": "code",
   "execution_count": 132,
   "metadata": {},
   "outputs": [],
   "source": [
    "#Calculate MPM6 results and add to df\n",
    "popt, pcov = fit_efficiency_model(matrix.irradiance,matrix.temperature,matrix.eta,mpm6)\n",
    "mpm6_eff = mpm6(df['BroadbandPOA_Avg'], df['tcell'], *popt)\n",
    "mpm6_p = (df['BroadbandPOA_Avg']/1000) * (mpm6_eff) * (module['Power']) *12\n",
    "results['MPM6'] = mpm6_p.resample('H').mean()"
   ]
  },
  {
   "cell_type": "code",
   "execution_count": 31,
   "metadata": {},
   "outputs": [],
   "source": [
    "columns = results.columns\n",
    "for column in columns:\n",
    "    results.loc[results[column]<5, column] = 'NaN'\n",
    "    \n",
    "results=results.astype(float)"
   ]
  },
  {
   "cell_type": "code",
   "execution_count": 44,
   "metadata": {
    "scrolled": false
   },
   "outputs": [],
   "source": [
    "#Plot just for fun\n",
    "#results.rename(columns = { 0 : 'Measured'}, inplace = True)\n",
    "#results.plot()\n",
    "#plt.xlim('2020-01-07', '2020-12-22')\n",
    "#plt.ylim(0,4500)\n",
    "#plt.legend(loc='center left', bbox_to_anchor=(1,0.5))\n",
    "#plt.xlabel('Date')\n",
    "#plt.ylabel('Power (W)')"
   ]
  },
  {
   "cell_type": "code",
   "execution_count": 35,
   "metadata": {},
   "outputs": [],
   "source": [
    "#calculate absolute differences\n",
    "ad = abs(results['Str_1']-results['SAM']).to_frame()\n",
    "ad.rename(columns = { 0 : 'SAM_1'}, inplace = True)\n",
    "ad.index = results.index\n",
    "ad['SAM_2'] = abs(results['Str_2']-results['SAM'])\n",
    "ad['SAM_3'] = abs(results['Str_3']-results['SAM'])\n",
    "ad['SAM_4'] = abs(results['Str_4']-results['SAM'])\n",
    "ad['SAPM_1'] = abs(results['Str_1']-results['SAPM'])\n",
    "ad['SAPM_2'] = abs(results['Str_2']-results['SAPM'])\n",
    "ad['SAPM_3'] = abs(results['Str_3']-results['SAPM'])\n",
    "ad['SAPM_4'] = abs(results['Str_4']-results['SAPM'])\n",
    "for col_1 in col_1s:\n",
    "    for measured in measureds:\n",
    "        ad[col_1] = abs(results[measured]-results[col_1])\n",
    "        \n",
    "for col_2 in col_2s:\n",
    "    for measured in measureds:\n",
    "        ad[col_2] = abs(results[measured]-results[col_2])\n",
    "        \n",
    "for col_3 in col_3s:\n",
    "    for measured in measureds:\n",
    "        ad[col_3] = abs(results[measured]-results[col_3])\n",
    "        \n",
    "for col_4 in col_4s:\n",
    "    for measured in measureds:\n",
    "        ad[col_4] = abs(results[measured]-results[col_4])\n",
    "        \n",
    "\n"
   ]
  },
  {
   "cell_type": "code",
   "execution_count": 45,
   "metadata": {
    "scrolled": true
   },
   "outputs": [],
   "source": [
    "#calculate absolute percentage differences\n",
    "apd = 100*abs((results['SAM']-results['Str_1'])/results['Str_1']).to_frame()\n",
    "apd.rename(columns = { 0 : 'SAM_1'}, inplace = True)\n",
    "apd.index = results.index\n",
    "apd['SAM_2'] = 100*abs((results['SAM']-results['Str_2'])/results['Str_2'])\n",
    "apd['SAM_3'] = 100*abs((results['SAM']-results['Str_3'])/results['Str_3'])\n",
    "apd['SAM_4'] = 100*abs((results['SAM']-results['Str_4'])/results['Str_4'])\n",
    "apd['SAPM_1'] = 100*abs((results['SAPM']-results['Str_1'])/results['Str_1'])\n",
    "apd['SAPM_2'] = 100*abs((results['SAPM']-results['Str_2'])/results['Str_2'])\n",
    "apd['SAPM_3'] = 100*abs((results['SAPM']-results['Str_3'])/results['Str_3'])\n",
    "apd['SAPM_4'] = 100*abs((results['SAPM']-results['Str_4'])/results['Str_4'])\n",
    "\n",
    "for col_1 in col_1s:\n",
    "    for measured in measureds:\n",
    "        apd[col_1] = 100*abs(results[col_1]-results[measured])/results[measured]\n",
    "        \n",
    "for col_2 in col_2s:\n",
    "    for measured in measureds:\n",
    "        apd[col_2] = 100*abs(results[col_2]-results[measured])/results[measured]\n",
    "        \n",
    "for col_3 in col_3s:\n",
    "    for measured in measureds:\n",
    "        apd[col_3] = 100*abs(results[col_3]-results[measured])/results[measured]\n",
    "        \n",
    "for col_4 in col_4s:\n",
    "    for measured in measureds:\n",
    "        apd[col_4] = 100*abs(results[col_4]-results[measured])/results[measured]\n",
    "        \n"
   ]
  },
  {
   "cell_type": "code",
   "execution_count": 99,
   "metadata": {},
   "outputs": [],
   "source": [
    "#Calculate MAPE according to different time intervales (Day, Month, Yearly)\n",
    "#dmape = apd.resample('D').mean()\n",
    "#dmape.drop(columns = ['SAM', 'SAPM'], inplace = True)\n",
    "#mmape = apd.resample('M').mean()\n",
    "#mmape.drop(columns = ['SAM', 'SAPM'], inplace = True)\n",
    "#ymape = apd.resample('Y').mean()\n",
    "#ymape.drop(columns = ['SAM', 'SAPM'], inplace = True)"
   ]
  },
  {
   "cell_type": "code",
   "execution_count": 109,
   "metadata": {},
   "outputs": [],
   "source": [
    "# Organize values into meta frame to be plotted\n",
    "#t_mmape = mmape.transpose()\n",
    "#t_mmape.sort_index(ascending=True, inplace=True)\n",
    "\n",
    "#meta = {'Model': ['ADR','ADR','ADR','ADR','CEC','CEC','CEC','CEC','Desoto','Desoto','Desoto','Desoto','Heydenreich',\n",
    "                  'Heydenreich','Heydenreich','Heydenreich', 'MPM5','MPM5','MPM5','MPM5','MPM6','MPM6','MPM6','MPM6', \n",
    "                  'MotherPV','MotherPV','MotherPV','MotherPV','PVGIS','PVGIS','PVGIS','PVGIS','PVSyst','PVSyst','PVSyst',\n",
    "                  'PVSyst','PVWatts','PVWatts','PVWatts','PVWatts','SAM','SAM','SAM','SAM','SAPM','SAPM','SAPM','SAPM']}\n",
    "#meta = pd.DataFrame(meta)\n",
    "#meta['String #'] = ['Str 1', 'Str 2', 'Str 3', 'Str 4','Str 1', 'Str 2', 'Str 3', 'Str 4','Str 1', 'Str 2', 'Str 3', 'Str 4',\n",
    "                   'Str 1', 'Str 2', 'Str 3', 'Str 4','Str 1', 'Str 2', 'Str 3', 'Str 4','Str 1', 'Str 2', 'Str 3', 'Str 4',\n",
    "                   'Str 1', 'Str 2', 'Str 3', 'Str 4','Str 1', 'Str 2', 'Str 3', 'Str 4','Str 1', 'Str 2', 'Str 3', 'Str 4',\n",
    "                   'Str 1', 'Str 2', 'Str 3', 'Str 4','Str 1', 'Str 2', 'Str 3', 'Str 4','Str 1', 'Str 2', 'Str 3', 'Str 4']\n",
    "#meta['MAPE 5/2020'] = t_mmape['2020-05-31 00:00:00-07:00'].to_list()\n"
   ]
  },
  {
   "cell_type": "code",
   "execution_count": 111,
   "metadata": {},
   "outputs": [
    {
     "data": {
      "image/png": "[encoded data removed]",
      "text/plain": [
       "<Figure size 432x288 with 1 Axes>"
      ]
     },
     "metadata": {
      "needs_background": "light"
     },
     "output_type": "display_data"
    }
   ],
   "source": [
    "#ax = sns.boxplot(x = 'Model', y = 'MAPE 5/2020', data=meta, linewidth = 2.5)"
   ]
  },
  {
   "cell_type": "code",
   "execution_count": null,
   "metadata": {},
   "outputs": [],
   "source": []
  }
 ],
 "metadata": {
  "kernelspec": {
   "display_name": "PVModel",
   "language": "python",
   "name": "pvmodel"
  },
  "language_info": {
   "codemirror_mode": {
    "name": "ipython",
    "version": 3
   },
   "file_extension": ".py",
   "mimetype": "text/x-python",
   "name": "python",
   "nbconvert_exporter": "python",
   "pygments_lexer": "ipython3",
   "version": "3.8.8"
  }
 },
 "nbformat": 4,
 "nbformat_minor": 4
}
