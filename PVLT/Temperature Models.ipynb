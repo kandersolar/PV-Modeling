{
 "cells": [
  {
   "cell_type": "code",
   "execution_count": 45,
   "metadata": {},
   "outputs": [],
   "source": [
    "%run PVModel_functions.ipynb"
   ]
  },
  {
   "cell_type": "code",
   "execution_count": 46,
   "metadata": {},
   "outputs": [],
   "source": [
    "%run PVsystem_filterfunction_jack-may.ipynb"
   ]
  },
  {
   "cell_type": "code",
   "execution_count": 47,
   "metadata": {},
   "outputs": [],
   "source": [
    "#This cell imports all the necessary packages & module data\n",
    "import pandas as pd \n",
    "import numpy as np\n",
    "from datetime import datetime\n",
    "import datatools\n",
    "import matplotlib as mpl\n",
    "import matplotlib.pyplot as plt\n",
    "import datetime\n",
    "import pvlib\n",
    "import pvanalytics\n",
    "import math\n",
    "import pvpltools\n",
    "import seaborn as sns\n",
    "import sklearn\n",
    "import statistics\n",
    "from sklearn.metrics import r2_score\n",
    "from pvpltools import iec61853\n",
    "from pvpltools.module_efficiency import adr, heydenreich, motherpv, pvgis, mpm5, mpm6, bilinear\n",
    "from pvpltools.module_efficiency import fit_efficiency_model, fit_bilinear\n",
    "\n",
    "%matplotlib inline \n",
    "from pandas.plotting import register_matplotlib_converters\n",
    "register_matplotlib_converters()\n",
    "\n",
    "mpl.rcParams['font.size']=12\n",
    "mpl.rcParams['lines.linewidth']=1\n",
    "mpl.rcParams['xtick.labelsize']=10\n",
    "#mpl.rcParams['font.weight']='bold'\n",
    "mpl.rcParams['axes.titlesize']=22"
   ]
  },
  {
   "cell_type": "code",
   "execution_count": 79,
   "metadata": {},
   "outputs": [],
   "source": [
    "mod_names = 'LG', 'Panasonic', 'Can270', 'Can275', 'HanQPlus', 'HanQPeak', 'MissionSolar'#, 'Jinko'\n",
    "mettablename = 'dbo.SNLA_Met_DataOut'"
   ]
  },
  {
   "cell_type": "code",
   "execution_count": 97,
   "metadata": {},
   "outputs": [],
   "source": [
    "#Generate an empty df to store appended results\n",
    "tempresults = []"
   ]
  },
  {
   "cell_type": "code",
   "execution_count": 98,
   "metadata": {
    "scrolled": false
   },
   "outputs": [
    {
     "name": "stdout",
     "output_type": "stream",
     "text": [
      "LG\n",
      "Panasonic\n",
      "Can270\n",
      "Can275\n",
      "HanQPlus\n",
      "HanQPeak\n",
      "MissionSolar\n"
     ]
    }
   ],
   "source": [
    "for mod_name in mod_names:\n",
    "    \n",
    "    \n",
    "    #Reads in an excel file of all necessary module coefficients, string lengths, system dates, etc\n",
    "    mod_info = pd.read_excel('module_coefficients.xlsx')\n",
    "    mod_info.index = mod_info['Manufacturer']\n",
    "    del mod_info['Manufacturer']\n",
    "    #defines the specific module given the previous user input and module coefficients file\n",
    "    module = mod_info[mod_name]\n",
    "    systablename = module['table_name']\n",
    "    start = '2021-01-01 00:00:00-07:00'\n",
    "    end = '2021-07-27 00:00:00-07:00'\n",
    "    \n",
    "    #Import sys & met databases & merge into one df\n",
    "    df = sys_met_data(mettablename, systablename, start, end)\n",
    "    \n",
    "    #Filter out erroneous temperature and wind speed measurements\n",
    "    df = simple_filter(sys=df, variable='Temp_C_Avg', lower=-40, upper=60, apply=True)\n",
    "    df = simple_filter(sys=df, variable='WS_ms_Mean', lower= 0,  upper=32, apply=True)\n",
    "    \n",
    "    all_rtd = ['LG', 'Panasonic']\n",
    "    twth_rtd = ['HanQPlus', 'HanQPeak']\n",
    "    onfo_rtd = ['Can 270', 'Can275']\n",
    "    \n",
    "    \n",
    "    #for modules with all rtds present\n",
    "    if mod_name in all_rtd:\n",
    "        \n",
    "        #filter out of bounds rtd measurements\n",
    "        df = simple_filter(sys=df, variable=module['str_1_rtd'], lower=-15, upper=80, apply=True)\n",
    "        df = simple_filter(sys=df, variable=module['str_2_rtd'], lower=-15, upper=80, apply=True)\n",
    "        df = simple_filter(sys=df, variable=module['str_3_rtd'], lower=-15, upper=80, apply=True)\n",
    "        df = simple_filter(sys=df, variable=module['str_4_rtd'], lower=-15, upper=80, apply=True)\n",
    "        \n",
    "        #calculate mean and median rtd values\n",
    "        df['Mean RTD'] = ((df[module['str_1_rtd']]+df[module['str_2_rtd']]+df[module['str_3_rtd']]+df[module['str_4_rtd']])/4)\n",
    "        rtds = pd.DataFrame(df[module['str_1_rtd']])\n",
    "        rtds[module['str_2_rtd']] = df[module['str_2_rtd']]\n",
    "        rtds[module['str_3_rtd']] = df[module['str_3_rtd']]\n",
    "        rtds[module['str_4_rtd']] = df[module['str_4_rtd']]\n",
    "        df['Median RTD'] = rtds.median(axis=1)\n",
    "        \n",
    "    #for modules with only strings 2 and 3 rtds present    \n",
    "    elif mod_name in twth_rtd:\n",
    "        \n",
    "        #filter out of bounds rtd measurements\n",
    "        df = simple_filter(sys=df, variable=module['str_2_rtd'], lower=-15, upper=80, apply=True)\n",
    "        df = simple_filter(sys=df, variable=module['str_3_rtd'], lower=-15, upper=80, apply=True)\n",
    "        \n",
    "        #calculate mean and median rtd values\n",
    "        df['Mean RTD'] = ((df[module['str_2_rtd']]+df[module['str_3_rtd']])/2)\n",
    "        rtds = pd.DataFrame(df[module['str_2_rtd']])\n",
    "        rtds[module['str_3_rtd']] = df[module['str_3_rtd']]\n",
    "        df['Median RTD'] = rtds.median(axis=1)\n",
    "    \n",
    "    \n",
    "    #for modules with only strings 1 and 3 rtds present\n",
    "    else:\n",
    "        \n",
    "        #filter out of bounds rtd measurement\n",
    "        df = simple_filter(sys=df, variable=module['str_1_rtd'], lower=-15, upper=80, apply=True)\n",
    "        df = simple_filter(sys=df, variable=module['str_4_rtd'], lower=-15, upper=80, apply=True)\n",
    "        \n",
    "        #calculate mean and median rtd values\n",
    "        df['Mean RTD'] = ((df[module['str_1_rtd']]+df[module['str_4_rtd']])/2)\n",
    "        rtds = pd.DataFrame(df[module['str_1_rtd']])\n",
    "        rtds[module['str_4_rtd']] = df[module['str_4_rtd']]\n",
    "        df['Median RTD'] = rtds.median(axis=1)\n",
    "    \n",
    "    \n",
    "    #Calculate solpos & other environmental data, like airmass, aoi, and differnt poa components\n",
    "    pres = df['Pressure_mBar_Avg']*100\n",
    "    sdf = calc_sol_data(time=df.index, latitude=module['latitude'], longitude=module['longitude'],\n",
    "                    temperature=df['Temp_C_Avg'], tilt=module['tilt'], altitude=module['altitude'])\n",
    "    #Calculate Environmental Data i.e. airmass, pressure, POA irradiance compenents etc.\n",
    "    edf = calc_env_data(tilt=module['tilt'],altitude=module['altitude'], sur_azimuth=module['surface_azimuth'], \n",
    "                    sol_azimuth=sdf['azimuth'], zenith=sdf['apparent_zenith'], DNI=df['Direct_Wm2_Avg'], \n",
    "                    GHI=df['Global_Wm2_Avg'], DHI=df['Diffuse_Wm2_Avg'], DNI_extra=sdf['dni_extra'], model ='haydavies')\n",
    "    \n",
    "    #filter out of bounds poa irradiance\n",
    "    edf = simple_filter(sys=edf, variable='poa_global', lower=0, upper=1300, apply=True)\n",
    "    \n",
    "    \n",
    "    \n",
    "    ###BEGIN TEMPERATURE MODEL CALCULATIONS\n",
    "    \n",
    "    #sapm_tcell\n",
    "    temperature_model_parameters = pvlib.temperature.TEMPERATURE_MODEL_PARAMETERS['sapm']['open_rack_glass_polymer']\n",
    "    tcell_sapm = pvlib.temperature.sapm_cell(poa_global=edf['poa_global'], temp_air=df.Temp_C_Avg, wind_speed=df.WS_ms_Mean,\n",
    "                                        **temperature_model_parameters).to_frame()\n",
    "    tcell_sapm['Model'] = 'sapm_cell'\n",
    "    tcell_sapm['Mean RTD'] = df['Mean RTD']\n",
    "    tcell_sapm['Median RTD'] = df['Median RTD']\n",
    "    tcell_sapm['Year'] = tcell_sapm.index.year\n",
    "    tcell_sapm['TmStamp'] = tcell_sapm.index\n",
    "    tcell_sapm['System'] = mod_name\n",
    "    tempresults.append(tcell_sapm)\n",
    "    \n",
    "    #pvsyst_tcell\n",
    "    temperature_model_parameters = pvlib.temperature.TEMPERATURE_MODEL_PARAMETERS['pvsyst']['freestanding']\n",
    "    tcell_pvsyst = pvlib.temperature.pvsyst_cell(poa_global=edf['poa_global'], temp_air=df.Temp_C_Avg, wind_speed=df.WS_ms_Mean,\n",
    "                                            **temperature_model_parameters).to_frame()\n",
    "    tcell_pvsyst['Model']='pvsyst_cell'\n",
    "    tcell_pvsyst['Mean RTD'] = df['Mean RTD']\n",
    "    tcell_pvsyst['Median RTD'] = df['Median RTD']\n",
    "    tcell_pvsyst['Year'] = tcell_pvsyst.index.year\n",
    "    tcell_pvsyst['TmStamp'] = tcell_pvsyst.index\n",
    "    tcell_pvsyst['System'] = mod_name\n",
    "    tempresults.append(tcell_pvsyst)\n",
    "    \n",
    "    \n",
    "    #faiman_tcell\n",
    "    tcell_faiman = pvlib.temperature.faiman(poa_global=edf['poa_global'], temp_air=df.Temp_C_Avg, wind_speed=df.WS_ms_Mean,\n",
    "                                       u0=module['U0'], u1=module['U1']).to_frame()\n",
    "    tcell_faiman['Model']='faiman'\n",
    "    tcell_faiman['Mean RTD'] = df['Mean RTD']\n",
    "    tcell_faiman['Median RTD'] = df['Median RTD']\n",
    "    tcell_faiman['Year'] = tcell_faiman.index.year\n",
    "    tcell_faiman['TmStamp']=tcell_faiman.index\n",
    "    tcell_faiman['System'] = mod_name\n",
    "    tempresults.append(tcell_faiman)\n",
    "    \n",
    "    #ross_tcell\n",
    "    tcell_ross = pvlib.temperature.ross(poa_global=edf['poa_global'], temp_air=df.Temp_C_Avg, noct=module['noct']).to_frame()\n",
    "    tcell_ross['Model'] = 'ross'\n",
    "    tcell_ross['Mean RTD'] = df['Mean RTD']\n",
    "    tcell_ross['Median RTD'] = df['Median RTD']\n",
    "    tcell_ross['Year'] = tcell_ross.index.year\n",
    "    tcell_ross['TmStamp'] = tcell_ross.index\n",
    "    tcell_ross['System'] = mod_name\n",
    "    tempresults.append(tcell_ross)\n",
    "    \n",
    "    #print module name after each iteration so current system is known\n",
    "    print(mod_name)"
   ]
  },
  {
   "cell_type": "code",
   "execution_count": 99,
   "metadata": {},
   "outputs": [],
   "source": [
    "temp_model_results = pd.concat(tempresults, ignore_index=True)\n",
    "temp_model_results.index = temp_model_results['TmStamp']\n",
    "temp_model_results.rename(columns ={0 : 'Modeled Temperature'}, inplace=True)"
   ]
  },
  {
   "cell_type": "code",
   "execution_count": 104,
   "metadata": {},
   "outputs": [],
   "source": [
    "temp_model_results['AE'] =abs(temp_model_results['Mean RTD'] - temp_model_results['Modeled Temperature'])"
   ]
  },
  {
   "cell_type": "code",
   "execution_count": 105,
   "metadata": {
    "scrolled": true
   },
   "outputs": [
    {
     "data": {
      "text/plain": [
       "<matplotlib.legend.Legend at 0x16fe4b7e550>"
      ]
     },
     "execution_count": 105,
     "metadata": {},
     "output_type": "execute_result"
    },
    {
     "data": {
      "image/png": "[encoded data removed]",
      "text/plain": [
       "<Figure size 432x288 with 1 Axes>"
      ]
     },
     "metadata": {
      "needs_background": "light"
     },
     "output_type": "display_data"
    }
   ],
   "source": [
    "ax = sns.boxplot(x='Model', y='AE', data = temp_model_results, hue='System', showmeans=True, showfliers=False,palette='bright')\n",
    "ax.grid(True)\n",
    "ax.set_ylim([0,15])\n",
    "ax.set_title('Absolute Error of Temperature Models 2021')\n",
    "ax.set_ylabel('Absolute Error (C)')\n",
    "ax.legend(bbox_to_anchor= (1.03, 1))"
   ]
  },
  {
   "cell_type": "code",
   "execution_count": null,
   "metadata": {},
   "outputs": [],
   "source": []
  }
 ],
 "metadata": {
  "kernelspec": {
   "display_name": "PVModel",
   "language": "python",
   "name": "pvmodel"
  },
  "language_info": {
   "codemirror_mode": {
    "name": "ipython",
    "version": 3
   },
   "file_extension": ".py",
   "mimetype": "text/x-python",
   "name": "python",
   "nbconvert_exporter": "python",
   "pygments_lexer": "ipython3",
   "version": "3.8.8"
  }
 },
 "nbformat": 4,
 "nbformat_minor": 4
}
