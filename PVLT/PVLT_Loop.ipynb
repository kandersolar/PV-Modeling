{
 "cells": [
  {
   "cell_type": "code",
   "execution_count": 1,
   "metadata": {},
   "outputs": [],
   "source": [
    "%run PVModel_functions.ipynb"
   ]
  },
  {
   "cell_type": "code",
   "execution_count": 2,
   "metadata": {},
   "outputs": [],
   "source": [
    "%run PVsystem_filterfunction_jack-may.ipynb"
   ]
  },
  {
   "cell_type": "code",
   "execution_count": 3,
   "metadata": {},
   "outputs": [],
   "source": [
    "#This cell imports all the necessary packages & module data\n",
    "import pandas as pd \n",
    "import numpy as np\n",
    "from datetime import datetime\n",
    "import datatools\n",
    "import matplotlib as mpl\n",
    "import matplotlib.pyplot as plt\n",
    "import datetime\n",
    "import pvlib\n",
    "import pvanalytics\n",
    "import math\n",
    "import pvpltools\n",
    "import seaborn as sns\n",
    "from pvpltools import iec61853\n",
    "from pvpltools.module_efficiency import adr, heydenreich, motherpv, pvgis, mpm5, mpm6, bilinear\n",
    "from pvpltools.module_efficiency import fit_efficiency_model, fit_bilinear\n",
    "\n",
    "%matplotlib inline \n",
    "from pandas.plotting import register_matplotlib_converters\n",
    "register_matplotlib_converters()\n",
    "\n",
    "mpl.rcParams['font.size']=12\n",
    "mpl.rcParams['lines.linewidth']=1\n",
    "mpl.rcParams['xtick.labelsize']=10\n",
    "#mpl.rcParams['font.weight']='bold'\n",
    "mpl.rcParams['axes.titlesize']=22\n",
    "\n",
    "mod_names = 'LG', 'Panasonic', 'Can270', 'Can275', 'HanQPlus', 'HanQPeak', 'MissionSolar'\n",
    "mettablename =  'dbo.SNLA_Met_DataOut'"
   ]
  },
  {
   "cell_type": "code",
   "execution_count": 18,
   "metadata": {},
   "outputs": [
    {
     "name": "stderr",
     "output_type": "stream",
     "text": [
      "C:\\Users\\lmdevil\\Anaconda3\\envs\\PVModel\\lib\\site-packages\\pandas\\core\\arraylike.py:358: RuntimeWarning: invalid value encountered in log\n",
      "  result = getattr(ufunc, method)(*inputs, **kwargs)\n",
      "C:\\Users\\lmdevil\\Anaconda3\\envs\\PVModel\\lib\\site-packages\\pvpltools\\module_efficiency.py:184: RuntimeWarning: overflow encountered in power\n",
      "  s_o     = 10**(k_d + (tc_d * dt))\n",
      "C:\\Users\\lmdevil\\Anaconda3\\envs\\PVModel\\lib\\site-packages\\pvpltools\\module_efficiency.py:189: RuntimeWarning: invalid value encountered in log\n",
      "  v  = np.log(s / s_o     + 1)\n",
      "C:\\Users\\lmdevil\\Anaconda3\\envs\\PVModel\\lib\\site-packages\\pvpltools\\module_efficiency.py:262: RuntimeWarning: invalid value encountered in log\n",
      "  b * log(g + 1) +\n",
      "C:\\Users\\lmdevil\\Anaconda3\\envs\\PVModel\\lib\\site-packages\\pvpltools\\module_efficiency.py:264: RuntimeWarning: invalid value encountered in log\n",
      "  c * (square(log(g + exp(1))) / (g + 1) - 1)\n",
      "C:\\Users\\lmdevil\\Anaconda3\\envs\\PVModel\\lib\\site-packages\\pvpltools\\module_efficiency.py:333: RuntimeWarning: invalid value encountered in log\n",
      "  eta = ( 1 + a * (s - 1)    + b * log(s)\n",
      "C:\\Users\\lmdevil\\Anaconda3\\envs\\PVModel\\lib\\site-packages\\pvpltools\\module_efficiency.py:334: RuntimeWarning: invalid value encountered in log\n",
      "  + c * (s - 1)**2 + d * log(s)**2\n",
      "C:\\Users\\lmdevil\\Anaconda3\\envs\\PVModel\\lib\\site-packages\\pvpltools\\module_efficiency.py:336: RuntimeWarning: invalid value encountered in log\n",
      "  gamma = gamma_ref * ( 1 + aa * (s - 1) + bb * log(s))\n",
      "C:\\Users\\lmdevil\\Anaconda3\\envs\\PVModel\\lib\\site-packages\\pvpltools\\module_efficiency.py:400: RuntimeWarning: invalid value encountered in log\n",
      "  + k1 * log(g)\n",
      "C:\\Users\\lmdevil\\Anaconda3\\envs\\PVModel\\lib\\site-packages\\pvpltools\\module_efficiency.py:401: RuntimeWarning: invalid value encountered in log\n",
      "  + k2 * log(g)**2\n",
      "C:\\Users\\lmdevil\\Anaconda3\\envs\\PVModel\\lib\\site-packages\\pvpltools\\module_efficiency.py:403: RuntimeWarning: invalid value encountered in log\n",
      "  + k4 * log(g)\n",
      "C:\\Users\\lmdevil\\Anaconda3\\envs\\PVModel\\lib\\site-packages\\pvpltools\\module_efficiency.py:404: RuntimeWarning: invalid value encountered in log\n",
      "  + k5 * log(g)**2\n",
      "C:\\Users\\lmdevil\\Anaconda3\\envs\\PVModel\\lib\\site-packages\\pvpltools\\module_efficiency.py:478: RuntimeWarning: invalid value encountered in log10\n",
      "  + c3 * np.log10(g)\n",
      "C:\\Users\\lmdevil\\Anaconda3\\envs\\PVModel\\lib\\site-packages\\pandas\\core\\arraylike.py:358: RuntimeWarning: invalid value encountered in log\n",
      "  result = getattr(ufunc, method)(*inputs, **kwargs)\n",
      "C:\\Users\\lmdevil\\Anaconda3\\envs\\PVModel\\lib\\site-packages\\pvpltools\\module_efficiency.py:184: RuntimeWarning: overflow encountered in power\n",
      "  s_o     = 10**(k_d + (tc_d * dt))\n",
      "C:\\Users\\lmdevil\\Anaconda3\\envs\\PVModel\\lib\\site-packages\\pvpltools\\module_efficiency.py:189: RuntimeWarning: invalid value encountered in log\n",
      "  v  = np.log(s / s_o     + 1)\n",
      "C:\\Users\\lmdevil\\Anaconda3\\envs\\PVModel\\lib\\site-packages\\pvpltools\\module_efficiency.py:262: RuntimeWarning: invalid value encountered in log\n",
      "  b * log(g + 1) +\n",
      "C:\\Users\\lmdevil\\Anaconda3\\envs\\PVModel\\lib\\site-packages\\pvpltools\\module_efficiency.py:264: RuntimeWarning: invalid value encountered in log\n",
      "  c * (square(log(g + exp(1))) / (g + 1) - 1)\n",
      "C:\\Users\\lmdevil\\Anaconda3\\envs\\PVModel\\lib\\site-packages\\pvpltools\\module_efficiency.py:333: RuntimeWarning: invalid value encountered in log\n",
      "  eta = ( 1 + a * (s - 1)    + b * log(s)\n",
      "C:\\Users\\lmdevil\\Anaconda3\\envs\\PVModel\\lib\\site-packages\\pvpltools\\module_efficiency.py:334: RuntimeWarning: invalid value encountered in log\n",
      "  + c * (s - 1)**2 + d * log(s)**2\n",
      "C:\\Users\\lmdevil\\Anaconda3\\envs\\PVModel\\lib\\site-packages\\pvpltools\\module_efficiency.py:336: RuntimeWarning: invalid value encountered in log\n",
      "  gamma = gamma_ref * ( 1 + aa * (s - 1) + bb * log(s))\n",
      "C:\\Users\\lmdevil\\Anaconda3\\envs\\PVModel\\lib\\site-packages\\pvpltools\\module_efficiency.py:400: RuntimeWarning: invalid value encountered in log\n",
      "  + k1 * log(g)\n",
      "C:\\Users\\lmdevil\\Anaconda3\\envs\\PVModel\\lib\\site-packages\\pvpltools\\module_efficiency.py:401: RuntimeWarning: invalid value encountered in log\n",
      "  + k2 * log(g)**2\n",
      "C:\\Users\\lmdevil\\Anaconda3\\envs\\PVModel\\lib\\site-packages\\pvpltools\\module_efficiency.py:403: RuntimeWarning: invalid value encountered in log\n",
      "  + k4 * log(g)\n",
      "C:\\Users\\lmdevil\\Anaconda3\\envs\\PVModel\\lib\\site-packages\\pvpltools\\module_efficiency.py:404: RuntimeWarning: invalid value encountered in log\n",
      "  + k5 * log(g)**2\n",
      "C:\\Users\\lmdevil\\Anaconda3\\envs\\PVModel\\lib\\site-packages\\pvpltools\\module_efficiency.py:478: RuntimeWarning: invalid value encountered in log10\n",
      "  + c3 * np.log10(g)\n",
      "C:\\Users\\lmdevil\\Anaconda3\\envs\\PVModel\\lib\\site-packages\\pandas\\core\\arraylike.py:358: RuntimeWarning: invalid value encountered in log\n",
      "  result = getattr(ufunc, method)(*inputs, **kwargs)\n",
      "C:\\Users\\lmdevil\\Anaconda3\\envs\\PVModel\\lib\\site-packages\\pvpltools\\module_efficiency.py:184: RuntimeWarning: overflow encountered in power\n",
      "  s_o     = 10**(k_d + (tc_d * dt))\n",
      "C:\\Users\\lmdevil\\Anaconda3\\envs\\PVModel\\lib\\site-packages\\pvpltools\\module_efficiency.py:189: RuntimeWarning: invalid value encountered in log\n",
      "  v  = np.log(s / s_o     + 1)\n",
      "C:\\Users\\lmdevil\\Anaconda3\\envs\\PVModel\\lib\\site-packages\\pvpltools\\module_efficiency.py:262: RuntimeWarning: invalid value encountered in log\n",
      "  b * log(g + 1) +\n",
      "C:\\Users\\lmdevil\\Anaconda3\\envs\\PVModel\\lib\\site-packages\\pvpltools\\module_efficiency.py:264: RuntimeWarning: invalid value encountered in log\n",
      "  c * (square(log(g + exp(1))) / (g + 1) - 1)\n",
      "C:\\Users\\lmdevil\\Anaconda3\\envs\\PVModel\\lib\\site-packages\\pvpltools\\module_efficiency.py:333: RuntimeWarning: invalid value encountered in log\n",
      "  eta = ( 1 + a * (s - 1)    + b * log(s)\n",
      "C:\\Users\\lmdevil\\Anaconda3\\envs\\PVModel\\lib\\site-packages\\pvpltools\\module_efficiency.py:334: RuntimeWarning: invalid value encountered in log\n",
      "  + c * (s - 1)**2 + d * log(s)**2\n",
      "C:\\Users\\lmdevil\\Anaconda3\\envs\\PVModel\\lib\\site-packages\\pvpltools\\module_efficiency.py:336: RuntimeWarning: invalid value encountered in log\n",
      "  gamma = gamma_ref * ( 1 + aa * (s - 1) + bb * log(s))\n",
      "C:\\Users\\lmdevil\\Anaconda3\\envs\\PVModel\\lib\\site-packages\\pvpltools\\module_efficiency.py:400: RuntimeWarning: invalid value encountered in log\n",
      "  + k1 * log(g)\n",
      "C:\\Users\\lmdevil\\Anaconda3\\envs\\PVModel\\lib\\site-packages\\pvpltools\\module_efficiency.py:401: RuntimeWarning: invalid value encountered in log\n",
      "  + k2 * log(g)**2\n",
      "C:\\Users\\lmdevil\\Anaconda3\\envs\\PVModel\\lib\\site-packages\\pvpltools\\module_efficiency.py:403: RuntimeWarning: invalid value encountered in log\n",
      "  + k4 * log(g)\n",
      "C:\\Users\\lmdevil\\Anaconda3\\envs\\PVModel\\lib\\site-packages\\pvpltools\\module_efficiency.py:404: RuntimeWarning: invalid value encountered in log\n",
      "  + k5 * log(g)**2\n",
      "C:\\Users\\lmdevil\\Anaconda3\\envs\\PVModel\\lib\\site-packages\\pvpltools\\module_efficiency.py:478: RuntimeWarning: invalid value encountered in log10\n",
      "  + c3 * np.log10(g)\n",
      "C:\\Users\\lmdevil\\Anaconda3\\envs\\PVModel\\lib\\site-packages\\pandas\\core\\arraylike.py:358: RuntimeWarning: invalid value encountered in log\n",
      "  result = getattr(ufunc, method)(*inputs, **kwargs)\n",
      "C:\\Users\\lmdevil\\Anaconda3\\envs\\PVModel\\lib\\site-packages\\pvpltools\\module_efficiency.py:184: RuntimeWarning: overflow encountered in power\n",
      "  s_o     = 10**(k_d + (tc_d * dt))\n",
      "C:\\Users\\lmdevil\\Anaconda3\\envs\\PVModel\\lib\\site-packages\\pvpltools\\module_efficiency.py:189: RuntimeWarning: invalid value encountered in log\n",
      "  v  = np.log(s / s_o     + 1)\n",
      "C:\\Users\\lmdevil\\Anaconda3\\envs\\PVModel\\lib\\site-packages\\pvpltools\\module_efficiency.py:262: RuntimeWarning: invalid value encountered in log\n",
      "  b * log(g + 1) +\n",
      "C:\\Users\\lmdevil\\Anaconda3\\envs\\PVModel\\lib\\site-packages\\pvpltools\\module_efficiency.py:264: RuntimeWarning: invalid value encountered in log\n",
      "  c * (square(log(g + exp(1))) / (g + 1) - 1)\n",
      "C:\\Users\\lmdevil\\Anaconda3\\envs\\PVModel\\lib\\site-packages\\pvpltools\\module_efficiency.py:333: RuntimeWarning: invalid value encountered in log\n",
      "  eta = ( 1 + a * (s - 1)    + b * log(s)\n",
      "C:\\Users\\lmdevil\\Anaconda3\\envs\\PVModel\\lib\\site-packages\\pvpltools\\module_efficiency.py:334: RuntimeWarning: invalid value encountered in log\n",
      "  + c * (s - 1)**2 + d * log(s)**2\n",
      "C:\\Users\\lmdevil\\Anaconda3\\envs\\PVModel\\lib\\site-packages\\pvpltools\\module_efficiency.py:336: RuntimeWarning: invalid value encountered in log\n",
      "  gamma = gamma_ref * ( 1 + aa * (s - 1) + bb * log(s))\n",
      "C:\\Users\\lmdevil\\Anaconda3\\envs\\PVModel\\lib\\site-packages\\pvpltools\\module_efficiency.py:400: RuntimeWarning: invalid value encountered in log\n",
      "  + k1 * log(g)\n"
     ]
    },
    {
     "name": "stderr",
     "output_type": "stream",
     "text": [
      "C:\\Users\\lmdevil\\Anaconda3\\envs\\PVModel\\lib\\site-packages\\pvpltools\\module_efficiency.py:401: RuntimeWarning: invalid value encountered in log\n",
      "  + k2 * log(g)**2\n",
      "C:\\Users\\lmdevil\\Anaconda3\\envs\\PVModel\\lib\\site-packages\\pvpltools\\module_efficiency.py:403: RuntimeWarning: invalid value encountered in log\n",
      "  + k4 * log(g)\n",
      "C:\\Users\\lmdevil\\Anaconda3\\envs\\PVModel\\lib\\site-packages\\pvpltools\\module_efficiency.py:404: RuntimeWarning: invalid value encountered in log\n",
      "  + k5 * log(g)**2\n",
      "C:\\Users\\lmdevil\\Anaconda3\\envs\\PVModel\\lib\\site-packages\\pvpltools\\module_efficiency.py:478: RuntimeWarning: invalid value encountered in log10\n",
      "  + c3 * np.log10(g)\n",
      "C:\\Users\\lmdevil\\Anaconda3\\envs\\PVModel\\lib\\site-packages\\pandas\\core\\arraylike.py:358: RuntimeWarning: invalid value encountered in log\n",
      "  result = getattr(ufunc, method)(*inputs, **kwargs)\n",
      "C:\\Users\\lmdevil\\Anaconda3\\envs\\PVModel\\lib\\site-packages\\pvpltools\\module_efficiency.py:184: RuntimeWarning: overflow encountered in power\n",
      "  s_o     = 10**(k_d + (tc_d * dt))\n",
      "C:\\Users\\lmdevil\\Anaconda3\\envs\\PVModel\\lib\\site-packages\\pvpltools\\module_efficiency.py:189: RuntimeWarning: invalid value encountered in log\n",
      "  v  = np.log(s / s_o     + 1)\n",
      "C:\\Users\\lmdevil\\Anaconda3\\envs\\PVModel\\lib\\site-packages\\pvpltools\\module_efficiency.py:262: RuntimeWarning: invalid value encountered in log\n",
      "  b * log(g + 1) +\n",
      "C:\\Users\\lmdevil\\Anaconda3\\envs\\PVModel\\lib\\site-packages\\pvpltools\\module_efficiency.py:264: RuntimeWarning: invalid value encountered in log\n",
      "  c * (square(log(g + exp(1))) / (g + 1) - 1)\n",
      "C:\\Users\\lmdevil\\Anaconda3\\envs\\PVModel\\lib\\site-packages\\pvpltools\\module_efficiency.py:333: RuntimeWarning: invalid value encountered in log\n",
      "  eta = ( 1 + a * (s - 1)    + b * log(s)\n",
      "C:\\Users\\lmdevil\\Anaconda3\\envs\\PVModel\\lib\\site-packages\\pvpltools\\module_efficiency.py:334: RuntimeWarning: invalid value encountered in log\n",
      "  + c * (s - 1)**2 + d * log(s)**2\n",
      "C:\\Users\\lmdevil\\Anaconda3\\envs\\PVModel\\lib\\site-packages\\pvpltools\\module_efficiency.py:336: RuntimeWarning: invalid value encountered in log\n",
      "  gamma = gamma_ref * ( 1 + aa * (s - 1) + bb * log(s))\n",
      "C:\\Users\\lmdevil\\Anaconda3\\envs\\PVModel\\lib\\site-packages\\pvpltools\\module_efficiency.py:400: RuntimeWarning: invalid value encountered in log\n",
      "  + k1 * log(g)\n",
      "C:\\Users\\lmdevil\\Anaconda3\\envs\\PVModel\\lib\\site-packages\\pvpltools\\module_efficiency.py:401: RuntimeWarning: invalid value encountered in log\n",
      "  + k2 * log(g)**2\n",
      "C:\\Users\\lmdevil\\Anaconda3\\envs\\PVModel\\lib\\site-packages\\pvpltools\\module_efficiency.py:403: RuntimeWarning: invalid value encountered in log\n",
      "  + k4 * log(g)\n",
      "C:\\Users\\lmdevil\\Anaconda3\\envs\\PVModel\\lib\\site-packages\\pvpltools\\module_efficiency.py:404: RuntimeWarning: invalid value encountered in log\n",
      "  + k5 * log(g)**2\n",
      "C:\\Users\\lmdevil\\Anaconda3\\envs\\PVModel\\lib\\site-packages\\pvpltools\\module_efficiency.py:478: RuntimeWarning: invalid value encountered in log10\n",
      "  + c3 * np.log10(g)\n",
      "C:\\Users\\lmdevil\\Anaconda3\\envs\\PVModel\\lib\\site-packages\\pandas\\core\\arraylike.py:358: RuntimeWarning: invalid value encountered in log\n",
      "  result = getattr(ufunc, method)(*inputs, **kwargs)\n",
      "C:\\Users\\lmdevil\\Anaconda3\\envs\\PVModel\\lib\\site-packages\\pvpltools\\module_efficiency.py:184: RuntimeWarning: overflow encountered in power\n",
      "  s_o     = 10**(k_d + (tc_d * dt))\n",
      "C:\\Users\\lmdevil\\Anaconda3\\envs\\PVModel\\lib\\site-packages\\pvpltools\\module_efficiency.py:189: RuntimeWarning: invalid value encountered in log\n",
      "  v  = np.log(s / s_o     + 1)\n",
      "C:\\Users\\lmdevil\\Anaconda3\\envs\\PVModel\\lib\\site-packages\\pvpltools\\module_efficiency.py:262: RuntimeWarning: invalid value encountered in log\n",
      "  b * log(g + 1) +\n",
      "C:\\Users\\lmdevil\\Anaconda3\\envs\\PVModel\\lib\\site-packages\\pvpltools\\module_efficiency.py:264: RuntimeWarning: invalid value encountered in log\n",
      "  c * (square(log(g + exp(1))) / (g + 1) - 1)\n",
      "C:\\Users\\lmdevil\\Anaconda3\\envs\\PVModel\\lib\\site-packages\\pvpltools\\module_efficiency.py:333: RuntimeWarning: invalid value encountered in log\n",
      "  eta = ( 1 + a * (s - 1)    + b * log(s)\n",
      "C:\\Users\\lmdevil\\Anaconda3\\envs\\PVModel\\lib\\site-packages\\pvpltools\\module_efficiency.py:334: RuntimeWarning: invalid value encountered in log\n",
      "  + c * (s - 1)**2 + d * log(s)**2\n",
      "C:\\Users\\lmdevil\\Anaconda3\\envs\\PVModel\\lib\\site-packages\\pvpltools\\module_efficiency.py:336: RuntimeWarning: invalid value encountered in log\n",
      "  gamma = gamma_ref * ( 1 + aa * (s - 1) + bb * log(s))\n",
      "C:\\Users\\lmdevil\\Anaconda3\\envs\\PVModel\\lib\\site-packages\\pvpltools\\module_efficiency.py:400: RuntimeWarning: invalid value encountered in log\n",
      "  + k1 * log(g)\n",
      "C:\\Users\\lmdevil\\Anaconda3\\envs\\PVModel\\lib\\site-packages\\pvpltools\\module_efficiency.py:401: RuntimeWarning: invalid value encountered in log\n",
      "  + k2 * log(g)**2\n",
      "C:\\Users\\lmdevil\\Anaconda3\\envs\\PVModel\\lib\\site-packages\\pvpltools\\module_efficiency.py:403: RuntimeWarning: invalid value encountered in log\n",
      "  + k4 * log(g)\n",
      "C:\\Users\\lmdevil\\Anaconda3\\envs\\PVModel\\lib\\site-packages\\pvpltools\\module_efficiency.py:404: RuntimeWarning: invalid value encountered in log\n",
      "  + k5 * log(g)**2\n",
      "C:\\Users\\lmdevil\\Anaconda3\\envs\\PVModel\\lib\\site-packages\\pvpltools\\module_efficiency.py:478: RuntimeWarning: invalid value encountered in log10\n",
      "  + c3 * np.log10(g)\n",
      "C:\\Users\\lmdevil\\Anaconda3\\envs\\PVModel\\lib\\site-packages\\pandas\\core\\arraylike.py:358: RuntimeWarning: invalid value encountered in log\n",
      "  result = getattr(ufunc, method)(*inputs, **kwargs)\n",
      "C:\\Users\\lmdevil\\Anaconda3\\envs\\PVModel\\lib\\site-packages\\pvpltools\\module_efficiency.py:184: RuntimeWarning: overflow encountered in power\n",
      "  s_o     = 10**(k_d + (tc_d * dt))\n",
      "C:\\Users\\lmdevil\\Anaconda3\\envs\\PVModel\\lib\\site-packages\\pvpltools\\module_efficiency.py:189: RuntimeWarning: invalid value encountered in log\n",
      "  v  = np.log(s / s_o     + 1)\n",
      "C:\\Users\\lmdevil\\Anaconda3\\envs\\PVModel\\lib\\site-packages\\pvpltools\\module_efficiency.py:262: RuntimeWarning: invalid value encountered in log\n",
      "  b * log(g + 1) +\n",
      "C:\\Users\\lmdevil\\Anaconda3\\envs\\PVModel\\lib\\site-packages\\pvpltools\\module_efficiency.py:264: RuntimeWarning: invalid value encountered in log\n",
      "  c * (square(log(g + exp(1))) / (g + 1) - 1)\n",
      "C:\\Users\\lmdevil\\Anaconda3\\envs\\PVModel\\lib\\site-packages\\pvpltools\\module_efficiency.py:333: RuntimeWarning: invalid value encountered in log\n",
      "  eta = ( 1 + a * (s - 1)    + b * log(s)\n",
      "C:\\Users\\lmdevil\\Anaconda3\\envs\\PVModel\\lib\\site-packages\\pvpltools\\module_efficiency.py:334: RuntimeWarning: invalid value encountered in log\n",
      "  + c * (s - 1)**2 + d * log(s)**2\n",
      "C:\\Users\\lmdevil\\Anaconda3\\envs\\PVModel\\lib\\site-packages\\pvpltools\\module_efficiency.py:336: RuntimeWarning: invalid value encountered in log\n",
      "  gamma = gamma_ref * ( 1 + aa * (s - 1) + bb * log(s))\n",
      "C:\\Users\\lmdevil\\Anaconda3\\envs\\PVModel\\lib\\site-packages\\pvpltools\\module_efficiency.py:400: RuntimeWarning: invalid value encountered in log\n",
      "  + k1 * log(g)\n",
      "C:\\Users\\lmdevil\\Anaconda3\\envs\\PVModel\\lib\\site-packages\\pvpltools\\module_efficiency.py:401: RuntimeWarning: invalid value encountered in log\n",
      "  + k2 * log(g)**2\n",
      "C:\\Users\\lmdevil\\Anaconda3\\envs\\PVModel\\lib\\site-packages\\pvpltools\\module_efficiency.py:403: RuntimeWarning: invalid value encountered in log\n",
      "  + k4 * log(g)\n",
      "C:\\Users\\lmdevil\\Anaconda3\\envs\\PVModel\\lib\\site-packages\\pvpltools\\module_efficiency.py:404: RuntimeWarning: invalid value encountered in log\n",
      "  + k5 * log(g)**2\n",
      "C:\\Users\\lmdevil\\Anaconda3\\envs\\PVModel\\lib\\site-packages\\pvpltools\\module_efficiency.py:478: RuntimeWarning: invalid value encountered in log10\n",
      "  + c3 * np.log10(g)\n"
     ]
    }
   ],
   "source": [
    "for mod_name in mod_names:\n",
    "    \n",
    "    \n",
    "    #Reads in an excel file of all necessary module coefficients, string lengths, system dates, etc\n",
    "    mod_info = pd.read_excel('module_coefficients.xlsx')\n",
    "    mod_info.index = mod_info['Manufacturer']\n",
    "    del mod_info['Manufacturer']\n",
    "    #defines the specific module given the previous user input and module coefficients file\n",
    "    module = mod_info[mod_name]\n",
    "    systablename = module['table_name']\n",
    "    start = '2020-01-01 00:00:00-07:00'\n",
    "     #module['start']\n",
    "    end = '2021-01-01 00:00:00-07:00'\n",
    "    #module['end']\n",
    "    \n",
    "    \n",
    "    #Import sys & met databases & merge into one df\n",
    "    df = sys_met_data(mettablename, systablename, start, end)\n",
    "    \n",
    "    \n",
    "    #Filter and Mask Data \n",
    "    #sys_comp_masks, sys_comp_masks_desc = add_masks(df)\n",
    "    #sys, sys_meta = meta_col(df)\n",
    "    #sys, sys_comp_masks, sys_comp_masks_desc, sys_meta = physical_filter(sys, 'BroadbandPOA_Avg', 50, 1200, \n",
    "                                                                    #sys_comp_masks, sys_comp_masks_desc, sys_meta)\n",
    "    #sys_nan = pd.DataFrame()\n",
    "    #sys_nan['BroadbandPOA_Avg'] = sys.BroadbandPOA_Avg.where(sys_comp_masks.mask_BroadbandPOA_Avg, np.nan)\n",
    "    #df.loc[df['BroadbandPOA_Avg']<50, 'BroadbandPOA_Avg'] = np.nan\n",
    "    #df.loc[df['BroadbandPOA_Avg']>1200, 'BroadbandPOA_Avg'] = np.nan\n",
    "    \n",
    "    \n",
    "    #Calculate solpos & other environmental data, like airmass, aoi, and differnt poa components\n",
    "    sdf = calc_sol_data(df.index, module['latitude'], module['longitude'], module['tilt'], df['Pressure_mBar_Avg'])\n",
    "    edf = calc_env_data(module['tilt'], module ['altitude'], module['surface_azimuth'], sdf['azimuth'], sdf['apparent_zenith'], \n",
    "               df['Direct_Wm2_Avg'], df['Global_Wm2_Avg'], df['Diffuse_Wm2_Avg'], sdf['dni_extra'], model = 'haydavies')\n",
    "    edf['am_abs'] = pvlib.atmosphere.get_absolute_airmass(edf['airmass'], edf['pressure'])\n",
    "    \n",
    "    \n",
    "    #Get rid of irrad outliers for SAPM\n",
    "    #edf.loc[edf['poa_global']>1200, 'poa_global'] = np.nan\n",
    "    #edf.loc[edf['poa_direct']>1200, 'poa_direct'] = np.nan\n",
    "    #edf.loc[edf['poa_diffuse']>1200, 'poa_diffuse'] = np.nan\n",
    "    #edf.loc[edf['poa_sky_diffuse']>1200, 'poa_sky_diffuse '] = np.nan\n",
    "    \n",
    "    #Generate a results dataframe and add measured values\n",
    "    results = meas_val(df[module['str_1_v']],df[module['str_1_i']]).to_frame()\n",
    "    results['Str_2'] = meas_val(df[module['str_2_v']],df[module['str_2_i']])\n",
    "    results['Str_3'] = meas_val(df[module['str_3_v']],df[module['str_3_i']])\n",
    "    results['Str_4'] = meas_val(df[module['str_4_v']],df[module['str_4_i']])\n",
    "    results = results.resample('H').mean()\n",
    "    results.rename(columns = { 0 : 'Str_1'}, inplace = True)\n",
    "    \n",
    "    \n",
    "    \n",
    "    #read in SAM data from the spreadsheet containing all SAM results for entire time period of system\n",
    "    sam_data = pd.read_excel('SAM_results.xlsx', sheet_name = [mod_name])\n",
    "    sam_data = sam_data[mod_name]\n",
    "    sam_data.index = sam_data['Time']\n",
    "    sam_data.index = pd.DatetimeIndex(sam_data.index)\n",
    "    del sam_data['Time']\n",
    "    sam_data.rename(columns = {mod_name : 'SAM'}, inplace = True)\n",
    "    sam_data = sam_data.loc[start:end, :]\n",
    "    results ['SAM'] = sam_data['SAM']#.resample('M').mean()\n",
    "    \n",
    "    \n",
    "    #Calcualte SAPM results and add to df\n",
    "    sapm_par = sapm_param(edf['poa_global'], edf['poa_direct'], edf['poa_diffuse'], df.AmbientTemp_Avg, df.Wind_Speed_Avg, \n",
    "                   edf['am_abs'], edf['aoi'], module)\n",
    "    dc = sapm(sapm_par['eff_irr'], sapm_par['tcell'], module)\n",
    "    results['SAPM'] = sapm_p(dc['v_mp'], dc['i_mp'], module['str_len'])#.resample('M').mean()\n",
    "    sapm_tcell = sapm_par['tcell'].to_frame()\n",
    "    df = df.merge(sapm_tcell,how = 'inner', left_index=True, right_index=True)\n",
    "    df = df[~df.index.duplicated(keep='first')]\n",
    "    \n",
    "    \n",
    "    #Calculate PVWatts results and add to df\n",
    "    results['PVWatts'] = (pvwatts(POA_eff = df['BroadbandPOA_Avg'], cell_temp = df['tcell'], \n",
    "                             stc_mod_p = module['Power'], Gpmp = module['Gpmp'],str_len = module['str_len'],\n",
    "                                                 temp_ref=25.0 ))#.resample('M').mean()\n",
    "    \n",
    "    \n",
    "    #Calculate CEC results and add to df\n",
    "    cec_param = pvlib.pvsystem.calcparams_cec( df['BroadbandPOA_Avg'], df['tcell'], module['alpha_sc'], \n",
    "                                          module['a_ref'], module['I_L_ref'], module['I_o_ref'], module['R_sh_ref'], \n",
    "                                          module['R_s'], module['Adjust'], module['Cells_in_Series'])\n",
    "    cec_p = pvlib.pvsystem.singlediode(photocurrent = cec_param[0], saturation_current = cec_param[1], resistance_series =\n",
    "                           cec_param[2], resistance_shunt = cec_param[3], nNsVth = cec_param[4], method = 'newton')\n",
    "    results['CEC'] = sdm(cec_p['p_mp'], module['str_len'])#.resample('M').mean()\n",
    "    \n",
    "    \n",
    "    #Calculate Desoto results and add to df\n",
    "    ds_param = pvlib.pvsystem.calcparams_desoto(df['BroadbandPOA_Avg'], df['tcell'], module['alpha_sc'],\n",
    "                                            module['a_ref'],module['I_L_ref'], module['I_o_ref'], \n",
    "                                            module['R_sh_ref'], module['R_s'])\n",
    "    ds_p = pvlib.pvsystem.singlediode(photocurrent = ds_param[0], saturation_current = ds_param[1], resistance_series =\n",
    "                           ds_param[2], resistance_shunt = ds_param[3], nNsVth = ds_param[4], method = 'newton')\n",
    "    results['Desoto'] = sdm(ds_p['p_mp'], module['str_len'])#.resample('M').mean()\n",
    "    \n",
    "    \n",
    "    #Calculte PVSystem results and add to df\n",
    "    pvs_param = pvlib.pvsystem.calcparams_pvsyst(df['BroadbandPOA_Avg'],df['tcell'], module['alpha_sc'], \n",
    "                                             module['gamma_ref'],module['mu_gamma'], module['I_L_ref'], module['I_o_ref'],\n",
    "                                             module['R_sh_ref'], module['R_sh_0'], module['R_s'],  module['Cells_in_Series'])\n",
    "    pvs_p = pvlib.pvsystem.singlediode(photocurrent = pvs_param[0], saturation_current = pvs_param[1], resistance_series =\n",
    "                           pvs_param[2], resistance_shunt = pvs_param[3], nNsVth = pvs_param[4], method = 'newton')\n",
    "    results['PVSyst'] = sdm(pvs_p['p_mp'], module['str_len'])#.resample('M').mean()\n",
    "    \n",
    "    \n",
    "    #Import matrix of measurement data\n",
    "    measurements_file = 'Sandia_PV_Module_P-Matrix-and-TempCo-Data_2019.xlsx'\n",
    "    matrix = pd.read_excel(measurements_file, sheet_name = mod_name, usecols='B,C,H', header=None, skiprows=5, nrows=27)\n",
    "    matrix.columns = ['temperature', 'irradiance', 'p_mp']\n",
    "    # calculate efficiency from power\n",
    "    matrix = matrix.eval('eta = p_mp / irradiance')\n",
    "    eta_stc = matrix.query('irradiance == 1000 and temperature == 25').eta\n",
    "    matrix.eta /= eta_stc.values\n",
    "    # just keep the columns that are needed\n",
    "    matrix = matrix[['irradiance', 'temperature', 'eta']]\n",
    "    \n",
    "    \n",
    "    #Calculate ADR results and add to df\n",
    "    popt, pcov = fit_efficiency_model(matrix.irradiance,matrix.temperature,matrix.eta,adr)\n",
    "    adr_eff = adr(df['BroadbandPOA_Avg'], df['tcell'], *popt)\n",
    "    adr_p = (df['BroadbandPOA_Avg']/1000) * (adr_eff) * (module['Power']) *12\n",
    "    results['ADR'] = adr_p.resample('H').mean()\n",
    "    \n",
    "    \n",
    "    #Calculate Heydenreich results and add to df\n",
    "    popt, pcov = fit_efficiency_model(matrix.irradiance,matrix.temperature,matrix.eta,heydenreich)\n",
    "    hey_eff = heydenreich(df['BroadbandPOA_Avg'], df['tcell'], *popt)\n",
    "    hey_p = (df['BroadbandPOA_Avg']/1000) * (hey_eff) * (module['Power']) *12\n",
    "    results['Heydenreich'] = hey_p.resample('H').mean()\n",
    "    \n",
    "    \n",
    "    #Calculate MotherPV results and add to df\n",
    "    popt, pcov = fit_efficiency_model(matrix.irradiance,matrix.temperature,matrix.eta,motherpv)\n",
    "    mother_eff = motherpv(df['BroadbandPOA_Avg'], df['tcell'], *popt)\n",
    "    mother_p = (df['BroadbandPOA_Avg']/1000) * (mother_eff) * (module['Power']) * 12\n",
    "    results['Mother'] = mother_p.resample('H').mean()\n",
    "    \n",
    "    \n",
    "    #Calculate PVGIS results and add to df\n",
    "    popt, pcov = fit_efficiency_model(matrix.irradiance,matrix.temperature,matrix.eta,pvgis)\n",
    "    pvgis_eff = pvgis(df['BroadbandPOA_Avg'], df['tcell'], *popt)\n",
    "    pvgis_p = (df['BroadbandPOA_Avg']/1000) * (pvgis_eff) * (module['Power']) *12\n",
    "    results['PVGIS'] = pvgis_p.resample('H').mean()\n",
    "    \n",
    "    \n",
    "    #Calculate MPM5 results and add to df\n",
    "    popt, pcov = fit_efficiency_model(matrix.irradiance,matrix.temperature,matrix.eta,mpm5)\n",
    "    mpm5_eff = mpm5(df['BroadbandPOA_Avg'], df['tcell'], *popt)\n",
    "    mpm5_p = (df['BroadbandPOA_Avg']/1000) * (mpm5_eff) * (module['Power']) *12\n",
    "    results['MPM5'] = mpm5_p.resample('H').mean()\n",
    "    \n",
    "    \n",
    "    #Calculate MPM6 results and add to df\n",
    "    popt, pcov = fit_efficiency_model(matrix.irradiance,matrix.temperature,matrix.eta,mpm6)\n",
    "    mpm6_eff = mpm6(df['BroadbandPOA_Avg'], df['tcell'], *popt)\n",
    "    mpm6_p = (df['BroadbandPOA_Avg']/1000) * (mpm6_eff) * (module['Power']) *12\n",
    "    results['MPM6'] = mpm6_p.resample('H').mean()\n",
    "    \n",
    "    \n",
    "    columns = results.columns\n",
    "    for column in columns:\n",
    "        results.loc[results[column]<10, column] = 'NaN'\n",
    "    \n",
    "    results=results.astype(float)\n",
    "    \n",
    "    results.to_csv(mod_name + '.csv')\n",
    "    \n",
    "    measureds = ['Str_1', 'Str_2', 'Str_3', 'Str_4']\n",
    "    models = ['SAM', 'SAPM',  'ADR', 'Heydenreich', 'Mother', 'PVGIS', 'MPM5', 'MPM6','PVWatts', 'CEC', 'Desoto', 'PVSyst']\n",
    "    \n",
    "    #calculate absolute differences\n",
    "    ad = abs(results['Str_1']-results['SAM']).to_frame()\n",
    "    ad.rename(columns = { 0 : 'SAM Str_1'}, inplace = True)\n",
    "    ad.index = results.index\n",
    "    for model in models:\n",
    "        for measured in measureds:\n",
    "            ad[model + ' ' + measured] = abs(results[measured]-results[model])\n",
    "\n",
    "        \n",
    "    #calculate absolute percentage differences\n",
    "    apd = 100*abs((results['SAM']-results['Str_1'])/results['Str_1']).to_frame()\n",
    "    apd.rename(columns = { 0 : 'SAM Str_1'}, inplace = True)\n",
    "    apd.index = results.index\n",
    "    for model in models:\n",
    "        for measured in measureds:\n",
    "            apd[model + ' ' + measured] = 100* abs((results[measured]-results[model])/results[measured])\n",
    "            \n",
    "    # Organize values into meta frame to be plotted\n",
    "    ymape = apd.resample('Y').mean()\n",
    "    t_ymape = ymape.transpose()\n",
    "    t_ymape.sort_index(ascending=True, inplace=True)\n",
    "    meta = {'Model': ['ADR','ADR','ADR','ADR','CEC','CEC','CEC','CEC','Des','Des','Des','Des','Hey',\n",
    "                'Hey','Hey','Hey', 'M5','M5','M5','M5','M6','M6','M6','M6', \n",
    "                'Mot','Mot','Mot','Mot','PVGIS','PVGIS','PVGIS','PVGIS','PVS', 'PVS', \n",
    "                'PVS','PVS','PVW','PVW','PVW','PVW','SAM','SAM','SAM','SAM','SAPM','SAPM','SAPM','SAPM']}\n",
    "    meta = pd.DataFrame(meta)\n",
    "    meta['String #']=['Str 1', 'Str 2', 'Str 3', 'Str 4', 'Str 1', 'Str 2', 'Str 3', 'Str 4','Str 1', 'Str 2', 'Str 3', 'Str 4',\n",
    "                   'Str 1', 'Str 2', 'Str 3', 'Str 4','Str 1', 'Str 2', 'Str 3', 'Str 4','Str 1', 'Str 2', 'Str 3', 'Str 4',\n",
    "                  'Str 1', 'Str 2', 'Str 3', 'Str 4','Str 1', 'Str 2', 'Str 3', 'Str 4','Str 1', 'Str 2', 'Str 3', 'Str 4',\n",
    "                   'Str 1', 'Str 2', 'Str 3', 'Str 4','Str 1', 'Str 2', 'Str 3', 'Str 4','Str 1', 'Str 2', 'Str 3', 'Str 4']\n",
    "    meta['MAPE'] = t_ymape['2020-12-31 00:00:00-07:00'].to_list()\n",
    "\n",
    "    meta.to_csv(mod_name + '_meta.csv')"
   ]
  },
  {
   "cell_type": "code",
   "execution_count": 26,
   "metadata": {},
   "outputs": [
    {
     "data": {
      "text/plain": [
       "(0.0, 50.0)"
      ]
     },
     "execution_count": 26,
     "metadata": {},
     "output_type": "execute_result"
    },
    {
     "data": {
      "image/png": "[encoded data removed]",
      "text/plain": [
       "<Figure size 432x288 with 1 Axes>"
      ]
     },
     "metadata": {
      "needs_background": "light"
     },
     "output_type": "display_data"
    }
   ],
   "source": [
    "mape = pd.read_csv('LG_meta.csv')\n",
    "ax = sns.boxplot(x = 'Model', y = 'MAPE', data = mape, showmeans=True)\n",
    "ax.grid(True)\n",
    "ax.set_ylim([0,50])"
   ]
  },
  {
   "cell_type": "code",
   "execution_count": 27,
   "metadata": {},
   "outputs": [
    {
     "data": {
      "text/plain": [
       "(0.0, 50.0)"
      ]
     },
     "execution_count": 27,
     "metadata": {},
     "output_type": "execute_result"
    },
    {
     "data": {
      "image/png": "[encoded data removed]",
      "text/plain": [
       "<Figure size 432x288 with 1 Axes>"
      ]
     },
     "metadata": {
      "needs_background": "light"
     },
     "output_type": "display_data"
    }
   ],
   "source": [
    "mape = pd.read_csv('Panasonic_meta.csv')\n",
    "ax = sns.boxplot(x = 'Model', y = 'MAPE', data = mape, showmeans=True)\n",
    "ax.grid(True)\n",
    "ax.set_ylim([0,50])"
   ]
  },
  {
   "cell_type": "code",
   "execution_count": 28,
   "metadata": {},
   "outputs": [
    {
     "data": {
      "text/plain": [
       "(0.0, 50.0)"
      ]
     },
     "execution_count": 28,
     "metadata": {},
     "output_type": "execute_result"
    },
    {
     "data": {
      "image/png": "[encoded data removed]",
      "text/plain": [
       "<Figure size 432x288 with 1 Axes>"
      ]
     },
     "metadata": {
      "needs_background": "light"
     },
     "output_type": "display_data"
    }
   ],
   "source": [
    "mape = pd.read_csv('Can270_meta.csv')\n",
    "ax = sns.boxplot(x = 'Model', y = 'MAPE', data = mape, showmeans=True)\n",
    "ax.grid(True)\n",
    "ax.set_ylim([0,50])"
   ]
  },
  {
   "cell_type": "code",
   "execution_count": 29,
   "metadata": {},
   "outputs": [
    {
     "data": {
      "text/plain": [
       "(0.0, 50.0)"
      ]
     },
     "execution_count": 29,
     "metadata": {},
     "output_type": "execute_result"
    },
    {
     "data": {
      "image/png": "[encoded data removed]",
      "text/plain": [
       "<Figure size 432x288 with 1 Axes>"
      ]
     },
     "metadata": {
      "needs_background": "light"
     },
     "output_type": "display_data"
    }
   ],
   "source": [
    "mape = pd.read_csv('Can275_meta.csv')\n",
    "ax = sns.boxplot(x = 'Model', y = 'MAPE', data = mape, showmeans=True)\n",
    "ax.grid(True)\n",
    "ax.set_ylim([0,50])"
   ]
  },
  {
   "cell_type": "code",
   "execution_count": 30,
   "metadata": {},
   "outputs": [
    {
     "data": {
      "text/plain": [
       "(0.0, 50.0)"
      ]
     },
     "execution_count": 30,
     "metadata": {},
     "output_type": "execute_result"
    },
    {
     "data": {
      "image/png": "[encoded data removed]",
      "text/plain": [
       "<Figure size 432x288 with 1 Axes>"
      ]
     },
     "metadata": {
      "needs_background": "light"
     },
     "output_type": "display_data"
    }
   ],
   "source": [
    "mape = pd.read_csv('HanQPlus_meta.csv')\n",
    "ax = sns.boxplot(x = 'Model', y = 'MAPE', data = mape, showmeans=True)\n",
    "ax.grid(True)\n",
    "ax.set_ylim([0,50])"
   ]
  },
  {
   "cell_type": "code",
   "execution_count": 31,
   "metadata": {},
   "outputs": [
    {
     "data": {
      "text/plain": [
       "(0.0, 50.0)"
      ]
     },
     "execution_count": 31,
     "metadata": {},
     "output_type": "execute_result"
    },
    {
     "data": {
      "image/png": "[encoded data removed]",
      "text/plain": [
       "<Figure size 432x288 with 1 Axes>"
      ]
     },
     "metadata": {
      "needs_background": "light"
     },
     "output_type": "display_data"
    }
   ],
   "source": [
    "mape = pd.read_csv('HanQPeak_meta.csv')\n",
    "ax = sns.boxplot(x = 'Model', y = 'MAPE', data = mape, showmeans=True)\n",
    "ax.grid(True)\n",
    "ax.set_ylim([0,50])"
   ]
  },
  {
   "cell_type": "code",
   "execution_count": 32,
   "metadata": {},
   "outputs": [
    {
     "data": {
      "text/plain": [
       "(0.0, 50.0)"
      ]
     },
     "execution_count": 32,
     "metadata": {},
     "output_type": "execute_result"
    },
    {
     "data": {
      "image/png": "[encoded data removed]",
      "text/plain": [
       "<Figure size 432x288 with 1 Axes>"
      ]
     },
     "metadata": {
      "needs_background": "light"
     },
     "output_type": "display_data"
    }
   ],
   "source": [
    "mape = pd.read_csv('MissionSolar_meta.csv')\n",
    "ax = sns.boxplot(x = 'Model', y = 'MAPE', data = mape, showmeans=True)\n",
    "ax.grid(True)\n",
    "ax.set_ylim([0,50])"
   ]
  },
  {
   "cell_type": "code",
   "execution_count": null,
   "metadata": {},
   "outputs": [],
   "source": []
  }
 ],
 "metadata": {
  "kernelspec": {
   "display_name": "PVModel",
   "language": "python",
   "name": "pvmodel"
  },
  "language_info": {
   "codemirror_mode": {
    "name": "ipython",
    "version": 3
   },
   "file_extension": ".py",
   "mimetype": "text/x-python",
   "name": "python",
   "nbconvert_exporter": "python",
   "pygments_lexer": "ipython3",
   "version": "3.8.8"
  }
 },
 "nbformat": 4,
 "nbformat_minor": 4
}
