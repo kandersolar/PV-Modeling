{
 "cells": [
  {
   "cell_type": "code",
   "execution_count": null,
   "metadata": {},
   "outputs": [],
   "source": [
    "%run PVModel_functions.ipynb"
   ]
  },
  {
   "cell_type": "code",
   "execution_count": null,
   "metadata": {},
   "outputs": [],
   "source": []
  },
  {
   "cell_type": "code",
   "execution_count": null,
   "metadata": {},
   "outputs": [],
   "source": [
    "#This cell imports all the necessary packages & module data\n",
    "import pandas as pd \n",
    "import numpy as np\n",
    "from numpy import median\n",
    "from datetime import datetime\n",
    "import datatools\n",
    "import matplotlib as mpl\n",
    "import matplotlib.pyplot as plt\n",
    "import matplotlib.cm as cm\n",
    "import datetime\n",
    "import pvlib\n",
    "import pvanalytics\n",
    "import math\n",
    "import pvpltools\n",
    "import seaborn as sns\n",
    "import sklearn\n",
    "import statistics\n",
    "from sklearn.metrics import r2_score\n",
    "from pvpltools import iec61853\n",
    "from pvpltools.module_efficiency import adr, heydenreich, motherpv, pvgis, mpm5, mpm6, bilinear\n",
    "from pvpltools.module_efficiency import fit_efficiency_model, fit_bilinear\n",
    "\n",
    "%matplotlib inline \n",
    "from pandas.plotting import register_matplotlib_converters\n",
    "register_matplotlib_converters()\n",
    "\n",
    "mpl.rcParams['font.size']=12\n",
    "mpl.rcParams['lines.linewidth']=1\n",
    "mpl.rcParams['xtick.labelsize']=10\n",
    "#mpl.rcParams['font.weight']='bold'\n",
    "mpl.rcParams['axes.titlesize']=22\n",
    "sns.set(rc={'figure.figsize':(12,7)})"
   ]
  },
  {
   "cell_type": "code",
   "execution_count": null,
   "metadata": {},
   "outputs": [],
   "source": [
    "meta = pd.read_hdf('metasingle.h5')"
   ]
  },
  {
   "cell_type": "code",
   "execution_count": null,
   "metadata": {},
   "outputs": [],
   "source": [
    "#Calculate MAPE and MBE \n",
    "strings = ['Str_1','Str_2','Str_3','Str_4']\n",
    "for string in strings:\n",
    "    meta['Diff ' + string] = (meta['Modeled Power'] - meta[string])\n",
    "meta['MBE (W)'] = (meta['Diff Str_1'] + meta['Diff Str_2'] + meta['Diff Str_3'] + meta['Diff Str_4'])/4\n",
    "for string in strings:\n",
    "    meta['Abs%Diff ' + string] = 100* abs((meta['Modeled Power'] - meta[string])/(meta[string]))\n",
    "meta['MAPE (%)'] = ((meta.iloc[:,[13,14,15,16]].mean(axis=1)))"
   ]
  },
  {
   "cell_type": "code",
   "execution_count": null,
   "metadata": {},
   "outputs": [],
   "source": [
    "ax = sns.boxplot(x='Model Name', y='MAPE (%)', data = meta, hue='Year', showmeans=True, showfliers=False,palette='Paired')\n",
    "ax.grid(True)\n",
    "#ax.set_ylim([0,18])\n",
    "ax.set_title('MAPE(%) '+mod_name)\n",
    "ax.legend(bbox_to_anchor= (1.03, 1))"
   ]
  },
  {
   "cell_type": "code",
   "execution_count": null,
   "metadata": {},
   "outputs": [],
   "source": [
    "ax = sns.boxplot(x='Model Name', y='MBE (W)', data = meta, hue='Year', showmeans=True, showfliers=False,palette='Paired')\n",
    "ax.grid(True)\n",
    "ax.set_ylim([-500,500])\n",
    "ax.set_title('MBE(W) '+mod_name)\n",
    "ax.legend(bbox_to_anchor= (1.03, 1))"
   ]
  }
 ],
 "metadata": {
  "kernelspec": {
   "display_name": "PVModel",
   "language": "python",
   "name": "pvmodel"
  },
  "language_info": {
   "codemirror_mode": {
    "name": "ipython",
    "version": 3
   },
   "file_extension": ".py",
   "mimetype": "text/x-python",
   "name": "python",
   "nbconvert_exporter": "python",
   "pygments_lexer": "ipython3",
   "version": "3.8.8"
  }
 },
 "nbformat": 4,
 "nbformat_minor": 4
}
