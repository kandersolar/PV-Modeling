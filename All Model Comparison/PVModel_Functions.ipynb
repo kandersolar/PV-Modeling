{
 "cells": [
  {
   "cell_type": "code",
   "execution_count": 3,
   "metadata": {},
   "outputs": [],
   "source": [
    "from importlib import reload\n",
    "import pandas as pd\n",
    "import numpy as np\n",
    "from datetime import datetime\n",
    "import datatools\n",
    "import matplotlib as mpl\n",
    "import matplotlib.pyplot as plt\n",
    "import datetime\n",
    "import pvlib\n",
    "from pvlib.temperature import TEMPERATURE_MODEL_PARAMETERS\n",
    "import pvanalytics\n",
    "import seaborn\n",
    "\n",
    "%matplotlib inline \n",
    "from pandas.plotting import register_matplotlib_converters\n",
    "register_matplotlib_converters()\n",
    "\n",
    "mpl.rcParams['font.size']=12\n",
    "mpl.rcParams['lines.linewidth']=1\n",
    "mpl.rcParams['xtick.labelsize']=10\n",
    "mpl.rcParams['font.weight']='bold'\n",
    "mpl.rcParams['axes.titlesize']=22"
   ]
  },
  {
   "cell_type": "code",
   "execution_count": 2,
   "metadata": {},
   "outputs": [],
   "source": [
    "def sys_met_data(mettablename, systablename, start, end):\n",
    "    engine = datatools.database.create_mss_engine()\n",
    "    \n",
    "    met_sql = f\"select * from {mettablename} where TmStamp between '{start}' and '{end}';\"\n",
    "    met = pd.read_sql(met_sql, engine, index_col='TmStamp')\n",
    "    met.index = pd.DatetimeIndex(met.index)\n",
    "    met.index = met.index.tz_localize('MST') \n",
    "    \n",
    "    sys_sql = f\"select * from {systablename} where TmStamp between '{start}' and '{end}';\"\n",
    "    sys = pd.read_sql(sys_sql, engine, index_col='TmStamp')\n",
    "    sys.index = pd.DatetimeIndex(sys.index)\n",
    "    sys.index = sys.index.tz_localize('MST')\n",
    "\n",
    "    df = pd.merge(met,sys,how='inner', left_index=True, right_index=True)\n",
    "    \n",
    "    return df"
   ]
  },
  {
   "cell_type": "code",
   "execution_count": null,
   "metadata": {},
   "outputs": [],
   "source": [
    "def visual_dots(sys, mask, ylim_lower, ylim_upper):\n",
    "\n",
    "    masked_sys = sys[~mask]\n",
    "    plt.scatter(sys.index, sys, c='#add8e6',s=6, label='data', alpha=0.4)\n",
    "    plt.scatter(masked_sys.index, masked_sys, c='#da9b86', label='mask')\n",
    "    plt.xlabel(sys.index.name)\n",
    "    plt.ylabel(sys.name)\n",
    "    plt.ylim(ylim_lower, ylim_upper)\n",
    "    #plt.xlim(xlim_lower, xlim_upper)\n",
    "    plt.legend(bbox_to_anchor=(1.05, 1), loc='upper left', borderaxespad=0.)\n",
    "    plt.show()\n",
    "    return"
   ]
  },
  {
   "cell_type": "code",
   "execution_count": null,
   "metadata": {},
   "outputs": [],
   "source": [
    " def simple_filter(sys, variable, lower=None, upper=None, apply=False):\n",
    "\n",
    "    variable = sys[variable]\n",
    "\n",
    "# Physical Limits  (note: mask = True for data in acceptable ranges)\n",
    "\n",
    "\n",
    "    if lower==None:\n",
    "        mask_low = pd.Series(dtype='float64')\n",
    "        if upper==None:\n",
    "            return print('Please specify upper and/or lower limits')\n",
    "        else:\n",
    "            mask_high = variable<=upper\n",
    "            mask = mask_high\n",
    "    else:\n",
    "        mask_low = variable >= lower\n",
    "        if upper==None:\n",
    "            mask_high = pd.Series(dtype='float64')\n",
    "            mask = mask_low\n",
    "        else:\n",
    "            mask_high = variable<= upper\n",
    "            mask = mask_low & mask_high\n",
    "        \n",
    "### Should add a check if the values are NaNs?  \n",
    "    mask.name = f'mask_{variable.name}'\n",
    "\n",
    "    if apply==True:\n",
    "        sys = sys.where(mask, np.nan)\n",
    "        return sys\n",
    "    else:\n",
    "        return mask"
   ]
  },
  {
   "cell_type": "code",
   "execution_count": null,
   "metadata": {},
   "outputs": [],
   "source": []
  }
 ],
 "metadata": {
  "kernelspec": {
   "display_name": "PVModel",
   "language": "python",
   "name": "pvmodel"
  },
  "language_info": {
   "codemirror_mode": {
    "name": "ipython",
    "version": 3
   },
   "file_extension": ".py",
   "mimetype": "text/x-python",
   "name": "python",
   "nbconvert_exporter": "python",
   "pygments_lexer": "ipython3",
   "version": "3.8.13"
  }
 },
 "nbformat": 4,
 "nbformat_minor": 4
}
