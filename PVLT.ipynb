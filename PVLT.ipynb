{
 "cells": [
  {
   "cell_type": "code",
   "execution_count": 1,
   "metadata": {},
   "outputs": [],
   "source": [
    "%run PVModel_functions.ipynb"
   ]
  },
  {
   "cell_type": "code",
   "execution_count": 2,
   "metadata": {},
   "outputs": [],
   "source": [
    "%run PVsystem_filterfunction_jack-may.ipynb"
   ]
  },
  {
   "cell_type": "code",
   "execution_count": 3,
   "metadata": {},
   "outputs": [],
   "source": [
    "#This cell imports all the necessary packages & module data\n",
    "import pandas as pd \n",
    "import numpy as np\n",
    "from datetime import datetime\n",
    "import datatools\n",
    "import matplotlib as mpl\n",
    "import matplotlib.pyplot as plt\n",
    "import datetime\n",
    "import pvlib\n",
    "import pvanalytics\n",
    "import math\n",
    "import pvpltools\n",
    "import seaborn as sns\n",
    "from pvpltools import iec61853\n",
    "from pvpltools.module_efficiency import adr, heydenreich, motherpv, pvgis, mpm5, mpm6, bilinear\n",
    "from pvpltools.module_efficiency import fit_efficiency_model, fit_bilinear\n",
    "\n",
    "%matplotlib inline \n",
    "from pandas.plotting import register_matplotlib_converters\n",
    "register_matplotlib_converters()\n",
    "\n",
    "mpl.rcParams['font.size']=12\n",
    "mpl.rcParams['lines.linewidth']=1\n",
    "mpl.rcParams['xtick.labelsize']=10\n",
    "#mpl.rcParams['font.weight']='bold'\n",
    "mpl.rcParams['axes.titlesize']=22"
   ]
  },
  {
   "cell_type": "code",
   "execution_count": 4,
   "metadata": {},
   "outputs": [],
   "source": [
    "#This is where all the input info should be\n",
    "#Valid module names : LG, Panasonic, Can270, Can275, HanQPlus, HanQPeak, MissionSolar, Jinko\n",
    "mod_name = 'Panasonic'\n",
    "mettablename =  'dbo.SNLA_Met_DataOut'"
   ]
  },
  {
   "cell_type": "code",
   "execution_count": 5,
   "metadata": {},
   "outputs": [],
   "source": [
    "#Reads in an excel file of all necessary module coefficients, string lengths, system dates, etc\n",
    "mod_info = pd.read_excel('module_coefficients.xlsx')\n",
    "mod_info.index = mod_info['Manufacturer']\n",
    "del mod_info['Manufacturer']\n",
    "#defines the specific module given the previous user input and module coefficients file\n",
    "module = mod_info[mod_name]\n",
    "systablename = module['table_name']\n",
    "start = '2020-01-01 00:00:00-07:00'\n",
    " #module['start']\n",
    "end = '2021-01-01 00:00:00-07:00'\n",
    "#module['end']"
   ]
  },
  {
   "cell_type": "code",
   "execution_count": null,
   "metadata": {},
   "outputs": [],
   "source": [
    "#Import sys & met databases & merge into one df\n",
    "df = sys_met_data(mettablename, systablename, start, end)"
   ]
  },
  {
   "cell_type": "code",
   "execution_count": null,
   "metadata": {},
   "outputs": [],
   "source": [
    "initial = len(df)"
   ]
  },
  {
   "cell_type": "code",
   "execution_count": null,
   "metadata": {},
   "outputs": [],
   "source": [
    "#Calculate solpos & other environmental data, like airmass, aoi, and differnt poa components\n",
    "sdf = calc_sol_data(df.index, module['latitude'], module['longitude'], module['tilt'], df['Pressure_mBar_Avg'])\n",
    "edf = calc_env_data(module['tilt'], module ['altitude'], module['surface_azimuth'], sdf['azimuth'], sdf['apparent_zenith'], \n",
    "               df['Direct_Wm2_Avg'], df['Global_Wm2_Avg'], df['Diffuse_Wm2_Avg'], sdf['dni_extra'], model = 'haydavies')\n",
    "edf['am_abs'] = pvlib.atmosphere.get_absolute_airmass(edf['airmass'], edf['pressure'])\n",
    "#merge this information into one solar & environmental data df called 'sedf'"
   ]
  },
  {
   "cell_type": "code",
   "execution_count": null,
   "metadata": {},
   "outputs": [],
   "source": [
    "#Apply Physical Filters \n",
    "#df = simple_filter(df, 'AmbientTemp_Avg', lower=-40, upper=60, apply=True)\n",
    "#edf = simple_filter(edf, 'poa_global', lower=0, upper=1750, apply=True)\n",
    "#edf = simple_filter(edf, 'poa_diffuse', lower=0, upper=1750, apply=True)"
   ]
  },
  {
   "cell_type": "code",
   "execution_count": null,
   "metadata": {},
   "outputs": [],
   "source": [
    "sapm_par = sapm_param(edf['poa_global'], edf['poa_direct'], edf['poa_diffuse'], df.Temp_C_Avg, df.WS_ms_Mean, \n",
    "                   edf['am_abs'], edf['aoi'], module)\n",
    "sapm_tcell = sapm_par['tcell'].to_frame()\n",
    "eff_irr  = sapm_par['eff_irr'].to_frame()\n",
    "temp_irr = pd.merge(sapm_tcell,eff_irr, how = 'inner', left_index=True, right_index=True)\n",
    "df = df.merge(temp_irr, how='inner', left_index=True, right_index=True)\n",
    "df = df[~df.index.duplicated(keep='first')]"
   ]
  },
  {
   "cell_type": "code",
   "execution_count": null,
   "metadata": {},
   "outputs": [],
   "source": [
    "#Apply physical Filters\n",
    "df = simple_filter(df, 'eff_irr', lower=50, upper=1200, apply=True)\n",
    "df = simple_filter(df, 'tcell', lower=-40, upper=100, apply=True)"
   ]
  },
  {
   "cell_type": "code",
   "execution_count": null,
   "metadata": {},
   "outputs": [],
   "source": [
    "##### Filter out the data points with a certain ratio of current to irradiance\n",
    "string_is ='str_1_i', 'str_2_i', 'str_3_i', 'str_4_i'\n",
    "ratio_names = 'ratio str_1_i to eff_irr', 'ratio str_2_i to eff_irr', 'ratio str_3_i to eff_irr', 'ratio str_4_i to eff_irr'\n",
    "for string_i in string_is:\n",
    "    df['ratio' + ' ' + string_i + ' ' 'to eff_irr'] = df[module[string_i]]/df['eff_irr'] \n",
    "\n",
    "for ratio_name in ratio_names:\n",
    "    df = simple_filter(df, ratio_name, lower=module['ratio_lower'], upper=module['ratio_upper'], apply=True)"
   ]
  },
  {
   "cell_type": "code",
   "execution_count": null,
   "metadata": {},
   "outputs": [],
   "source": [
    "df.loc[df['Direct_Wm2_Avg']<0, 'Direct_Wm2_Avg'] = 0\n",
    "df.loc[df['Global_Wm2_Avg']<0, 'Global_Wm2_Avg'] = 0\n",
    "df.loc[df['Diffuse_Wm2_Avg']<0, 'Diffuse_Wm2_Avg'] = 0"
   ]
  },
  {
   "cell_type": "code",
   "execution_count": null,
   "metadata": {},
   "outputs": [],
   "source": [
    "#df_hour = df.resample('H').mean()\n",
    "#df_hour.to_csv(mod_name + 'Met_Hour.csv')"
   ]
  },
  {
   "cell_type": "code",
   "execution_count": null,
   "metadata": {},
   "outputs": [],
   "source": [
    "#filter out pole shading \n",
    "shade_list = ['Can270', 'HanQPlus']\n",
    "if mod_name in shade_list:\n",
    "    shade_start = '2020-10-06 00:00:00-07:00'\n",
    "    shade_end = '2020-11-02 00:00:00-07:00'\n",
    "    shask = (df.index > shade_start) & (df.index <= shade_end)\n",
    "    df = df.loc[~shask]\n",
    "\n",
    "#remove sep 21\n",
    "sep_start = '2020-09-21 00:00:00-07:00'\n",
    "sep_end = '2020-09-22 23:00:00-07:00'\n",
    "sep_mask = (df.index > sep_start) & (df.index <= sep_end)\n",
    "df = df.loc[~sep_mask]\n",
    "\n",
    "#remove feb 5\n",
    "feb_start = '2020-02-05 00:00:00-07:00'\n",
    "feb_end = '2020-02-05 23:00:00-07:00'\n",
    "feb_mask = (df.index > feb_start) & (df.index <= feb_end)\n",
    "df = df.loc[~feb_mask]\n"
   ]
  },
  {
   "cell_type": "code",
   "execution_count": null,
   "metadata": {},
   "outputs": [],
   "source": [
    "#Generate a results dataframe and add measured values\n",
    "results = meas_val(df[module['str_1_v']],df[module['str_1_i']]).to_frame()\n",
    "results['Str_2'] = meas_val(df[module['str_2_v']],df[module['str_2_i']])\n",
    "results['Str_3'] = meas_val(df[module['str_3_v']],df[module['str_3_i']])\n",
    "results['Str_4'] = meas_val(df[module['str_4_v']],df[module['str_4_i']])\n",
    "results = results.resample('H').mean()\n",
    "results.rename(columns = { 0 : 'Str_1'}, inplace = True)"
   ]
  },
  {
   "cell_type": "code",
   "execution_count": null,
   "metadata": {},
   "outputs": [],
   "source": [
    "#read in SAM data from the spreadsheet containing all SAM results for entire time period of system\n",
    "sam_data = pd.read_excel('SAM_results.xlsx', sheet_name = [mod_name])\n",
    "sam_data = sam_data[mod_name]\n",
    "sam_data.index = sam_data['Time']\n",
    "sam_data.index = pd.DatetimeIndex(sam_data.index)\n",
    "del sam_data['Time']\n",
    "sam_data.rename(columns = {mod_name : 'SAM'}, inplace = True)\n",
    "sam_data = sam_data.loc[start:end, :]\n",
    "results ['SAM'] = sam_data['SAM']#.resample('M').mean()"
   ]
  },
  {
   "cell_type": "code",
   "execution_count": null,
   "metadata": {},
   "outputs": [],
   "source": [
    "hourly_eff_irr = df['eff_irr'].resample('H').mean()"
   ]
  },
  {
   "cell_type": "code",
   "execution_count": null,
   "metadata": {},
   "outputs": [],
   "source": [
    "#Calcualte SAPM results and add to df\n",
    "dc = sapm(df['eff_irr'], df['tcell'], module)\n",
    "results['SAPM'] = sapm_p(dc['v_mp'], dc['i_mp'], module['str_len'])#.resample('M').mean()"
   ]
  },
  {
   "cell_type": "code",
   "execution_count": null,
   "metadata": {},
   "outputs": [],
   "source": [
    "#Calculate PVWatts results and add to df\n",
    "results['PVWatts'] = (pvwatts(POA_eff = df['eff_irr'], cell_temp = df['tcell'], \n",
    "                             stc_mod_p = module['Power'], Gpmp = module['Gpmp'],str_len = module['str_len'],\n",
    "                                                 temp_ref=25.0 ))#.resample('M').mean()"
   ]
  },
  {
   "cell_type": "code",
   "execution_count": null,
   "metadata": {},
   "outputs": [],
   "source": [
    "#Calculate CEC results and add to df\n",
    "cec_param = pvlib.pvsystem.calcparams_cec( df['eff_irr'], df['tcell'], module['alpha_sc'], \n",
    "                                          module['a_ref'], module['I_L_ref'], module['I_o_ref'], module['R_sh_ref'], \n",
    "                                          module['R_s'], module['Adjust'], module['Cells_in_Series'])\n",
    "cec_p = pvlib.pvsystem.singlediode(photocurrent = cec_param[0], saturation_current = cec_param[1], resistance_series =\n",
    "                           cec_param[2], resistance_shunt = cec_param[3], nNsVth = cec_param[4], method = 'newton')\n",
    "results['CEC'] = sdm(cec_p['p_mp'], module['str_len'])#.resample('M').mean()"
   ]
  },
  {
   "cell_type": "code",
   "execution_count": null,
   "metadata": {},
   "outputs": [],
   "source": [
    "#Calculate Desoto results and add to df\n",
    "ds_param = pvlib.pvsystem.calcparams_desoto(df['eff_irr'], df['tcell'], module['alpha_sc'],\n",
    "                                            module['a_ref'],module['I_L_ref'], module['I_o_ref'], \n",
    "                                            module['R_sh_ref'], module['R_s'])\n",
    "ds_p = pvlib.pvsystem.singlediode(photocurrent = ds_param[0], saturation_current = ds_param[1], resistance_series =\n",
    "                           ds_param[2], resistance_shunt = ds_param[3], nNsVth = ds_param[4], method = 'newton')\n",
    "results['Desoto'] = sdm(ds_p['p_mp'], module['str_len'])#.resample('M').mean()"
   ]
  },
  {
   "cell_type": "code",
   "execution_count": null,
   "metadata": {
    "scrolled": true
   },
   "outputs": [],
   "source": [
    "#Calculte PVSystem results and add to df\n",
    "pvs_param = pvlib.pvsystem.calcparams_pvsyst(df['eff_irr'],df['tcell'], module['alpha_sc'], \n",
    "                                             module['gamma_ref'],module['mu_gamma'], module['I_L_ref'], module['I_o_ref'],\n",
    "                                             module['R_sh_ref'], module['R_sh_0'], module['R_s'],  module['Cells_in_Series'])\n",
    "pvs_p = pvlib.pvsystem.singlediode(photocurrent = pvs_param[0], saturation_current = pvs_param[1], resistance_series =\n",
    "                           pvs_param[2], resistance_shunt = pvs_param[3], nNsVth = pvs_param[4], method = 'newton')\n",
    "results['PVSyst'] = sdm(pvs_p['p_mp'], module['str_len'])#.resample('M').mean()"
   ]
  },
  {
   "cell_type": "code",
   "execution_count": null,
   "metadata": {},
   "outputs": [],
   "source": [
    "#Import matrix of measurement data\n",
    "measurements_file = 'Sandia_PV_Module_P-Matrix-and-TempCo-Data_2019.xlsx'\n",
    "matrix = pd.read_excel(measurements_file, sheet_name = mod_name, usecols='B,C,H', header=None, skiprows=5, nrows=27)\n",
    "matrix.columns = ['temperature', 'irradiance', 'p_mp']\n",
    "# calculate efficiency from power\n",
    "matrix = matrix.eval('eta = p_mp / irradiance')\n",
    "eta_stc = matrix.query('irradiance == 1000 and temperature == 25').eta\n",
    "matrix.eta /= eta_stc.values\n",
    "# just keep the columns that are needed\n",
    "matrix = matrix[['irradiance', 'temperature', 'eta']]\n",
    "\n",
    "#Until the other function is complete, I have this setup just to get out all negative values, but it leads to problems at times\n",
    "#df.loc[df['BroadbandPOA_Avg']<0, 'BroadbandPOA_Avg'] = 0"
   ]
  },
  {
   "cell_type": "code",
   "execution_count": null,
   "metadata": {},
   "outputs": [],
   "source": [
    "#Calculate ADR results and add to df\n",
    "popt, pcov = fit_efficiency_model(matrix.irradiance,matrix.temperature,matrix.eta,adr)\n",
    "adr_eff = adr(df['eff_irr'], df['tcell'], *popt)\n",
    "adr_p = (df['eff_irr']/1000) * (adr_eff) * (module['Power']) *12\n",
    "results['ADR'] = adr_p.resample('H').mean()"
   ]
  },
  {
   "cell_type": "code",
   "execution_count": null,
   "metadata": {},
   "outputs": [],
   "source": [
    "#Calculate Heydenreich results and add to df\n",
    "popt, pcov = fit_efficiency_model(matrix.irradiance,matrix.temperature,matrix.eta,heydenreich)\n",
    "hey_eff = heydenreich(df['eff_irr'], df['tcell'], *popt)\n",
    "hey_p = (df['eff_irr']/1000) * (hey_eff) * (module['Power']) *12\n",
    "results['Heydenreich'] = hey_p.resample('H').mean()"
   ]
  },
  {
   "cell_type": "code",
   "execution_count": null,
   "metadata": {
    "scrolled": true
   },
   "outputs": [],
   "source": [
    "#Calculate MotherPV results and add to df\n",
    "popt, pcov = fit_efficiency_model(matrix.irradiance,matrix.temperature,matrix.eta,motherpv)\n",
    "mother_eff = motherpv(df['eff_irr'], df['tcell'], *popt)\n",
    "mother_p = (df['eff_irr']/1000) * (mother_eff) * (module['Power']) * 12\n",
    "results['Mother'] = mother_p.resample('H').mean()"
   ]
  },
  {
   "cell_type": "code",
   "execution_count": null,
   "metadata": {},
   "outputs": [],
   "source": [
    "#Calculate PVGIS results and add to df\n",
    "popt, pcov = fit_efficiency_model(matrix.irradiance,matrix.temperature,matrix.eta,pvgis)\n",
    "pvgis_eff = pvgis(df['eff_irr'], df['tcell'], *popt)\n",
    "pvgis_p = (df['eff_irr']/1000) * (pvgis_eff) * (module['Power']) *12\n",
    "results['PVGIS'] = pvgis_p.resample('H').mean()"
   ]
  },
  {
   "cell_type": "code",
   "execution_count": null,
   "metadata": {
    "scrolled": true
   },
   "outputs": [],
   "source": [
    "#Calculate MPM5 results and add to df\n",
    "popt, pcov = fit_efficiency_model(matrix.irradiance,matrix.temperature,matrix.eta,mpm5)\n",
    "mpm5_eff = mpm5(df['eff_irr'], df['tcell'], *popt)\n",
    "mpm5_p = (df['eff_irr']/1000) * (mpm5_eff) * (module['Power']) *12\n",
    "results['MPM5'] = mpm5_p.resample('H').mean()"
   ]
  },
  {
   "cell_type": "code",
   "execution_count": null,
   "metadata": {},
   "outputs": [],
   "source": [
    "#Calculate MPM6 results and add to df\n",
    "popt, pcov = fit_efficiency_model(matrix.irradiance,matrix.temperature,matrix.eta,mpm6)\n",
    "mpm6_eff = mpm6(df['eff_irr'], df['tcell'], *popt)\n",
    "mpm6_p = (df['eff_irr']/1000) * (mpm6_eff) * (module['Power']) *12\n",
    "results['MPM6'] = mpm6_p.resample('H').mean()"
   ]
  },
  {
   "cell_type": "code",
   "execution_count": null,
   "metadata": {},
   "outputs": [],
   "source": [
    "#Aligns SAM results with other results since SAM results has 0's in between days instead of NaNs\n",
    "mask = np.isnan(results['Str_1'])\n",
    "results = results.mask(mask, np.nan)"
   ]
  },
  {
   "cell_type": "code",
   "execution_count": null,
   "metadata": {},
   "outputs": [],
   "source": [
    "#Statistical Sig3 filter\n",
    "results, mask = stat_sigma_test(results, deviation = 3, apply=True)\n",
    "results=results.astype(float)"
   ]
  },
  {
   "cell_type": "code",
   "execution_count": null,
   "metadata": {},
   "outputs": [],
   "source": [
    "#Begin Error Calculations\n",
    "\n",
    "measureds = ['Str_1', 'Str_2', 'Str_3', 'Str_4']\n",
    "models = ['SAM', 'SAPM',  'ADR', 'Heydenreich', 'Mother', 'PVGIS', 'MPM5', 'MPM6','PVWatts', 'CEC', 'Desoto', 'PVSyst']\n",
    "#calculate absolute differences\n",
    "ad = abs(results['Str_1']-results['SAM']).to_frame()\n",
    "ad.rename(columns = { 0 : 'SAM Str_1'}, inplace = True)\n",
    "ad.index = results.index\n",
    "for model in models:\n",
    "    for measured in measureds:\n",
    "        ad[model + ' ' + measured] = abs(results[measured]-results[model])\n",
    "\n",
    "        \n",
    "#calculate absolute percentage differences\n",
    "apd = 100*abs((results['SAM']-results['Str_1'])/results['Str_1']).to_frame()\n",
    "apd.rename(columns = { 0 : 'SAM Str_1'}, inplace = True)\n",
    "apd.index = results.index\n",
    "for model in models:\n",
    "    for measured in measureds:\n",
    "        apd[model + ' ' + measured] = 100* abs((results[measured]-results[model])/results[measured])"
   ]
  },
  {
   "cell_type": "code",
   "execution_count": null,
   "metadata": {},
   "outputs": [],
   "source": [
    "samnmbe = ((((ad.iloc[:, [0,1,2,3]].sum(axis=1))/len(ad))/results.iloc[:, [0,1,2,3]].mean(axis=1))*100).to_frame()\n",
    "samnmbe['Model']='SAM'\n",
    "sapmnmbe = ((((ad.iloc[:, [4,5,6,7]].sum(axis=1))/len(ad))/results.iloc[:, [0,1,2,3]].mean(axis=1))*100).to_frame()\n",
    "sapmnmbe['Model']='SAPM'\n",
    "adrnmbe = ((((ad.iloc[:, [8,9,10,11]].sum(axis=1))/len(ad))/results.iloc[:, [0,1,2,3]].mean(axis=1))*100).to_frame()\n",
    "adrnmbe['Model']='ADR'\n",
    "heynmbe = ((((ad.iloc[:, [12,13,14,15]].sum(axis=1))/len(ad))/results.iloc[:, [0,1,2,3]].mean(axis=1))*100).to_frame()\n",
    "heynmbe['Model']='HEY'\n",
    "mothernmbe = ((((ad.iloc[:, [16,17,18,19]].sum(axis=1))/len(ad))/results.iloc[:, [0,1,2,3]].mean(axis=1))*100).to_frame()\n",
    "mothernmbe['Model']='MOT'\n",
    "pvgisnmbe = ((((ad.iloc[:, [20,21,22,23]].sum(axis=1))/len(ad))/results.iloc[:, [0,1,2,3]].mean(axis=1))*100).to_frame()\n",
    "pvgisnmbe['Model']='PVG'\n",
    "mpm5nmbe = ((((ad.iloc[:, [24,25,26,27]].sum(axis=1))/len(ad))/results.iloc[:, [0,1,2,3]].mean(axis=1))*100).to_frame()\n",
    "mpm5nmbe['Model']='MPM5'\n",
    "mpm6nmbe = ((((ad.iloc[:, [28,29,30,31]].sum(axis=1))/len(ad))/results.iloc[:, [0,1,2,3]].mean(axis=1))*100).to_frame()\n",
    "mpm6nmbe['Model']='MPM6'\n",
    "pvwattsnmbe = ((((ad.iloc[:, [32,33,34,35]].sum(axis=1))/len(ad))/results.iloc[:, [0,1,2,3]].mean(axis=1))*100).to_frame()\n",
    "pvwattsnmbe['Model']='PVW'\n",
    "cecnmbe = ((((ad.iloc[:, [36,37,38,39]].sum(axis=1))/len(ad))/results.iloc[:, [0,1,2,3]].mean(axis=1))*100).to_frame()\n",
    "cecnmbe['Model']='CEC'\n",
    "desotonmbe = ((((ad.iloc[:, [40,41,42,43]].sum(axis=1))/len(ad))/results.iloc[:, [0,1,2,3]].mean(axis=1))*100).to_frame()\n",
    "desotonmbe['Model']='DES'\n",
    "pvsystnmbe = ((((ad.iloc[:, [44,45,46,47]].sum(axis=1))/len(ad))/results.iloc[:, [0,1,2,3]].mean(axis=1))*100).to_frame()\n",
    "pvsystnmbe['Model']='PVS'\n",
    "\n",
    "\n",
    "nmbes = [samnmbe, sapmnmbe, adrnmbe, heynmbe, mothernmbe, pvgisnmbe, mpm5nmbe, \n",
    "        mpm6nmbe, pvwattsnmbe, cecnmbe, desotonmbe, pvsystnmbe]\n",
    "nmbe = pd.concat(nmbes)\n",
    "nmbe.rename(columns = { 0 : 'NMBE'}, inplace = True)\n",
    "\n",
    "\n",
    "ax = sns.boxplot(x = 'Model', y = 'NMBE', data = nmbe, showmeans=True)\n",
    "ax.grid(True)\n",
    "ax.set_ylim([0,0.01])"
   ]
  },
  {
   "cell_type": "code",
   "execution_count": null,
   "metadata": {},
   "outputs": [],
   "source": [
    "nmbe.to_csv('orig.csv')"
   ]
  },
  {
   "cell_type": "code",
   "execution_count": null,
   "metadata": {},
   "outputs": [],
   "source": [
    "sammape = (apd.iloc[:, [0,1,2,3]].mean(axis=1)).to_frame()\n",
    "sammape['Model']='SAM'\n",
    "sapmmape = apd.iloc[:, [4,5,6,7]].mean(axis=1).to_frame()\n",
    "sapmmape['Model']='SAPM'\n",
    "adrmape = apd.iloc[:, [8,9,10,11]].mean(axis=1).to_frame()\n",
    "adrmape['Model']='ADR'\n",
    "heymape = apd.iloc[:, [12,13,14,15]].mean(axis=1).to_frame()\n",
    "heymape['Model']='HEY'\n",
    "mothermape = apd.iloc[:, [16,17,18,19]].mean(axis=1).to_frame()\n",
    "mothermape['Model']='MOT'\n",
    "pvgismape = apd.iloc[:, [20,21,22,23]].mean(axis=1).to_frame()\n",
    "pvgismape['Model']='PVG'\n",
    "mpm5mape = apd.iloc[:, [24,25,26,27]].mean(axis=1).to_frame()\n",
    "mpm5mape['Model']='MPM5'\n",
    "mpm6mape = apd.iloc[:, [28,29,30,31]].mean(axis=1).to_frame()\n",
    "mpm6mape['Model']='MPM6'\n",
    "pvwattsmape = apd.iloc[:, [32,33,34,35]].mean(axis=1).to_frame()\n",
    "pvwattsmape['Model']='PVW'\n",
    "cecmape = apd.iloc[:, [36,37,38,39]].mean(axis=1).to_frame()\n",
    "cecmape['Model']='CEC'\n",
    "desotomape = apd.iloc[:, [40,41,42,43]].mean(axis=1).to_frame()\n",
    "desotomape['Model']='DES'\n",
    "pvsystmape = apd.iloc[:, [44,45,46,47]].mean(axis=1).to_frame()\n",
    "pvsystmape['Model']='PVS'\n",
    "\n",
    "\n",
    "mapes = [sammape,sapmmape,adrmape,heymape,mothermape,pvgismape,mpm5mape,mpm6mape,pvwattsmape,cecmape,desotomape,pvsystmape]\n",
    "mape = pd.concat(mapes)\n",
    "mape.rename(columns = { 0 : 'MAPE'}, inplace = True)\n",
    "\n",
    "\n",
    "ax = sns.boxplot(x = 'Model', y = 'MAPE', data = mape, showmeans=True)\n",
    "ax.grid(True)\n",
    "ax.set_ylim([0,25])"
   ]
  },
  {
   "cell_type": "code",
   "execution_count": null,
   "metadata": {},
   "outputs": [],
   "source": [
    "figs, axs = plt.subplots(6, 2, figsize = (20,30))\n",
    "axs[0,0].plot(ad['SAPM Str_1'])\n",
    "axs[0,0].set_title('SAPM')\n",
    "axs[0,0].set_ylim(0,4000)\n",
    "axs[0,0].set_xlim(datetime.date(2020, 1, 1), datetime.date(2020,12,31))\n",
    "axs[0,1].plot(ad['SAM Str_1'])\n",
    "axs[0,1].set_title('SAM')\n",
    "axs[0,1].set_ylim(0,4000)\n",
    "axs[0,1].set_xlim(datetime.date(2020, 1, 1), datetime.date(2020,12,31))\n",
    "axs[1,0].plot(ad['Heydenreich Str_1'])\n",
    "axs[1,0].set_title('Heydenreich')\n",
    "axs[1,0].set_ylim(0,4000)\n",
    "axs[1,0].set_xlim(datetime.date(2020, 1, 1), datetime.date(2020,12,31))\n",
    "axs[1,1].plot(ad['ADR Str_1'])\n",
    "axs[1,1].set_title('ADR')\n",
    "axs[1,1].set_ylim(0,4000)\n",
    "axs[1,1].set_xlim(datetime.date(2020, 1, 1), datetime.date(2020,12,31))\n",
    "axs[2,0].plot(ad['CEC Str_1'])\n",
    "axs[2,0].set_title('CEC')\n",
    "axs[2,0].set_ylim(0,4000)\n",
    "axs[2,0].set_xlim(datetime.date(2020, 1, 1), datetime.date(2020,12,31))\n",
    "axs[2,1].plot(ad['Desoto Str_1'])\n",
    "axs[2,1].set_title('Desoto')\n",
    "axs[2,1].set_ylim(0,4000)\n",
    "axs[2,1].set_xlim(datetime.date(2020, 1, 1), datetime.date(2020,12,31))\n",
    "axs[3,0].plot(ad['PVSyst Str_1'])\n",
    "axs[3,0].set_title('PVSyst')\n",
    "axs[3,0].set_ylim(0,4000)\n",
    "axs[3,0].set_xlim(datetime.date(2020, 1, 1), datetime.date(2020,12,31))\n",
    "axs[3,1].plot(ad['PVWatts Str_1'])\n",
    "axs[3,1].set_title('PVWatts')\n",
    "axs[3,1].set_ylim(0,4000)\n",
    "axs[3,1].set_xlim(datetime.date(2020, 1, 1), datetime.date(2020,12,31))\n",
    "axs[4,0].plot(ad['MPM5 Str_1'])\n",
    "axs[4,0].set_title('MPM5')\n",
    "axs[4,0].set_ylim(0,4000)\n",
    "axs[4,0].set_xlim(datetime.date(2020, 1, 1), datetime.date(2020,12,31))\n",
    "axs[4,1].plot(ad['MPM6 Str_1'])\n",
    "axs[4,1].set_title('MPM6')\n",
    "axs[4,1].set_ylim(0,4000)\n",
    "axs[4,1].set_xlim(datetime.date(2020, 1, 1), datetime.date(2020,12,31))\n",
    "axs[5,0].plot(ad['Mother Str_1'])\n",
    "axs[5,0].set_title('Mother')\n",
    "axs[5,0].set_ylim(0,4000)\n",
    "axs[5,0].set_xlim(datetime.date(2020, 1, 1), datetime.date(2020,12,31))\n",
    "axs[5,1].plot(ad['PVGIS Str_1'])\n",
    "axs[5,1].set_title('PVGIS')\n",
    "axs[5,1].set_ylim(0,4000)\n",
    "axs[5,1].set_xlim(datetime.date(2020, 1, 1), datetime.date(2020,12,31))"
   ]
  },
  {
   "cell_type": "code",
   "execution_count": null,
   "metadata": {
    "scrolled": true
   },
   "outputs": [],
   "source": [
    "figs, axs = plt.subplots(6, 2, figsize = (20,30))\n",
    "axs[0,0].scatter(results['SAPM'], hourly_eff_irr)\n",
    "axs[0,0].set_title('SAPM')\n",
    "axs[0,0].set_xlim(0,5000)\n",
    "axs[0,0].set_ylim(0,2000)\n",
    "axs[0,0].set_ylabel('Effective Irradiance')\n",
    "axs[0,0].set_xlabel('Power')\n",
    "axs[0,1].scatter(results['SAM'], hourly_eff_irr)\n",
    "axs[0,1].set_title('SAM')\n",
    "axs[0,1].set_xlim(0,5000)\n",
    "axs[0,1].set_ylim(0,2000)\n",
    "axs[0,1].set_ylabel('Effective Irradiance')\n",
    "axs[0,1].set_xlabel('Power')\n",
    "axs[1,0].scatter(results['Heydenreich'], hourly_eff_irr)\n",
    "axs[1,0].set_title('Heydenreich')\n",
    "axs[1,0].set_xlim(0,5000)\n",
    "axs[1,0].set_ylim(0,2000)\n",
    "axs[1,0].set_ylabel('Effective Irradiance')\n",
    "axs[1,0].set_xlabel('Power')\n",
    "axs[1,1].scatter(results['ADR'], hourly_eff_irr)\n",
    "axs[1,1].set_title('ADR')\n",
    "axs[1,1].set_xlim(0,5000)\n",
    "axs[1,1].set_ylim(0,2000)\n",
    "axs[1,1].set_ylabel('Effective Irradiance')\n",
    "axs[1,1].set_xlabel('Power')\n",
    "axs[2,0].scatter(results['CEC'], hourly_eff_irr)\n",
    "axs[2,0].set_title('CEC')\n",
    "axs[2,0].set_xlim(0,5000)\n",
    "axs[2,0].set_ylim(0,2000)\n",
    "axs[2,0].set_ylabel('Effective Irradiance')\n",
    "axs[2,0].set_xlabel('Power')\n",
    "axs[2,1].scatter(results['Desoto'], hourly_eff_irr)\n",
    "axs[2,1].set_title('Desoto')\n",
    "axs[2,1].set_xlim(0,5000)\n",
    "axs[2,1].set_ylim(0,2000)\n",
    "axs[2,1].set_ylabel('Effective Irradiance')\n",
    "axs[2,1].set_xlabel('Power')\n",
    "axs[3,0].scatter(results['PVSyst'], hourly_eff_irr)\n",
    "axs[3,0].set_title('PVSyst')\n",
    "axs[3,0].set_xlim(0,5000)\n",
    "axs[3,0].set_ylim(0,2000)\n",
    "axs[3,0].set_ylabel('Effective Irradiance')\n",
    "axs[3,0].set_xlabel('Power')\n",
    "axs[3,1].scatter(results['PVWatts'], hourly_eff_irr)\n",
    "axs[3,1].set_title('PVWatts')\n",
    "axs[3,1].set_xlim(0,5000)\n",
    "axs[3,1].set_ylim(0,2000)\n",
    "axs[3,1].set_ylabel('Effective Irradiance')\n",
    "axs[3,1].set_xlabel('Power')\n",
    "axs[4,0].scatter(results['MPM5'], hourly_eff_irr)\n",
    "axs[4,0].set_title('MPM5')\n",
    "axs[4,0].set_xlim(0,5000)\n",
    "axs[4,0].set_ylim(0,2000)\n",
    "axs[4,0].set_ylabel('Effective Irradiance')\n",
    "axs[4,0].set_xlabel('Power')\n",
    "axs[4,1].scatter(results['MPM6'], hourly_eff_irr)\n",
    "axs[4,1].set_title('MPM6')\n",
    "axs[4,1].set_xlim(0,5000)\n",
    "axs[4,1].set_ylim(0,2000)\n",
    "axs[4,1].set_ylabel('Effective Irradiance')\n",
    "axs[4,1].set_xlabel('Power')\n",
    "axs[5,0].scatter(results['Mother'], hourly_eff_irr)\n",
    "axs[5,0].set_title('Mother')\n",
    "axs[5,0].set_xlim(0,5000)\n",
    "axs[5,0].set_ylim(0,2000)\n",
    "axs[5,0].set_ylabel('Effective Irradiance')\n",
    "axs[5,0].set_xlabel('Power')\n",
    "axs[5,1].scatter(results['PVGIS'], hourly_eff_irr)\n",
    "axs[5,1].set_title('PVGIS')\n",
    "axs[5,1].set_xlim(0,5000)\n",
    "axs[5,1].set_ylim(0,2000)\n",
    "axs[5,1].set_ylabel('Effective Irradiance')\n",
    "axs[5,1].set_xlabel('Power')\n"
   ]
  },
  {
   "cell_type": "code",
   "execution_count": null,
   "metadata": {},
   "outputs": [],
   "source": [
    "# create figure and axis objects with subplots()\n",
    "fig,ax = plt.subplots()\n",
    "\n",
    "# make a plot\n",
    "ax.plot(results.index, results['PVWatts'], color=\"red\")\n",
    "ax.plot(results.index, results['Str_2'], color = \"blue\")\n",
    "ax.set_xlim(datetime.date(2020, 2, 3), datetime.date(2020,2,6))\n",
    "# set x-axis label\n",
    "ax.set_xlabel(\"date\",fontsize=14)\n",
    "# set y-axis label\n",
    "ax.set_ylabel(\"Power\",color=\"red\",fontsize=14)\n",
    "ax2=ax.twinx()\n",
    "# make a plot with different y-axis using second axis object\n",
    "ax2.plot(results.index, hourly_eff_irr,color=\"green\")\n",
    "ax2.set_ylabel(\"Irradiance\",color=\"green\",fontsize=14)\n",
    "ax2.set_ylim(0, 1200)\n",
    "#plt.show()"
   ]
  },
  {
   "cell_type": "code",
   "execution_count": null,
   "metadata": {
    "scrolled": false
   },
   "outputs": [],
   "source": [
    "results['Str_1'].plot()\n",
    "results['SAM'].plot()\n",
    "#df['eff_irr'].plot()\n",
    "plt.xlim('2020-12-15 00:00:00-07:00', '2020-12-20 00:00:00-07:00')\n",
    "plt.ylim(0,5000)\n",
    "plt.legend(loc='center left', bbox_to_anchor=(1,0.5))"
   ]
  },
  {
   "cell_type": "code",
   "execution_count": null,
   "metadata": {},
   "outputs": [],
   "source": []
  }
 ],
 "metadata": {
  "kernelspec": {
   "display_name": "PVModel",
   "language": "python",
   "name": "pvmodel"
  },
  "language_info": {
   "codemirror_mode": {
    "name": "ipython",
    "version": 3
   },
   "file_extension": ".py",
   "mimetype": "text/x-python",
   "name": "python",
   "nbconvert_exporter": "python",
   "pygments_lexer": "ipython3",
   "version": "3.8.8"
  }
 },
 "nbformat": 4,
 "nbformat_minor": 4
}
