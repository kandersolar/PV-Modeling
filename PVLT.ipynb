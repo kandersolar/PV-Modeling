{
 "cells": [
  {
   "cell_type": "code",
   "execution_count": null,
   "metadata": {},
   "outputs": [],
   "source": [
    "%run PVModel_functions.py"
   ]
  },
  {
   "cell_type": "code",
   "execution_count": null,
   "metadata": {},
   "outputs": [],
   "source": [
    "#This cell imports all the necessary packages & module data\n",
    "import pandas as pd \n",
    "import numpy as np\n",
    "from datetime import datetime\n",
    "import datatools\n",
    "import matplotlib as mpl\n",
    "import matplotlib.pyplot as plt\n",
    "import datetime\n",
    "import pvlib\n",
    "import pvanalytics\n",
    "import math\n",
    "\n",
    "%matplotlib inline \n",
    "from pandas.plotting import register_matplotlib_converters\n",
    "register_matplotlib_converters()\n",
    "\n",
    "mpl.rcParams['font.size']=12\n",
    "mpl.rcParams['lines.linewidth']=1\n",
    "mpl.rcParams['xtick.labelsize']=10\n",
    "#mpl.rcParams['font.weight']='bold'\n",
    "mpl.rcParams['axes.titlesize']=22\n",
    "\n",
    "mod_info = pd.read_excel('module_coefficients.xlsx')\n",
    "mod_info.index = mod_info['Manufacturer']\n",
    "del mod_info['Manufacturer']\n"
   ]
  },
  {
   "cell_type": "code",
   "execution_count": null,
   "metadata": {},
   "outputs": [],
   "source": [
    "#This is where all the input info should be\n",
    "module = mod_info['Panasonic']\n",
    "mettablename =  'dbo.SNLA_Met_DataOut'\n",
    "systablename =  'dbo.PVLT_Pan_LG_Panasonic_LG'\n",
    "\n",
    "start = module['start']\n",
    "end = module['end']"
   ]
  },
  {
   "cell_type": "code",
   "execution_count": null,
   "metadata": {},
   "outputs": [],
   "source": [
    "#Import sys & met databases & merge into one df\n",
    "df = sys_met_data(mettablename, systablename, start, end)"
   ]
  },
  {
   "cell_type": "code",
   "execution_count": null,
   "metadata": {},
   "outputs": [],
   "source": [
    "#Calculate solpos & other environmental data, like airmass, aoi, and differnt poa components\n",
    "sdf = calc_sol_data(df.index, module['latitude'], module['longitude'], module['tilt'], df['Pressure_mBar_Avg'])\n",
    "edf = calc_env_data(module['tilt'], module ['altitude'], module['surface_azimuth'], sdf['azimuth'], sdf['apparent_zenith'], \n",
    "               df['Direct_Wm2_Avg'], df['Global_Wm2_Avg'], df['Diffuse_Wm2_Avg'], sdf['dni_extra'], model = 'haydavies')\n",
    "edf['am_abs'] = pvlib.atmosphere.get_absolute_airmass(edf['airmass'], edf['pressure'])\n",
    "sedf = pd.merge(edf,sdf,how='inner', left_index=True, right_index=True)"
   ]
  },
  {
   "cell_type": "code",
   "execution_count": null,
   "metadata": {},
   "outputs": [],
   "source": [
    "#Generate a results dataframe and add measured values\n",
    "results = meas_val(df['PH4_V_Avg'],df['PH4_I_Avg'])\n",
    "results = results.rename(columns = {0 : 'Measured'})"
   ]
  },
  {
   "cell_type": "code",
   "execution_count": null,
   "metadata": {},
   "outputs": [],
   "source": [
    "#Calcualte SAPM results and add to df\n",
    "sapm_p = sapm_param(sedf['poa_global'], edf['poa_direct'], edf['poa_diffuse'], df.AmbientTemp_Avg, df.Wind_Speed_Avg, \n",
    "                   sedf['am_abs'], sedf['aoi'], module)\n",
    "dc = sapm(sapm_p['eff_irr'], sapm_p['tcell'], module)\n",
    "results['SAPM'] = sapm(dc['v_mp'], dc['i_mp'])"
   ]
  },
  {
   "cell_type": "code",
   "execution_count": null,
   "metadata": {},
   "outputs": [],
   "source": [
    "#Calculate PVWatts results and add to df\n",
    "results['PVWatts'] = pvwatts(df['BroadbandPOA_Avg'], df['PH2_RTD_Avg'], module['Power'], module['Gpmp'], temp_ref=25.0)"
   ]
  },
  {
   "cell_type": "code",
   "execution_count": null,
   "metadata": {},
   "outputs": [],
   "source": [
    "#Calculate CEC results and add to df\n",
    "cec_param = pvlib.pvsystem.calcparams_cec( df['BroadbandPOA_Avg'], df['PH1_RTD_Avg'], module['alpha_sc'], module['a_ref'], \n",
    "                                             module['I_L_ref'], module['I_o_ref'], module['R_sh_ref'], module['R_s'], \n",
    "                                             module['Adjust'], module['Cells_in_Series'])\n",
    "cec_p = pvlib.pvsystem.singlediode(photocurrent = cec_param[0], saturation_current = cec_param[1], resistance_series =\n",
    "                           cec_param[2], resistance_shunt = cec_param[3], nNsVth = cec_param[4])\n",
    "results['CEC'] = sdm(cec_p['p_mp'])"
   ]
  },
  {
   "cell_type": "code",
   "execution_count": null,
   "metadata": {},
   "outputs": [],
   "source": [
    "ds_param = pvlib.pvsystem.calcparams_desoto(df['BroadbandPOA_Avg'], df['PH1_RTD_Avg'], module['alpha_sc'], module['a_ref'], \n",
    "                                        module['I_L_ref'], module['I_o_ref'], module['R_sh_ref'], module['R_s'])\n",
    "ds_p = pvlib.pvsystem.singlediode(photocurrent = ds_param[0], saturation_current = ds_param[1], resistance_series =\n",
    "                           ds_param[2], resistance_shunt = ds_param[3], nNsVth = ds_param[4])\n",
    "results['Desoto'] = sdm(ds_p['p_mp'])"
   ]
  },
  {
   "cell_type": "code",
   "execution_count": null,
   "metadata": {},
   "outputs": [],
   "source": [
    "pvs_param = pvlib.pvsystem.calcparams_pvsyst(df['BroadbandPOA_Avg'], df['PH1_RTD_Avg'], module['alpha_sc'], module['gamma_ref'],\n",
    "                                            module['mu_gamma'], module['I_L_ref'], module['I_o_ref'], module['R_sh_ref'], module['R_sh_0'], \n",
    "                                            module['R_s'],  module['Cells_in_Series'])\n",
    "pvs_p = pvlib.pvsystem.singlediode(photocurrent = pan_pvs_param[0], saturation_current = pan_pvs_param[1], resistance_series =\n",
    "                           pan_pvs_param[2], resistance_shunt = pan_pvs_param[3], nNsVth = pan_pvs_param[4])\n",
    "results['PVSyst'] = sdm(pvs_p('p_mp'))"
   ]
  },
  {
   "cell_type": "code",
   "execution_count": null,
   "metadata": {},
   "outputs": [],
   "source": [
    "results.plot()\n",
    "plt.xlim('2020-07-01', '2020-07-04')\n",
    "plt.ylim(0,4500)\n",
    "plt.legend(loc='center left', bbox_to_anchor=(1,0.5))\n",
    "plt.xlabel('Date')\n",
    "plt.ylabel('Power (W)')"
   ]
  }
 ],
 "metadata": {
  "kernelspec": {
   "display_name": "PVModel",
   "language": "python",
   "name": "pvmodel"
  },
  "language_info": {
   "codemirror_mode": {
    "name": "ipython",
    "version": 3
   },
   "file_extension": ".py",
   "mimetype": "text/x-python",
   "name": "python",
   "nbconvert_exporter": "python",
   "pygments_lexer": "ipython3",
   "version": "3.8.8"
  }
 },
 "nbformat": 4,
 "nbformat_minor": 4
}
