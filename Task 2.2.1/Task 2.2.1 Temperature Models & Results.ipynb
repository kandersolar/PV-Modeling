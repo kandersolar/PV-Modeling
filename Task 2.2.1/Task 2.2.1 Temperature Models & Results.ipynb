{
 "cells": [
  {
   "cell_type": "code",
   "execution_count": 212,
   "id": "27464d86",
   "metadata": {},
   "outputs": [],
   "source": [
    "#This cell imports all the necessary packages & module data\n",
    "import pandas as pd \n",
    "import numpy as np\n",
    "import matplotlib as mpl\n",
    "import matplotlib.pyplot as plt\n",
    "import matplotlib.patches as mpatches\n",
    "import seaborn as sns\n",
    "\n",
    "import datatools\n",
    "import datetime\n",
    "import pvlib\n",
    "import math\n",
    "import statistics\n",
    "from math import sqrt\n",
    "\n",
    "\n",
    "%matplotlib inline \n",
    "mpl.rcParams['font.size']=12\n",
    "mpl.rcParams['lines.linewidth']=1\n",
    "mpl.rcParams['xtick.labelsize']=10\n",
    "#mpl.rcParams['font.weight']='bold'\n",
    "mpl.rcParams['axes.titlesize']=22\n",
    "sns.set(rc={'figure.figsize':(12,7)})\n",
    "sns.set_style('whitegrid')\n",
    "sns.set_context(\"poster\", font_scale=1)"
   ]
  },
  {
   "cell_type": "code",
   "execution_count": 94,
   "id": "416a0a76",
   "metadata": {},
   "outputs": [],
   "source": [
    "#identify module names \n",
    "mod_names = 'LG', 'Panasonic', 'Can270', 'Can275', 'HanQPlus', 'HanQPeak', 'MissionSolar', 'Jinko'\n",
    "\n",
    "#input file names : 'temp_inputs_112021.csv' & 'temp_inputs_052021.csv'\n",
    "#read in previously generated data\n",
    "inputs = pd.read_csv('temp_inputs_052021.csv', index_col='Unnamed: 0')\n",
    "inputs.index = pd.to_datetime(inputs.index)\n",
    "#inputs.dropna(inplace=True)\n",
    "#this csv has temperature data horizontally instead of vertically for different types of analyses\n",
    "mod_temps = pd.read_csv('modstrtemp_052021.csv')"
   ]
  },
  {
   "cell_type": "code",
   "execution_count": 76,
   "id": "1495f242",
   "metadata": {},
   "outputs": [],
   "source": [
    "#creating a df of system specific values\n",
    "\n",
    "mod_data = {'LG': [18,1.686, 1.016, 24.229, 7.182, 45, 0.1871],\n",
    "        'Panasonic': [18.5, 1.59, 1.053, 24.614, 7.878, 44, 0.1950],\n",
    "        'Can270': [18.2, 1.65, 0.992, 31.088, 4.865, 45, 0.1706],\n",
    "        'Can275': [18.2, 1.65, 0.992, 28.825, 4.452, 45, 0.1699],\n",
    "        'HanQPlus': [18.8, 1.67, 1, 21.767, 6.585, 45,0.1676 ],\n",
    "        'HanQPeak': [18.8, 1.67, 1, 30.536, 5.019, 45, 0.1864],\n",
    "        'MissionSolar': [18.2, 1.664, 0.999, 22.678, 6.352, 44, 0.1881],\n",
    "        'Jinko': [19, 1.65, 0.992, 27.308, 4.946, 45, 0.1720]}\n",
    " \n",
    "# Creates pandas DataFrame.\n",
    "mod_coeffs = pd.DataFrame(mod_data, index=['Mass', 'Length', 'Width', 'U0', 'U1', 'NOCT', 'eta'])\n"
   ]
  },
  {
   "cell_type": "code",
   "execution_count": 36,
   "id": "9466d33e",
   "metadata": {},
   "outputs": [
    {
     "data": {
      "text/html": [
       "<div>\n",
       "<style scoped>\n",
       "    .dataframe tbody tr th:only-of-type {\n",
       "        vertical-align: middle;\n",
       "    }\n",
       "\n",
       "    .dataframe tbody tr th {\n",
       "        vertical-align: top;\n",
       "    }\n",
       "\n",
       "    .dataframe thead th {\n",
       "        text-align: right;\n",
       "    }\n",
       "</style>\n",
       "<table border=\"1\" class=\"dataframe\">\n",
       "  <thead>\n",
       "    <tr style=\"text-align: right;\">\n",
       "      <th></th>\n",
       "      <th>LG</th>\n",
       "      <th>Panasonic</th>\n",
       "      <th>Can270</th>\n",
       "      <th>Can275</th>\n",
       "      <th>HanQPlus</th>\n",
       "      <th>HanQPeak</th>\n",
       "      <th>MissionSolar</th>\n",
       "      <th>Jinko</th>\n",
       "    </tr>\n",
       "  </thead>\n",
       "  <tbody>\n",
       "    <tr>\n",
       "      <th>Mass</th>\n",
       "      <td>18.0000</td>\n",
       "      <td>18.500</td>\n",
       "      <td>18.2000</td>\n",
       "      <td>18.2000</td>\n",
       "      <td>18.8000</td>\n",
       "      <td>18.8000</td>\n",
       "      <td>18.2000</td>\n",
       "      <td>19.000</td>\n",
       "    </tr>\n",
       "    <tr>\n",
       "      <th>Length</th>\n",
       "      <td>1.6860</td>\n",
       "      <td>1.590</td>\n",
       "      <td>1.6500</td>\n",
       "      <td>1.6500</td>\n",
       "      <td>1.6700</td>\n",
       "      <td>1.6700</td>\n",
       "      <td>1.6640</td>\n",
       "      <td>1.650</td>\n",
       "    </tr>\n",
       "    <tr>\n",
       "      <th>Width</th>\n",
       "      <td>1.0160</td>\n",
       "      <td>1.053</td>\n",
       "      <td>0.9920</td>\n",
       "      <td>0.9920</td>\n",
       "      <td>1.0000</td>\n",
       "      <td>1.0000</td>\n",
       "      <td>0.9990</td>\n",
       "      <td>0.992</td>\n",
       "    </tr>\n",
       "    <tr>\n",
       "      <th>U0</th>\n",
       "      <td>24.2290</td>\n",
       "      <td>24.614</td>\n",
       "      <td>31.0880</td>\n",
       "      <td>28.8250</td>\n",
       "      <td>21.7670</td>\n",
       "      <td>30.5360</td>\n",
       "      <td>22.6780</td>\n",
       "      <td>27.308</td>\n",
       "    </tr>\n",
       "    <tr>\n",
       "      <th>U1</th>\n",
       "      <td>7.1820</td>\n",
       "      <td>7.878</td>\n",
       "      <td>4.8650</td>\n",
       "      <td>4.4520</td>\n",
       "      <td>6.5850</td>\n",
       "      <td>5.0190</td>\n",
       "      <td>6.3520</td>\n",
       "      <td>4.946</td>\n",
       "    </tr>\n",
       "    <tr>\n",
       "      <th>NOCT</th>\n",
       "      <td>45.0000</td>\n",
       "      <td>44.000</td>\n",
       "      <td>45.0000</td>\n",
       "      <td>45.0000</td>\n",
       "      <td>45.0000</td>\n",
       "      <td>45.0000</td>\n",
       "      <td>44.0000</td>\n",
       "      <td>45.000</td>\n",
       "    </tr>\n",
       "    <tr>\n",
       "      <th>eta</th>\n",
       "      <td>0.1871</td>\n",
       "      <td>0.195</td>\n",
       "      <td>0.1706</td>\n",
       "      <td>0.1699</td>\n",
       "      <td>0.1676</td>\n",
       "      <td>0.1864</td>\n",
       "      <td>0.1881</td>\n",
       "      <td>0.172</td>\n",
       "    </tr>\n",
       "  </tbody>\n",
       "</table>\n",
       "</div>"
      ],
      "text/plain": [
       "             LG  Panasonic   Can270   Can275  HanQPlus  HanQPeak  \\\n",
       "Mass    18.0000     18.500  18.2000  18.2000   18.8000   18.8000   \n",
       "Length   1.6860      1.590   1.6500   1.6500    1.6700    1.6700   \n",
       "Width    1.0160      1.053   0.9920   0.9920    1.0000    1.0000   \n",
       "U0      24.2290     24.614  31.0880  28.8250   21.7670   30.5360   \n",
       "U1       7.1820      7.878   4.8650   4.4520    6.5850    5.0190   \n",
       "NOCT    45.0000     44.000  45.0000  45.0000   45.0000   45.0000   \n",
       "eta      0.1871      0.195   0.1706   0.1699    0.1676    0.1864   \n",
       "\n",
       "        MissionSolar   Jinko  \n",
       "Mass         18.2000  19.000  \n",
       "Length        1.6640   1.650  \n",
       "Width         0.9990   0.992  \n",
       "U0           22.6780  27.308  \n",
       "U1            6.3520   4.946  \n",
       "NOCT         44.0000  45.000  \n",
       "eta           0.1881   0.172  "
      ]
     },
     "execution_count": 36,
     "metadata": {},
     "output_type": "execute_result"
    }
   ],
   "source": [
    "mod_coeffs"
   ]
  },
  {
   "cell_type": "code",
   "execution_count": 101,
   "id": "97e968ea",
   "metadata": {},
   "outputs": [],
   "source": [
    "#Generate an empty df to store appended results\n",
    "results = []"
   ]
  },
  {
   "cell_type": "code",
   "execution_count": 102,
   "id": "77dbb81d",
   "metadata": {
    "scrolled": true
   },
   "outputs": [
    {
     "name": "stdout",
     "output_type": "stream",
     "text": [
      "Starting Temperature Models\n",
      "SAPM complete\n"
     ]
    },
    {
     "name": "stderr",
     "output_type": "stream",
     "text": [
      "C:\\Users\\lmdevil\\Anaconda3\\envs\\PVModel\\lib\\site-packages\\pvlib\\temperature.py:976: RuntimeWarning: invalid value encountered in true_divide\n",
      "  smoothed = numerator / denominator\n"
     ]
    },
    {
     "name": "stdout",
     "output_type": "stream",
     "text": [
      "Finished LG\n",
      "Starting Temperature Models\n",
      "SAPM complete\n"
     ]
    },
    {
     "name": "stderr",
     "output_type": "stream",
     "text": [
      "C:\\Users\\lmdevil\\Anaconda3\\envs\\PVModel\\lib\\site-packages\\pvlib\\temperature.py:976: RuntimeWarning: invalid value encountered in true_divide\n",
      "  smoothed = numerator / denominator\n"
     ]
    },
    {
     "name": "stdout",
     "output_type": "stream",
     "text": [
      "Finished Panasonic\n",
      "Starting Temperature Models\n",
      "SAPM complete\n"
     ]
    },
    {
     "name": "stderr",
     "output_type": "stream",
     "text": [
      "C:\\Users\\lmdevil\\Anaconda3\\envs\\PVModel\\lib\\site-packages\\pvlib\\temperature.py:976: RuntimeWarning: invalid value encountered in true_divide\n",
      "  smoothed = numerator / denominator\n"
     ]
    },
    {
     "name": "stdout",
     "output_type": "stream",
     "text": [
      "Finished Can270\n",
      "Starting Temperature Models\n",
      "SAPM complete\n"
     ]
    },
    {
     "name": "stderr",
     "output_type": "stream",
     "text": [
      "C:\\Users\\lmdevil\\Anaconda3\\envs\\PVModel\\lib\\site-packages\\pvlib\\temperature.py:976: RuntimeWarning: invalid value encountered in true_divide\n",
      "  smoothed = numerator / denominator\n"
     ]
    },
    {
     "name": "stdout",
     "output_type": "stream",
     "text": [
      "Finished Can275\n",
      "Starting Temperature Models\n",
      "SAPM complete\n"
     ]
    },
    {
     "name": "stderr",
     "output_type": "stream",
     "text": [
      "C:\\Users\\lmdevil\\Anaconda3\\envs\\PVModel\\lib\\site-packages\\pvlib\\temperature.py:976: RuntimeWarning: invalid value encountered in true_divide\n",
      "  smoothed = numerator / denominator\n"
     ]
    },
    {
     "name": "stdout",
     "output_type": "stream",
     "text": [
      "Finished HanQPlus\n",
      "Starting Temperature Models\n",
      "SAPM complete\n"
     ]
    },
    {
     "name": "stderr",
     "output_type": "stream",
     "text": [
      "C:\\Users\\lmdevil\\Anaconda3\\envs\\PVModel\\lib\\site-packages\\pvlib\\temperature.py:976: RuntimeWarning: invalid value encountered in true_divide\n",
      "  smoothed = numerator / denominator\n"
     ]
    },
    {
     "name": "stdout",
     "output_type": "stream",
     "text": [
      "Finished HanQPeak\n",
      "Starting Temperature Models\n",
      "SAPM complete\n"
     ]
    },
    {
     "name": "stderr",
     "output_type": "stream",
     "text": [
      "C:\\Users\\lmdevil\\Anaconda3\\envs\\PVModel\\lib\\site-packages\\pvlib\\temperature.py:976: RuntimeWarning: invalid value encountered in true_divide\n",
      "  smoothed = numerator / denominator\n"
     ]
    },
    {
     "name": "stdout",
     "output_type": "stream",
     "text": [
      "Finished MissionSolar\n",
      "Starting Temperature Models\n",
      "SAPM complete\n"
     ]
    },
    {
     "name": "stderr",
     "output_type": "stream",
     "text": [
      "C:\\Users\\lmdevil\\Anaconda3\\envs\\PVModel\\lib\\site-packages\\pvlib\\temperature.py:976: RuntimeWarning: invalid value encountered in true_divide\n",
      "  smoothed = numerator / denominator\n"
     ]
    },
    {
     "name": "stdout",
     "output_type": "stream",
     "text": [
      "Finished Jinko\n"
     ]
    }
   ],
   "source": [
    "for mod_name in mod_names:    \n",
    "\n",
    "    module = mod_coeffs[mod_name]\n",
    "    start = inputs.index[0]\n",
    "    end = inputs.index[-1]\n",
    "    m_u = (module['Mass'])/((module['Length'])*(module['Width']))  \n",
    "    \n",
    "    mod_inputs = inputs.loc[inputs['System']==mod_name]\n",
    "    mod_inputs = inputs.loc[~inputs.index.duplicated(), :]\n",
    "    daterng_all = pd.date_range(start=start, end=end, freq=\"T\")\n",
    "    mod_inputs = mod_inputs.sort_index().reindex(daterng_all.sort_values(),method= 'pad')\n",
    "\n",
    "   \n",
    "    # -----------------------------------------------------------------------------------------------------------------\n",
    "\n",
    "    print('Starting Temperature Models')\n",
    "    \n",
    "    #sapm_module\n",
    "    temperature_model_parameters = pvlib.temperature.TEMPERATURE_MODEL_PARAMETERS['sapm']['open_rack_glass_polymer']\n",
    "    \n",
    "    mod_sapm = pvlib.temperature.sapm_module(poa_global=mod_inputs['poa_global'], temp_air=mod_inputs['amb_temp'], wind_speed=mod_inputs['wind_speed'],\n",
    "                            a=temperature_model_parameters['a'], b=temperature_model_parameters['b']).to_frame()    \n",
    "    mod_sapm.rename(columns = {0 : 'Modeled Temperature'}, inplace = True)\n",
    "\n",
    "    mod_sapm['Model'] = 'SAPM'\n",
    "    mod_sapm['Mod Temp Str 1'] = mod_inputs['Mod Temp Str 1']\n",
    "    mod_sapm['Mod Temp Str 2'] = mod_inputs['Mod Temp Str 2']\n",
    "    mod_sapm['Mod Temp Str 3'] = mod_inputs['Mod Temp Str 3']\n",
    "    mod_sapm['Mod Temp Str 4'] = mod_inputs['Mod Temp Str 4']\n",
    "    mod_sapm['TmStamp'] = mod_sapm.index\n",
    "    mod_sapm['System'] = mod_name\n",
    "    results.append(mod_sapm)\n",
    "\n",
    "    mod_trans_sapm = pvlib.temperature.prilliman(temp_cell = mod_sapm['Modeled Temperature'], wind_speed=mod_inputs['wind_speed'], unit_mass=m_u, coefficients=np.array([.0046,4.5537e-4,-2.2586e-4,-1.5661e-5])).to_frame()\n",
    "    mod_trans_sapm.rename(columns = {0 : 'Modeled Temperature'}, inplace = True)\n",
    "    mod_trans_sapm['Model'] = 'SAPM - Transient'\n",
    "    mod_trans_sapm['Mod Temp Str 1'] = mod_inputs['Mod Temp Str 1']\n",
    "    mod_trans_sapm['Mod Temp Str 2'] = mod_inputs['Mod Temp Str 2']\n",
    "    mod_trans_sapm['Mod Temp Str 3'] = mod_inputs['Mod Temp Str 3']\n",
    "    mod_trans_sapm['Mod Temp Str 4'] = mod_inputs['Mod Temp Str 4']\n",
    "    mod_trans_sapm['TmStamp'] = mod_trans_sapm.index\n",
    "    mod_trans_sapm['System'] = mod_name\n",
    "    results.append(mod_trans_sapm)\n",
    "    \n",
    "    sapm_cell = pvlib.temperature.sapm_cell(poa_global=mod_inputs['poa_global'], temp_air = mod_inputs['amb_temp']\n",
    "                                            ,wind_speed=mod_inputs['wind_speed'], a=temperature_model_parameters['a'], b=temperature_model_parameters['b'], \n",
    "                                            deltaT = temperature_model_parameters['deltaT']).to_frame()\n",
    "    sapm_cell.rename(columns = {0 : 'Modeled Temperature'}, inplace = True)\n",
    "    sapm_cell['Model'] = 'SAPM Cell'\n",
    "    sapm_cell['Mod Temp Str 1'] = mod_inputs['Mod Temp Str 1']\n",
    "    sapm_cell['Mod Temp Str 2'] = mod_inputs['Mod Temp Str 2']\n",
    "    sapm_cell['Mod Temp Str 3'] = mod_inputs['Mod Temp Str 3']\n",
    "    sapm_cell['Mod Temp Str 4'] = mod_inputs['Mod Temp Str 4']\n",
    "    sapm_cell['TmStamp'] = sapm_cell.index\n",
    "    sapm_cell['System'] = mod_name\n",
    "    results.append(sapm_cell)\n",
    "    \n",
    "    print('SAPM complete')\n",
    "    \n",
    "    # -----------------------------------------------------------------------------------------------------------------\n",
    "    \n",
    "    ross_cell = pvlib.temperature.ross(poa_global=mod_inputs['poa_global'],temp_air = mod_inputs['amb_temp'],noct=module['NOCT']).to_frame()\n",
    "    ross_cell.rename(columns = {0 : 'Modeled Temperature'}, inplace = True)\n",
    "    ross_cell['Model'] = 'Ross Cell'\n",
    "    ross_cell['Mod Temp Str 1'] = mod_inputs['Mod Temp Str 1']\n",
    "    ross_cell['Mod Temp Str 2'] = mod_inputs['Mod Temp Str 2']\n",
    "    ross_cell['Mod Temp Str 3'] = mod_inputs['Mod Temp Str 3']\n",
    "    ross_cell['Mod Temp Str 4'] = mod_inputs['Mod Temp Str 4']\n",
    "    ross_cell['TmStamp'] = ross_cell.index\n",
    "    ross_cell['System'] = mod_name\n",
    "    results.append(ross_cell)\n",
    "    \n",
    "    # -----------------------------------------------------------------------------------------------------------------\n",
    "    \n",
    "    pvsyst_cell = pvlib.temperature.pvsyst_cell(poa_global=mod_inputs['poa_global'], temp_air = mod_inputs['amb_temp'] ,wind_speed=mod_inputs['wind_speed']).to_frame()\n",
    "    pvsyst_cell.rename(columns = {0 : 'Modeled Temperature'}, inplace = True)\n",
    "    pvsyst_cell['Model'] = 'PVSyst Cell'\n",
    "    pvsyst_cell['Mod Temp Str 1'] = mod_inputs['Mod Temp Str 1']\n",
    "    pvsyst_cell['Mod Temp Str 2'] = mod_inputs['Mod Temp Str 2']\n",
    "    pvsyst_cell['Mod Temp Str 3'] = mod_inputs['Mod Temp Str 3']\n",
    "    pvsyst_cell['Mod Temp Str 4'] = mod_inputs['Mod Temp Str 4']\n",
    "    pvsyst_cell['TmStamp'] = pvsyst_cell.index\n",
    "    pvsyst_cell['System'] = mod_name\n",
    "    results.append(pvsyst_cell)\n",
    "                                  \n",
    "    # -----------------------------------------------------------------------------------------------------------------\n",
    "  \n",
    "    sam_cell = pvlib.temperature.noct_sam(poa_global=mod_inputs['poa_global'], temp_air = mod_inputs['amb_temp'] ,wind_speed=mod_inputs['wind_speed'],\n",
    "                                          noct = module['NOCT'], module_efficiency = module['eta']).to_frame()\n",
    "    sam_cell.rename(columns = {0 : 'Modeled Temperature'}, inplace = True)\n",
    "    sam_cell['Model'] = 'NOCT SAM'\n",
    "    sam_cell['Mod Temp Str 1'] = mod_inputs['Mod Temp Str 1']\n",
    "    sam_cell['Mod Temp Str 2'] = mod_inputs['Mod Temp Str 2']\n",
    "    sam_cell['Mod Temp Str 3'] = mod_inputs['Mod Temp Str 3']\n",
    "    sam_cell['Mod Temp Str 4'] = mod_inputs['Mod Temp Str 4']\n",
    "    sam_cell['TmStamp'] = sam_cell.index\n",
    "    sam_cell['System'] = mod_name\n",
    "    results.append(sam_cell)\n",
    "                               \n",
    "    # -----------------------------------------------------------------------------------------------------------------\n",
    "\n",
    "                                  #faiman\n",
    "    temp_faiman = pvlib.temperature.faiman(poa_global=mod_inputs['poa_global'], temp_air=mod_inputs['amb_temp'], wind_speed=mod_inputs['wind_speed'],\n",
    "                           u0=module['U0'], u1=module['U1']).to_frame()\n",
    "    temp_faiman.rename(columns = {0 : 'Modeled Temperature'}, inplace = True)\n",
    "    temp_faiman['Model']='Faiman'\n",
    "    temp_faiman['Mod Temp Str 1'] = mod_inputs['Mod Temp Str 1']\n",
    "    temp_faiman['Mod Temp Str 2'] = mod_inputs['Mod Temp Str 2']\n",
    "    temp_faiman['Mod Temp Str 3'] = mod_inputs['Mod Temp Str 3']\n",
    "    temp_faiman['Mod Temp Str 4'] = mod_inputs['Mod Temp Str 4']\n",
    "    temp_faiman['TmStamp']=temp_faiman.index\n",
    "    temp_faiman['System'] = mod_name\n",
    "    results.append(temp_faiman)\n",
    "    \n",
    "    # -----------------------------------------------------------------------------------------------------------------\n",
    "   \n",
    "    fuentes_temp = pvlib.temperature.fuentes(poa_global=mod_inputs['poa_global'], temp_air=mod_inputs['amb_temp'], \n",
    "               wind_speed=mod_inputs['wind_speed'], noct_installed=module['NOCT'], module_height=2, \n",
    "                              wind_height=10, emissivity=0.84, absorption=0.83, surface_tilt=35, \n",
    "                              module_width=module['Width'], module_length=module['Length']).to_frame()\n",
    "    fuentes_temp.rename(columns = {'tmod' : 'Modeled Temperature'}, inplace = True)\n",
    "    fuentes_temp['Model']='Fuentes'\n",
    "    fuentes_temp['Mod Temp Str 1'] = mod_inputs['Mod Temp Str 1']\n",
    "    fuentes_temp['Mod Temp Str 2'] = mod_inputs['Mod Temp Str 2']\n",
    "    fuentes_temp['Mod Temp Str 3'] = mod_inputs['Mod Temp Str 3']\n",
    "    fuentes_temp['Mod Temp Str 4'] = mod_inputs['Mod Temp Str 4']\n",
    "    fuentes_temp['TmStamp']=fuentes_temp.index\n",
    "    fuentes_temp['System'] = mod_name\n",
    "    results.append(fuentes_temp)\n",
    "    \n",
    "    # -----------------------------------------------------------------------------------------------------------------\n",
    "\n",
    "\n",
    "    print('Finished ' + mod_name)\n",
    "    # -----------------------------------------------------------------------------------------------------------------\n",
    "    del mod_inputs"
   ]
  },
  {
   "cell_type": "code",
   "execution_count": 103,
   "id": "060d60cb",
   "metadata": {},
   "outputs": [],
   "source": [
    "#Concatenate all of the results from every system with every model\n",
    "results = pd.concat(results, ignore_index=True)\n",
    "results.index = results.TmStamp"
   ]
  },
  {
   "cell_type": "code",
   "execution_count": 197,
   "id": "4064f683",
   "metadata": {},
   "outputs": [],
   "source": [
    "sysresults = results.loc[results['System']==system]"
   ]
  },
  {
   "cell_type": "markdown",
   "id": "dc99a805",
   "metadata": {},
   "source": [
    "#### Visualizing Results"
   ]
  },
  {
   "cell_type": "code",
   "execution_count": 198,
   "id": "f3b575ca",
   "metadata": {
    "scrolled": true
   },
   "outputs": [
    {
     "name": "stdout",
     "output_type": "stream",
     "text": [
      "Starting Temperature Models\n"
     ]
    },
    {
     "name": "stderr",
     "output_type": "stream",
     "text": [
      "C:\\Users\\lmdevil\\Anaconda3\\envs\\PVModel\\lib\\site-packages\\pvlib\\temperature.py:976: RuntimeWarning: invalid value encountered in true_divide\n",
      "  smoothed = numerator / denominator\n"
     ]
    },
    {
     "name": "stdout",
     "output_type": "stream",
     "text": [
      "Finished LG\n",
      "Starting Temperature Models\n"
     ]
    },
    {
     "name": "stderr",
     "output_type": "stream",
     "text": [
      "C:\\Users\\lmdevil\\Anaconda3\\envs\\PVModel\\lib\\site-packages\\pvlib\\temperature.py:976: RuntimeWarning: invalid value encountered in true_divide\n",
      "  smoothed = numerator / denominator\n"
     ]
    },
    {
     "name": "stdout",
     "output_type": "stream",
     "text": [
      "Finished Panasonic\n",
      "Starting Temperature Models\n"
     ]
    },
    {
     "name": "stderr",
     "output_type": "stream",
     "text": [
      "C:\\Users\\lmdevil\\Anaconda3\\envs\\PVModel\\lib\\site-packages\\pvlib\\temperature.py:976: RuntimeWarning: invalid value encountered in true_divide\n",
      "  smoothed = numerator / denominator\n"
     ]
    },
    {
     "name": "stdout",
     "output_type": "stream",
     "text": [
      "Finished Can270\n",
      "Starting Temperature Models\n"
     ]
    },
    {
     "name": "stderr",
     "output_type": "stream",
     "text": [
      "C:\\Users\\lmdevil\\Anaconda3\\envs\\PVModel\\lib\\site-packages\\pvlib\\temperature.py:976: RuntimeWarning: invalid value encountered in true_divide\n",
      "  smoothed = numerator / denominator\n"
     ]
    },
    {
     "name": "stdout",
     "output_type": "stream",
     "text": [
      "Finished Can275\n",
      "Starting Temperature Models\n"
     ]
    },
    {
     "name": "stderr",
     "output_type": "stream",
     "text": [
      "C:\\Users\\lmdevil\\Anaconda3\\envs\\PVModel\\lib\\site-packages\\pvlib\\temperature.py:976: RuntimeWarning: invalid value encountered in true_divide\n",
      "  smoothed = numerator / denominator\n"
     ]
    },
    {
     "name": "stdout",
     "output_type": "stream",
     "text": [
      "Finished HanQPlus\n",
      "Starting Temperature Models\n"
     ]
    },
    {
     "name": "stderr",
     "output_type": "stream",
     "text": [
      "C:\\Users\\lmdevil\\Anaconda3\\envs\\PVModel\\lib\\site-packages\\pvlib\\temperature.py:976: RuntimeWarning: invalid value encountered in true_divide\n",
      "  smoothed = numerator / denominator\n"
     ]
    },
    {
     "name": "stdout",
     "output_type": "stream",
     "text": [
      "Finished HanQPeak\n",
      "Starting Temperature Models\n"
     ]
    },
    {
     "name": "stderr",
     "output_type": "stream",
     "text": [
      "C:\\Users\\lmdevil\\Anaconda3\\envs\\PVModel\\lib\\site-packages\\pvlib\\temperature.py:976: RuntimeWarning: invalid value encountered in true_divide\n",
      "  smoothed = numerator / denominator\n"
     ]
    },
    {
     "name": "stdout",
     "output_type": "stream",
     "text": [
      "Finished MissionSolar\n",
      "Starting Temperature Models\n"
     ]
    },
    {
     "name": "stderr",
     "output_type": "stream",
     "text": [
      "C:\\Users\\lmdevil\\Anaconda3\\envs\\PVModel\\lib\\site-packages\\pvlib\\temperature.py:976: RuntimeWarning: invalid value encountered in true_divide\n",
      "  smoothed = numerator / denominator\n"
     ]
    },
    {
     "name": "stdout",
     "output_type": "stream",
     "text": [
      "Finished Jinko\n"
     ]
    }
   ],
   "source": [
    "#creating results horizontally to be able to take mean/median/min/max etc\n",
    "#pick a system to focus on\n",
    "system = 'MissionSolar'\n",
    "sysresults = results.loc[results['System']==system]\n",
    "\n",
    "final = inputs.loc[inputs['System']== system]\n",
    "final = inputs.loc[~inputs.index.duplicated(), :]\n",
    "daterng_all = pd.date_range(start=start, end=end, freq=\"T\")\n",
    "final = final.sort_index().reindex(daterng_all.sort_values(),method= 'pad')\n",
    "\n",
    "for mod_name in mod_names:    \n",
    "\n",
    "    module = mod_coeffs[mod_name]\n",
    "    start = start\n",
    "    end = end\n",
    "    m_u = (module['Mass'])/((module['Length'])*(module['Width']))  \n",
    "    \n",
    "    mod_inputs = inputs.loc[inputs['System']==mod_name]\n",
    "    mod_inputs = inputs.loc[~inputs.index.duplicated(), :]\n",
    "    daterng_all = pd.date_range(start=start, end=end, freq=\"T\")\n",
    "    mod_inputs = mod_inputs.sort_index().reindex(daterng_all.sort_values(),method= 'pad')\n",
    "\n",
    "   \n",
    "    # -----------------------------------------------------------------------------------------------------------------\n",
    "\n",
    "    print('Starting Temperature Models')\n",
    "    \n",
    "    #sapm_module\n",
    "    temperature_model_parameters = pvlib.temperature.TEMPERATURE_MODEL_PARAMETERS['sapm']['open_rack_glass_polymer']\n",
    "    \n",
    "    final[mod_name + ' SAPM'] = pvlib.temperature.sapm_module(poa_global=mod_inputs['poa_global'], temp_air=mod_inputs['amb_temp'], wind_speed=mod_inputs['wind_speed'],\n",
    "                            a=temperature_model_parameters['a'], b=temperature_model_parameters['b']) \n",
    "   \n",
    "\n",
    "    final[mod_name + ' SAPM - Transient'] = pvlib.temperature.prilliman(temp_cell = mod_sapm['Modeled Temperature'], wind_speed=mod_inputs['wind_speed'], \n",
    "                                                                        unit_mass=m_u, coefficients=np.array([.0046,4.5537e-4,-2.2586e-4,-1.5661e-5]))\n",
    "   \n",
    "    final[mod_name + ' SAPM Cell'] = pvlib.temperature.sapm_cell(poa_global=mod_inputs['poa_global'], temp_air = mod_inputs['amb_temp']\n",
    "                                            ,wind_speed=mod_inputs['wind_speed'], a=temperature_model_parameters['a'], b=temperature_model_parameters['b'], \n",
    "                                            deltaT = temperature_model_parameters['deltaT'])\n",
    "\n",
    "    # -----------------------------------------------------------------------------------------------------------------\n",
    "    \n",
    "    final[mod_name + ' Ross Cell'] = pvlib.temperature.ross(poa_global=mod_inputs['poa_global'],temp_air = mod_inputs['amb_temp'],noct=module['NOCT'])\n",
    "   \n",
    "    # -----------------------------------------------------------------------------------------------------------------\n",
    "    \n",
    "    final[mod_name + ' PVSyst Cell'] = pvlib.temperature.pvsyst_cell(poa_global=mod_inputs['poa_global'], temp_air = mod_inputs['amb_temp'] ,wind_speed=mod_inputs['wind_speed']).to_frame()\n",
    " \n",
    "    # -----------------------------------------------------------------------------------------------------------------\n",
    "  \n",
    "    final[mod_name + ' NOCT SAM'] = pvlib.temperature.noct_sam(poa_global=mod_inputs['poa_global'], temp_air = mod_inputs['amb_temp'] ,wind_speed=mod_inputs['wind_speed'],\n",
    "                                          noct = module['NOCT'], module_efficiency = module['eta'])\n",
    " \n",
    "    # -----------------------------------------------------------------------------------------------------------------\n",
    "\n",
    "    final[mod_name + ' Faiman'] = pvlib.temperature.faiman(poa_global=mod_inputs['poa_global'], temp_air=mod_inputs['amb_temp'], wind_speed=mod_inputs['wind_speed'],\n",
    "                           u0=module['U0'], u1=module['U1'])\n",
    "\n",
    "    # -----------------------------------------------------------------------------------------------------------------\n",
    "   \n",
    "    final[mod_name + ' Fuentes'] = pvlib.temperature.fuentes(poa_global=mod_inputs['poa_global'], temp_air=mod_inputs['amb_temp'], \n",
    "               wind_speed=mod_inputs['wind_speed'], noct_installed=module['NOCT'], module_height=2, \n",
    "                              wind_height=10, emissivity=0.84, absorption=0.83, surface_tilt=35, \n",
    "                              module_width=module['Width'], module_length=module['Length'])\n",
    "  \n",
    "    # -----------------------------------------------------------------------------------------------------------------\n",
    "    print('Finished ' + mod_name)\n",
    "    # -----------------------------------------------------------------------------------------------------------------\n",
    "    del mod_inputs"
   ]
  },
  {
   "cell_type": "code",
   "execution_count": 199,
   "id": "46cf0113",
   "metadata": {},
   "outputs": [],
   "source": [
    "#find the minimum and maximum measured temperature at each timestep\n",
    "\n",
    "mod_temps['Min Measured Temp'] = mod_temps[['LGMod Temp Str 1', 'LGMod Temp Str 2', 'LGMod Temp Str 3','LGMod Temp Str 4', 'PanasonicMod Temp Str 1','PanasonicMod Temp Str 2', 'PanasonicMod Temp Str 3','PanasonicMod Temp Str 4', 'Can270Mod Temp Str 1','Can270Mod Temp Str 4', 'Can275Mod Temp Str 1', 'Can275Mod Temp Str 4','HanQPlusMod Temp Str 2', 'HanQPlusMod Temp Str 3','HanQPeakMod Temp Str 2', 'HanQPeakMod Temp Str 3','MissionSolarMod Temp Str 1', 'MissionSolarMod Temp Str 2','MissionSolarMod Temp Str 3', 'MissionSolarMod Temp Str 4',\n",
    "       'JinkoMod Temp Str 1', 'JinkoMod Temp Str 2', 'JinkoMod Temp Str 3','JinkoMod Temp Str 4']].min(axis=1)\n",
    "mod_temps['Max Measured Temp'] = mod_temps[['LGMod Temp Str 1', 'LGMod Temp Str 2', 'LGMod Temp Str 3','LGMod Temp Str 4', 'PanasonicMod Temp Str 1','PanasonicMod Temp Str 2', 'PanasonicMod Temp Str 3','PanasonicMod Temp Str 4', 'Can270Mod Temp Str 1','Can270Mod Temp Str 4', 'Can275Mod Temp Str 1', 'Can275Mod Temp Str 4','HanQPlusMod Temp Str 2', 'HanQPlusMod Temp Str 3','HanQPeakMod Temp Str 2', 'HanQPeakMod Temp Str 3','MissionSolarMod Temp Str 1', 'MissionSolarMod Temp Str 2','MissionSolarMod Temp Str 3', 'MissionSolarMod Temp Str 4',\n",
    "       'JinkoMod Temp Str 1', 'JinkoMod Temp Str 2', 'JinkoMod Temp Str 3','JinkoMod Temp Str 4']].max(axis=1)"
   ]
  },
  {
   "cell_type": "code",
   "execution_count": 200,
   "id": "8b66469a",
   "metadata": {},
   "outputs": [],
   "source": [
    "#finding mean and median of models interested in plotting, can specify 3 below\n",
    "\n",
    "model1 = 'SAPM Cell'\n",
    "model2 = 'Ross Cell'\n",
    "model3 = 'PVSyst Cell'\n",
    "\n",
    "final['Mean'] = final[['LG '+model1, 'LG '+model2, 'LG '+model3,'Panasonic '+model1, 'Panasonic '+model2, 'Panasonic '+model3,'Can270 '+model1, 'Can270 '+model2, 'Can270 '+model3,'Can275 '+model1, 'Can275 '+model2, 'Can275 '+model3,\n",
    "                       'HanQPlus '+model1, 'HanQPlus '+model2, 'HanQPlus '+model3,'HanQPeak '+model1, 'HanQPeak '+model2, 'HanQPeak '+model3,'MissionSolar '+model1, 'MissionSolar '+model2, 'MissionSolar '+model3,'Jinko '+model1, 'Jinko '+model2, 'Jinko '+model3]].mean(axis=1)\n",
    "final['Median'] = final[['LG '+model1, 'LG '+model2, 'LG '+model3,'Panasonic '+model1, 'Panasonic '+model2, 'Panasonic '+model3,'Can270 '+model1, 'Can270 '+model2, 'Can270 '+model3,'Can275 '+model1, 'Can275 '+model2, 'Can275 '+model3,\n",
    "                       'HanQPlus '+model1, 'HanQPlus '+model2, 'HanQPlus '+model3,'HanQPeak '+model1, 'HanQPeak '+model2, 'HanQPeak '+model3,'MissionSolar '+model1, 'MissionSolar '+model2, 'MissionSolar '+model3,'Jinko '+model1, 'Jinko '+model2, 'Jinko '+model3]].median(axis=1)"
   ]
  },
  {
   "cell_type": "code",
   "execution_count": 216,
   "id": "659aa44c",
   "metadata": {},
   "outputs": [
    {
     "data": {
      "text/plain": [
       "<matplotlib.legend.Legend at 0x17937d0c970>"
      ]
     },
     "execution_count": 216,
     "metadata": {},
     "output_type": "execute_result"
    },
    {
     "data": {
      "image/png": "[encoded data removed]",
      "text/plain": [
       "<Figure size 864x504 with 1 Axes>"
      ]
     },
     "metadata": {},
     "output_type": "display_data"
    }
   ],
   "source": [
    "\n",
    "#this model is arbitrary, just need the index\n",
    "modresults = sysresults.loc[sysresults['Model']=='SAPM']\n",
    "x = modresults['TmStamp']\n",
    "lower = mod_temps['Min Measured Temp']\n",
    "upper = mod_temps['Max Measured Temp']\n",
    "\n",
    "y = sysresults['Modeled Temperature'].loc[sysresults['Model']==model1]\n",
    "plt.plot(x, y, 'yellow')\n",
    "y = sysresults['Modeled Temperature'].loc[sysresults['Model']==model2]\n",
    "plt.plot(x, y, 'g')\n",
    "y = sysresults['Modeled Temperature'].loc[sysresults['Model']==model3]\n",
    "plt.plot(x, y, 'b')\n",
    "\n",
    "plt.xticks(rotation=30, ha='right')\n",
    "\n",
    "y=final['Mean']\n",
    "plt.plot(x, y, 'k:', linewidth=2.5)\n",
    "\n",
    "plt.fill_between(x, lower, upper, color='lightgray')\n",
    "\n",
    "\n",
    "plt.xlim('2021-11-01 04:00:00-07:00','2021-11-02 19:00:00-07:00')\n",
    "plt.ylabel('Module Temperature (degC)')\n",
    "plt.xlabel('Time')\n",
    "plt.title(system)\n",
    "\n",
    "\n",
    "# manually format legend\n",
    "meas = mpatches.Patch(color='lightgrey', label='Meas Temp Range')\n",
    "mdl1 = mpatches.Patch(color='yellow', label=model1)\n",
    "mdl2 = mpatches.Patch(color='g', label=model2)\n",
    "mdl3 = mpatches.Patch(color='b', label=model3)\n",
    "means = mpatches.Patch(color='black', label='Mean')\n",
    "handles = [meas,mdl1,mdl2,mdl3,means] \n",
    "# plot the legend\n",
    "plt.legend(handles=handles, loc='center left', bbox_to_anchor=(1.1, 0.75))\n",
    "\n",
    "\n"
   ]
  },
  {
   "cell_type": "code",
   "execution_count": 202,
   "id": "52b7151b",
   "metadata": {
    "scrolled": true
   },
   "outputs": [
    {
     "name": "stderr",
     "output_type": "stream",
     "text": [
      "C:\\Users\\lmdevil\\AppData\\Local\\Temp\\ipykernel_11616\\18410316.py:5: SettingWithCopyWarning: \n",
      "A value is trying to be set on a copy of a slice from a DataFrame.\n",
      "Try using .loc[row_indexer,col_indexer] = value instead\n",
      "\n",
      "See the caveats in the documentation: https://pandas.pydata.org/pandas-docs/stable/user_guide/indexing.html#returning-a-view-versus-a-copy\n",
      "  sysresults['Diff ' + string] = (sysresults['Modeled Temperature'] - sysresults[string])\n",
      "C:\\Users\\lmdevil\\AppData\\Local\\Temp\\ipykernel_11616\\18410316.py:5: SettingWithCopyWarning: \n",
      "A value is trying to be set on a copy of a slice from a DataFrame.\n",
      "Try using .loc[row_indexer,col_indexer] = value instead\n",
      "\n",
      "See the caveats in the documentation: https://pandas.pydata.org/pandas-docs/stable/user_guide/indexing.html#returning-a-view-versus-a-copy\n",
      "  sysresults['Diff ' + string] = (sysresults['Modeled Temperature'] - sysresults[string])\n",
      "C:\\Users\\lmdevil\\AppData\\Local\\Temp\\ipykernel_11616\\18410316.py:5: SettingWithCopyWarning: \n",
      "A value is trying to be set on a copy of a slice from a DataFrame.\n",
      "Try using .loc[row_indexer,col_indexer] = value instead\n",
      "\n",
      "See the caveats in the documentation: https://pandas.pydata.org/pandas-docs/stable/user_guide/indexing.html#returning-a-view-versus-a-copy\n",
      "  sysresults['Diff ' + string] = (sysresults['Modeled Temperature'] - sysresults[string])\n",
      "C:\\Users\\lmdevil\\AppData\\Local\\Temp\\ipykernel_11616\\18410316.py:5: SettingWithCopyWarning: \n",
      "A value is trying to be set on a copy of a slice from a DataFrame.\n",
      "Try using .loc[row_indexer,col_indexer] = value instead\n",
      "\n",
      "See the caveats in the documentation: https://pandas.pydata.org/pandas-docs/stable/user_guide/indexing.html#returning-a-view-versus-a-copy\n",
      "  sysresults['Diff ' + string] = (sysresults['Modeled Temperature'] - sysresults[string])\n",
      "C:\\Users\\lmdevil\\AppData\\Local\\Temp\\ipykernel_11616\\18410316.py:12: SettingWithCopyWarning: \n",
      "A value is trying to be set on a copy of a slice from a DataFrame.\n",
      "Try using .loc[row_indexer,col_indexer] = value instead\n",
      "\n",
      "See the caveats in the documentation: https://pandas.pydata.org/pandas-docs/stable/user_guide/indexing.html#returning-a-view-versus-a-copy\n",
      "  sysresults['MBE'] = (sysresults['Diff Mod Temp Str 1'] + sysresults['Diff Mod Temp Str 2'] + sysresults['Diff Mod Temp Str 3'] + sysresults['Diff Mod Temp Str 4'])/4\n",
      "C:\\Users\\lmdevil\\AppData\\Local\\Temp\\ipykernel_11616\\18410316.py:19: SettingWithCopyWarning: \n",
      "A value is trying to be set on a copy of a slice from a DataFrame.\n",
      "Try using .loc[row_indexer,col_indexer] = value instead\n",
      "\n",
      "See the caveats in the documentation: https://pandas.pydata.org/pandas-docs/stable/user_guide/indexing.html#returning-a-view-versus-a-copy\n",
      "  sysresults['RMSE'] = (((sysresults['Modeled Temperature'] - sysresults['Mod Temp Str 1'])**2 + (sysresults['Modeled Temperature'] - sysresults['Mod Temp Str 2'])**2\n"
     ]
    }
   ],
   "source": [
    "#Calculate NMBE, MAPE, RMSE\n",
    "strings = ['Mod Temp Str 1','Mod Temp Str 2','Mod Temp Str 3','Mod Temp Str 4']\n",
    "\n",
    "for string in strings:\n",
    "       sysresults['Diff ' + string] = (sysresults['Modeled Temperature'] - sysresults[string]) \n",
    "        \n",
    "all_rtd = ['LG', 'Panasonic', 'MissionSolar', 'Jinko']\n",
    "twth_rtd = ['HanQPlus', 'HanQPeak']\n",
    "onfo_rtd = ['Can 270', 'Can275']\n",
    "    \n",
    "if system in all_rtd: \n",
    "    sysresults['MBE'] = (sysresults['Diff Mod Temp Str 1'] + sysresults['Diff Mod Temp Str 2'] + sysresults['Diff Mod Temp Str 3'] + sysresults['Diff Mod Temp Str 4'])/4\n",
    "elif system in twth_rtd:\n",
    "    sysresults['MBE'] = (sysresults['Diff Mod Temp Str 2'] + sysresults['Diff Mod Temp Str 3'])/2\n",
    "else:\n",
    "    sysresults['MBE'] = (sysresults['Diff Mod Temp Str 1'] + sysresults['Diff Mod Temp Str 4'])/2\n",
    "    \n",
    "if system in all_rtd: \n",
    "    sysresults['RMSE'] = (((sysresults['Modeled Temperature'] - sysresults['Mod Temp Str 1'])**2 + (sysresults['Modeled Temperature'] - sysresults['Mod Temp Str 2'])**2\n",
    "                            + (sysresults['Modeled Temperature'] - sysresults['Mod Temp Str 3'])**2 + (sysresults['Modeled Temperature'] - sysresults['Mod Temp Str 4'])**2)/4)**0.5\n",
    "elif system in twth_rtd:\n",
    "    sysresults['RMSE'] = (((sysresults['Modeled Temperature'] - sysresults['Mod Temp Str 2'])**2 + (sysresults['Modeled Temperature'] - sysresults['Mod Temp Str 3'])**2)/2)**0.5\n",
    "else:\n",
    "    sysresults['RMSE'] = (((sysresults['Modeled Temperature'] - sysresults['Mod Temp Str 1'])**2 + (sysresults['Modeled Temperature'] - sysresults['Mod Temp Str 4'])**2)/2)**0.5\n",
    "    \n"
   ]
  },
  {
   "cell_type": "code",
   "execution_count": 217,
   "id": "0fd449ef",
   "metadata": {},
   "outputs": [
    {
     "data": {
      "text/plain": [
       "Text(0.5, 1.0, 'MBE & RMSE for MissionSolar System')"
      ]
     },
     "execution_count": 217,
     "metadata": {},
     "output_type": "execute_result"
    },
    {
     "data": {
      "image/png": "[encoded data removed]",
      "text/plain": [
       "<Figure size 864x504 with 1 Axes>"
      ]
     },
     "metadata": {},
     "output_type": "display_data"
    }
   ],
   "source": [
    "#Calculating RMSE/MAPE/\n",
    "#need a df with no NaNs first\n",
    "models = [model1,model2,model3]\n",
    "\n",
    "\n",
    "X = np.arange(2)\n",
    "fig = plt.figure()\n",
    "ax = fig.add_axes([0,0,1,1])\n",
    "ax.bar(X + 0.00, sysresults.loc[sysresults['Model']==model1].iloc[:,[-2,-1]].mean(), color = 'yellow', width = 0.25)\n",
    "ax.bar(X + 0.25, sysresults.loc[sysresults['Model']==model2].iloc[:,[-2,-1]].mean(), color = 'g', width = 0.25)\n",
    "ax.bar(X + 0.50, sysresults.loc[sysresults['Model']==model3].iloc[:,[-2,-1]].mean(), color = 'b', width = 0.25)\n",
    "ax.legend([model1,model2,model3] ,loc='center left', bbox_to_anchor=(1.1, 0.75))\n",
    "ax.set_xticks([0.25, 1.25])\n",
    "ax.set_xticklabels(['MBE', 'RMSE'], rotation=65)\n",
    "ax.set_ylabel('deg C')\n",
    "ax.set_title('MBE & RMSE for '+system+' System')\n",
    "\n",
    "\n"
   ]
  },
  {
   "cell_type": "code",
   "execution_count": null,
   "id": "e221722d",
   "metadata": {},
   "outputs": [],
   "source": []
  }
 ],
 "metadata": {
  "kernelspec": {
   "display_name": "PVModel",
   "language": "python",
   "name": "pvmodel"
  },
  "language_info": {
   "codemirror_mode": {
    "name": "ipython",
    "version": 3
   },
   "file_extension": ".py",
   "mimetype": "text/x-python",
   "name": "python",
   "nbconvert_exporter": "python",
   "pygments_lexer": "ipython3",
   "version": "3.8.13"
  }
 },
 "nbformat": 4,
 "nbformat_minor": 5
}
