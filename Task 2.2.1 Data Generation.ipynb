{
 "cells": [
  {
   "cell_type": "markdown",
   "id": "b5e458eb",
   "metadata": {},
   "source": [
    "## This notebook generates a csv of data containing measured module temperature values and other input values necessary to run a temperature model\n",
    "#### These inputs include global POA, air temperature, and wind speed"
   ]
  },
  {
   "cell_type": "code",
   "execution_count": 1,
   "id": "0c62703c",
   "metadata": {},
   "outputs": [],
   "source": [
    "%run PVModel_functions.ipynb"
   ]
  },
  {
   "cell_type": "code",
   "execution_count": 2,
   "id": "51e76938",
   "metadata": {},
   "outputs": [],
   "source": [
    "#This cell imports all the necessary packages & module data\n",
    "import pandas as pd \n",
    "import numpy as np\n",
    "import matplotlib as mpl\n",
    "import matplotlib.pyplot as plt\n",
    "import seaborn as sns\n",
    "\n",
    "\n",
    "import datatools\n",
    "import datetime\n",
    "import pvlib\n",
    "import pvanalytics\n",
    "import math\n",
    "import pvpltools\n",
    "import scipy\n",
    "import sklearn\n",
    "import statistics\n",
    "\n",
    "from datetime import datetime\n",
    "from pvlib import pvsystem\n",
    "from time import time\n",
    "from sklearn.metrics import r2_score\n",
    "from pvpltools import iec61853\n",
    "from pvpltools.module_efficiency import adr, heydenreich, motherpv, pvgis, mpm5, mpm6, bilinear\n",
    "from pvpltools.module_efficiency import fit_efficiency_model, fit_bilinear\n",
    "from pvlib.location import Location\n",
    "from pandas.plotting import register_matplotlib_converters\n",
    "register_matplotlib_converters()\n",
    "\n",
    "%matplotlib inline \n",
    "mpl.rcParams['font.size']=12\n",
    "mpl.rcParams['lines.linewidth']=1\n",
    "mpl.rcParams['xtick.labelsize']=10\n",
    "#mpl.rcParams['font.weight']='bold'\n",
    "mpl.rcParams['axes.titlesize']=22\n",
    "sns.set(rc={'figure.figsize':(12,7)})\n",
    "sns.set_style('whitegrid')"
   ]
  },
  {
   "cell_type": "code",
   "execution_count": 3,
   "id": "86db9297",
   "metadata": {},
   "outputs": [],
   "source": [
    "#identify module names and the correct database for met data\n",
    "mod_names = 'LG', 'Panasonic', 'Can270', 'Can275', 'HanQPlus', 'HanQPeak', 'MissionSolar', 'Jinko'\n",
    "mettablename = 'dbo.SNLA_Met_DataOut'\n",
    "#Generate an empty df to store appended results\n",
    "datagen = []"
   ]
  },
  {
   "cell_type": "code",
   "execution_count": 6,
   "id": "fd82bef3",
   "metadata": {},
   "outputs": [
    {
     "name": "stdout",
     "output_type": "stream",
     "text": [
      "Starting Data Accumulation for LG\n",
      "Done with LG\n",
      "Starting Data Accumulation for Panasonic\n",
      "Done with Panasonic\n",
      "Starting Data Accumulation for Can270\n",
      "Done with Can270\n",
      "Starting Data Accumulation for Can275\n",
      "Done with Can275\n",
      "Starting Data Accumulation for HanQPlus\n",
      "Done with HanQPlus\n",
      "Starting Data Accumulation for HanQPeak\n",
      "Done with HanQPeak\n",
      "Starting Data Accumulation for MissionSolar\n",
      "Done with MissionSolar\n",
      "Starting Data Accumulation for Jinko\n",
      "Done with Jinko\n"
     ]
    }
   ],
   "source": [
    "for mod_name in mod_names:    \n",
    "\n",
    "    #Reads in an excel file of all necessary module coefficients, string lengths, system dates, etc\n",
    "    mod_info = pd.read_excel('module_coefficients_bhk.xlsx')\n",
    "    mod_info.index = mod_info['Manufacturer']\n",
    "    del mod_info['Manufacturer']\n",
    "    #defines the specific module given the previous user input and module coefficients file\n",
    "    module = mod_info[mod_name]\n",
    "    systablename = module['table_name']\n",
    "    start = module['start']\n",
    "    end = module['end']\n",
    "    \n",
    "    # -----------------------------------------------------------------------------------------------------------------\n",
    "    \n",
    "    #Import sys & met databases & merge into one df\n",
    "    df = sys_met_data(mettablename, systablename, start, end)\n",
    "    \n",
    "    # -----------------------------------------------------------------------------------------------------------------\n",
    "    \n",
    "    #Calculate Solar Positions & Extraterrestrial DNI\n",
    "\n",
    "    #inputs into this cell: pressure(mBar), time, latitude, longitude, amb temp, altitude\n",
    "    #outputs of this cell: pressure(Pa), elevation, azimuth, zenith, apparent elevation, apparent zenith, dni extra\n",
    "\n",
    "    pres = df['Pressure_mBar_Avg']*100\n",
    "    sdf = pvlib.solarposition.get_solarposition(time=df.index, latitude=module['latitude'], \n",
    "            longitude=module['longitude'],temperature=df['Temp_C_Avg'], altitude=module['altitude'])\n",
    "    sdf['dni_extra'] = pvlib.irradiance.get_extra_radiation(datetime_or_doy=df.index)\n",
    "    \n",
    "    # -----------------------------------------------------------------------------------------------------------------\n",
    "    \n",
    "    #Calculate Environmental Conditions\n",
    "\n",
    "    #inputs into this cell: module tilt, module azimuth, solar zenith, solar azimuth, DNI, DHI, GHI, DNI extra, \n",
    "    #                       transposition model\n",
    "    #outputs of this cell: poa global, poa direct, poa diffuse, poa sky diffuse, poa ground diffuse\n",
    "\n",
    "    edf = pvlib.irradiance.get_total_irradiance(surface_tilt=module['tilt'], surface_azimuth=module['surface_azimuth'], \n",
    "            solar_zenith=sdf['apparent_zenith'], solar_azimuth=sdf['azimuth'],dni=df['Direct_Wm2_Avg'],\n",
    "            ghi=df['Global_Wm2_Avg'], dhi=df['Diffuse_Wm2_Avg'], dni_extra=sdf['dni_extra'], model ='haydavies')\n",
    "    df['poa_global'] = edf['poa_global']\n",
    "    \n",
    "    # -----------------------------------------------------------------------------------------------------------------\n",
    "    \n",
    "    #Filters\n",
    "    df = simple_filter(sys=df, variable='Temp_C_Avg', lower=-10, upper=40, apply=True)\n",
    "    df = simple_filter(sys=df, variable='poa_global', lower=50, upper=1200, apply=True)\n",
    "\n",
    "    # -----------------------------------------------------------------------------------------------------------------\n",
    "\n",
    "    print('Starting Data Accumulation for ' + mod_name)\n",
    "\n",
    "    all_rtd = ['LG', 'Panasonic', 'MissionSolar', 'Jinko']\n",
    "    twth_rtd = ['HanQPlus', 'HanQPeak']\n",
    "    onfo_rtd = ['Can 270', 'Can275']\n",
    "    \n",
    "    if mod_name in all_rtd:\n",
    "        inputs = df['poa_global'].to_frame()\n",
    "        inputs['amb_temp'] = df['Temp_C_Avg']\n",
    "        inputs['wind_speed'] = df['WS_ms_Mean']\n",
    "        inputs['Mod Temp Str 1'] = df[module['str_1_rtd']]\n",
    "        inputs['Mod Temp Str 2'] = df[module['str_2_rtd']]\n",
    "        inputs['Mod Temp Str 3'] = df[module['str_3_rtd']]\n",
    "        inputs['Mod Temp Str 4'] = df[module['str_4_rtd']]\n",
    "        inputs['System'] = mod_name\n",
    "        inputs['Time'] = df.index\n",
    "        inputs = inputs.loc[~inputs.index.duplicated(), :]\n",
    "\n",
    "        daterng_all = pd.date_range(start=start, end=end, freq=\"T\")\n",
    "        inputs = inputs.reindex(daterng_all,method= 'pad')\n",
    "        datagen.append(inputs)\n",
    "        \n",
    "    elif mod_name in twth_rtd:   \n",
    "        inputs = df['poa_global'].to_frame()\n",
    "        inputs['amb_temp'] = df['Temp_C_Avg']\n",
    "        inputs['wind_speed'] = df['WS_ms_Mean']\n",
    "        inputs['Mod Temp Str 1'] = np.nan\n",
    "        inputs['Mod Temp Str 2'] = df[module['str_2_rtd']]\n",
    "        inputs['Mod Temp Str 3'] = df[module['str_3_rtd']]\n",
    "        inputs['Mod Temp Str 4'] = np.nan\n",
    "        inputs['System'] = mod_name\n",
    "        inputs['Time'] = df.index\n",
    "        inputs = inputs.loc[~inputs.index.duplicated(), :]\n",
    "\n",
    "        daterng_all = pd.date_range(start=start, end=end, freq=\"T\")\n",
    "        inputs = inputs.reindex(daterng_all,method= 'pad')\n",
    "        datagen.append(inputs)\n",
    "        \n",
    "    else:    \n",
    "        inputs = df['poa_global'].to_frame()\n",
    "        inputs['amb_temp'] = df['Temp_C_Avg']\n",
    "        inputs['wind_speed'] = df['WS_ms_Mean']\n",
    "        inputs['Mod Temp Str 1'] = df[module['str_1_rtd']]\n",
    "        inputs['Mod Temp Str 2'] = np.nan\n",
    "        inputs['Mod Temp Str 3'] = np.nan\n",
    "        inputs['Mod Temp Str 4'] = df[module['str_4_rtd']]\n",
    "        inputs['System'] = mod_name\n",
    "        inputs['Time'] = df.index\n",
    "        inputs = inputs.loc[~inputs.index.duplicated(), :]\n",
    "\n",
    "        daterng_all = pd.date_range(start=start, end=end, freq=\"T\")\n",
    "        inputs = inputs.reindex(daterng_all,method= 'pad')\n",
    "        datagen.append(inputs)\n",
    "        \n",
    "    # -----------------------------------------------------------------------------------------------------------------\n",
    "\n",
    "        \n",
    "    print('Done with ' + mod_name)"
   ]
  },
  {
   "cell_type": "code",
   "execution_count": 7,
   "id": "204f2c1f",
   "metadata": {},
   "outputs": [],
   "source": [
    "datagen_df = pd.concat(datagen, ignore_index=True)\n",
    "datagen_df.index = datagen_df.Time"
   ]
  },
  {
   "cell_type": "code",
   "execution_count": null,
   "id": "bd878eb0",
   "metadata": {},
   "outputs": [],
   "source": [
    "datagen_df.to_csv('datagen.csv')"
   ]
  },
  {
   "cell_type": "code",
   "execution_count": 12,
   "id": "c4958a05",
   "metadata": {},
   "outputs": [
    {
     "data": {
      "text/plain": [
       "Index(['poa_global', 'amb_temp', 'wind_speed', 'Mod Temp Str 1',\n",
       "       'Mod Temp Str 2', 'Mod Temp Str 3', 'Mod Temp Str 4', 'System', 'Time'],\n",
       "      dtype='object')"
      ]
     },
     "execution_count": 12,
     "metadata": {},
     "output_type": "execute_result"
    }
   ],
   "source": [
    "datagen_df.columns"
   ]
  }
 ],
 "metadata": {
  "kernelspec": {
   "display_name": "PVModel",
   "language": "python",
   "name": "pvmodel"
  },
  "language_info": {
   "codemirror_mode": {
    "name": "ipython",
    "version": 3
   },
   "file_extension": ".py",
   "mimetype": "text/x-python",
   "name": "python",
   "nbconvert_exporter": "python",
   "pygments_lexer": "ipython3",
   "version": "3.8.13"
  }
 },
 "nbformat": 4,
 "nbformat_minor": 5
}
