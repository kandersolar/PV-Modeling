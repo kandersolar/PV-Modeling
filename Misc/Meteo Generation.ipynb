{
 "cells": [
  {
   "cell_type": "code",
   "execution_count": 18,
   "metadata": {},
   "outputs": [],
   "source": [
    "%run PVModel_functions.ipynb"
   ]
  },
  {
   "cell_type": "code",
   "execution_count": 19,
   "metadata": {},
   "outputs": [],
   "source": [
    "%run PVsystem_filterfunction_jack-may.ipynb"
   ]
  },
  {
   "cell_type": "code",
   "execution_count": 20,
   "metadata": {},
   "outputs": [],
   "source": [
    "import pandas as pd\n",
    "import numpy as np\n",
    "from datetime import datetime\n",
    "import datatools\n",
    "import matplotlib as mpl\n",
    "import matplotlib.pyplot as plt\n",
    "import datetime\n",
    "import pvlib\n",
    "\n",
    "%matplotlib inline \n",
    "from pandas.plotting import register_matplotlib_converters\n",
    "register_matplotlib_converters()\n",
    "\n",
    "mpl.rcParams['font.size']=12\n",
    "mpl.rcParams['lines.linewidth']=1\n",
    "mpl.rcParams['xtick.labelsize']=10\n",
    "#mpl.rcParams['font.weight']='bold'\n",
    "mpl.rcParams['axes.titlesize']=22\n",
    "\n",
    "tablename = 'dbo.SNLA_MET_DataOut'"
   ]
  },
  {
   "cell_type": "code",
   "execution_count": 21,
   "metadata": {},
   "outputs": [],
   "source": [
    "engine = datatools.database.create_mss_engine()"
   ]
  },
  {
   "cell_type": "code",
   "execution_count": 1,
   "metadata": {},
   "outputs": [
    {
     "ename": "NameError",
     "evalue": "name 'met' is not defined",
     "output_type": "error",
     "traceback": [
      "\u001b[1;31m---------------------------------------------------------------------------\u001b[0m",
      "\u001b[1;31mNameError\u001b[0m                                 Traceback (most recent call last)",
      "\u001b[1;32m<ipython-input-1-c621b3eea5d2>\u001b[0m in \u001b[0;36m<module>\u001b[1;34m\u001b[0m\n\u001b[1;32m----> 1\u001b[1;33m \u001b[0mmet\u001b[0m\u001b[1;33m\u001b[0m\u001b[1;33m\u001b[0m\u001b[0m\n\u001b[0m",
      "\u001b[1;31mNameError\u001b[0m: name 'met' is not defined"
     ]
    }
   ],
   "source": []
  },
  {
   "cell_type": "code",
   "execution_count": 22,
   "metadata": {},
   "outputs": [],
   "source": [
    "#Import 1-min Weather Data\n",
    "start = '2020-01-01 00:00:00'\n",
    "#end = pd.to_datetime('today')\n",
    "end = '2021-01-01 00:00:00'\n",
    "met_sql = f\"select * from {tablename} where TmStamp between '{start}' and '{end}';\"\n",
    "#met_sql = f\"select * from {tablename}\"\n",
    "met = pd.read_sql(met_sql, engine, index_col='TmStamp')\n",
    "met.index = pd.DatetimeIndex(met.index)\n",
    "met.index = met.index.tz_localize('MST')"
   ]
  },
  {
   "cell_type": "code",
   "execution_count": 34,
   "metadata": {},
   "outputs": [],
   "source": [
    "#Organizing all necessary data into one df to easily filter & export\n",
    "\n",
    "meteo = met['Global_Wm2_Avg'].to_frame()\n",
    "meteo.rename(columns = {'Global_Wm2_Avg' : 'GHI'}, inplace = True)\n",
    "meteo['DNI'] = met['Direct_Wm2_Avg']\n",
    "meteo['DHI'] = met['Diffuse_Wm2_Avg']\n",
    "meteo['Wind Speed'] = met['WS_ms_Mean']\n",
    "meteo['Ambient Temp'] = met['Temp_C_Avg']\n",
    "meteo['Relative Humidity'] = met['RH_pct_Avg']"
   ]
  },
  {
   "cell_type": "code",
   "execution_count": 35,
   "metadata": {},
   "outputs": [],
   "source": [
    "#Filtering data based on physical bounds\n",
    "\n",
    "meteo = simple_filter(meteo, 'GHI', lower=0, upper=1300, apply=True)\n",
    "meteo = simple_filter(meteo, 'DNI', lower=0, upper=1200, apply=True)\n",
    "meteo = simple_filter(meteo, 'DHI', lower=0, upper=800, apply=True)\n",
    "meteo = simple_filter(meteo, 'Wind Speed', lower=0, upper=32, apply=True)\n",
    "meteo = simple_filter(meteo, 'Ambient Temp', lower=-40, upper=60, apply=True)\n",
    "meteo = simple_filter(meteo, 'Relative Humidity', lower=0, upper=100, apply=True)"
   ]
  },
  {
   "cell_type": "code",
   "execution_count": 36,
   "metadata": {},
   "outputs": [],
   "source": [
    "#Resample into hourly increments\n",
    "meteo = meteo.resample('H', closed='right', label='right').mean()"
   ]
  },
  {
   "cell_type": "code",
   "execution_count": 37,
   "metadata": {},
   "outputs": [
    {
     "name": "stdout",
     "output_type": "stream",
     "text": [
      "The percent of filtered data is 46.22652248150256\n"
     ]
    }
   ],
   "source": [
    "#Count NaN's to see percent filtered\n",
    "print(\"The percent of filtered data is \" + str(100*((meteo.isna().sum()[1])/8785)))"
   ]
  },
  {
   "cell_type": "markdown",
   "metadata": {},
   "source": [
    "Albedo comes from the sys files, is filtered from 0.15<x<0.25 and is resampled on monthly intervals using rhs closed & label methods"
   ]
  },
  {
   "cell_type": "code",
   "execution_count": 38,
   "metadata": {},
   "outputs": [],
   "source": [
    "meteo.to_csv('albq_raw_meteo.csv')"
   ]
  },
  {
   "cell_type": "code",
   "execution_count": null,
   "metadata": {},
   "outputs": [],
   "source": []
  }
 ],
 "metadata": {
  "kernelspec": {
   "display_name": "PVModel",
   "language": "python",
   "name": "pvmodel"
  },
  "language_info": {
   "codemirror_mode": {
    "name": "ipython",
    "version": 3
   },
   "file_extension": ".py",
   "mimetype": "text/x-python",
   "name": "python",
   "nbconvert_exporter": "python",
   "pygments_lexer": "ipython3",
   "version": "3.8.8"
  }
 },
 "nbformat": 4,
 "nbformat_minor": 4
}
